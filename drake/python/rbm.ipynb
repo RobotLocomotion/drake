{
 "cells": [
  {
   "cell_type": "code",
   "execution_count": 1,
   "metadata": {
    "collapsed": false
   },
   "outputs": [],
   "source": [
    "import numpy as np\n",
    "import drake.rbm_wrapper as rbm\n",
    "import drake.ik_wrapper as ik\n",
    "import drake.systems as sys\n",
    "import drake.examples as examples\n",
    "import drake.lcm_wrapper as lcm"
   ]
  },
  {
   "cell_type": "code",
   "execution_count": 2,
   "metadata": {
    "collapsed": false
   },
   "outputs": [],
   "source": [
    "r = rbm.RigidBodyManipulator(\"../examples/Pendulum/Pendulum.urdf\")"
   ]
  },
  {
   "cell_type": "code",
   "execution_count": 3,
   "metadata": {
    "collapsed": false
   },
   "outputs": [],
   "source": [
    "q = -0.9\n",
    "posture_constraint = ik.PostureConstraint(r)\n",
    "posture_constraint.setJointLimits(np.array([[6]], dtype=np.int32), \n",
    "                                  np.array([[q]]), \n",
    "                                  np.array([[q]]))"
   ]
  },
  {
   "cell_type": "code",
   "execution_count": 4,
   "metadata": {
    "collapsed": false
   },
   "outputs": [],
   "source": [
    "lc = lcm.LCM()\n",
    "p = examples.PendulumWithBotVis(lc)"
   ]
  },
  {
   "cell_type": "code",
   "execution_count": 5,
   "metadata": {
    "collapsed": false
   },
   "outputs": [],
   "source": [
    "q_seed = np.vstack((np.zeros((6,1)), \n",
    "                    p.getRandomState()[:1]))\n",
    "q_nom = np.vstack((np.zeros((6,1)), \n",
    "                   0.))\n",
    "options = ik.IKoptions(r)\n",
    "results = ik.inverseKinSimple(r, \n",
    "                              q_seed, \n",
    "                              q_nom, \n",
    "                              [posture_constraint], \n",
    "                              options)"
   ]
  },
  {
   "cell_type": "code",
   "execution_count": 6,
   "metadata": {
    "collapsed": false
   },
   "outputs": [
    {
     "data": {
      "text/plain": [
       "array([[-0.9],\n",
       "       [ 0. ]])"
      ]
     },
     "execution_count": 6,
     "metadata": {},
     "output_type": "execute_result"
    }
   ],
   "source": [
    "p.output(0., np.vstack((results.q_sol[6:], 0.)), np.zeros((1,)))"
   ]
  },
  {
   "cell_type": "code",
   "execution_count": null,
   "metadata": {
    "collapsed": true
   },
   "outputs": [],
   "source": []
  }
 ],
 "metadata": {
  "kernelspec": {
   "display_name": "Python 2",
   "language": "python",
   "name": "python2"
  },
  "language_info": {
   "codemirror_mode": {
    "name": "ipython",
    "version": 2
   },
   "file_extension": ".py",
   "mimetype": "text/x-python",
   "name": "python",
   "nbconvert_exporter": "python",
   "pygments_lexer": "ipython2",
   "version": "2.7.10"
  }
 },
 "nbformat": 4,
 "nbformat_minor": 0
}
