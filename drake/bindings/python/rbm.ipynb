{
 "cells": [
  {
   "cell_type": "code",
   "execution_count": 1,
   "metadata": {
    "collapsed": true
   },
   "outputs": [],
   "source": [
    "import sys\n",
    "sys.path.insert(0, \"/Users/rdeits/locomotion/drake-distro/rd-swig-matlab/build/lib/python2.7/dist-packages\")"
   ]
  },
  {
   "cell_type": "code",
   "execution_count": 2,
   "metadata": {
    "collapsed": false
   },
   "outputs": [
    {
     "name": "stderr",
     "output_type": "stream",
     "text": [
      "/Users/rdeits/locomotion/drake-distro/rd-swig-matlab/build/lib/python2.7/dist-packages/pydrake/__init__.py:4: FutureWarning: This API is completely experimental and likely to change very soon. Use with caution.\n",
      "  warnings.warn(\"This API is completely experimental and likely to change very soon. Use with caution.\", FutureWarning)\n"
     ]
    }
   ],
   "source": [
    "import numpy as np\n",
    "import pydrake\n",
    "from pydrake.solvers import ik\n",
    "from pydrake.examples.pendulum import PendulumWithBotVis"
   ]
  },
  {
   "cell_type": "code",
   "execution_count": 3,
   "metadata": {
    "collapsed": false
   },
   "outputs": [],
   "source": [
    "# Construct our model\n",
    "r = pydrake.rbm.RigidBodyManipulator(\"../../examples/Pendulum/Pendulum.urdf\")\n",
    "lc = pydrake.wrappers.lcm.LCM()\n",
    "p = PendulumWithBotVis(lc)"
   ]
  },
  {
   "cell_type": "code",
   "execution_count": 4,
   "metadata": {
    "collapsed": false
   },
   "outputs": [
    {
     "data": {
      "text/plain": [
       "array([[-0.9],\n",
       "       [ 0. ]])"
      ]
     },
     "execution_count": 4,
     "metadata": {},
     "output_type": "execute_result"
    }
   ],
   "source": [
    "# Inverse Kinematics:\n",
    "# \n",
    "# Construct a posture constraint for the pendulum's joint\n",
    "q = -0.9\n",
    "posture_constraint = ik.PostureConstraint(r)\n",
    "posture_constraint.setJointLimits(np.array([[6]], dtype=np.int32), \n",
    "                                  np.array([[q]]), \n",
    "                                  np.array([[q]]))\n",
    "# Choose a seed configuration (randomly) and a nominal configuration (at 0)\n",
    "q_seed = np.vstack((np.zeros((6,1)), \n",
    "                    p.getRandomState()[:1]))\n",
    "q_nom = np.vstack((np.zeros((6,1)), \n",
    "                   0.))\n",
    "\n",
    "# Run the ik solver and draw the result\n",
    "options = ik.IKoptions(r)\n",
    "results = pydrake.solvers.ik.inverseKinSimple(r, \n",
    "                              q_seed, \n",
    "                              q_nom, \n",
    "                              [posture_constraint], \n",
    "                              options)\n",
    "p.output(0., np.vstack((results.q_sol[6:], 0.)), np.zeros((1,)))"
   ]
  },
  {
   "cell_type": "code",
   "execution_count": 12,
   "metadata": {
    "collapsed": false
   },
   "outputs": [],
   "source": [
    "# Kinematics and Gradients:\n",
    "# \n",
    "# Pre-compute kinematic information\n",
    "kinsol = r.doKinematics(results.q_sol, np.zeros_like(results.q_sol), 1, True)"
   ]
  },
  {
   "cell_type": "code",
   "execution_count": 13,
   "metadata": {
    "collapsed": false
   },
   "outputs": [
    {
     "data": {
      "text/plain": [
       "<pydrake.rbm.KinematicsCache_d; proxy of <Swig Object of type 'KinematicsCache< double > *' at 0x10f256720> >"
      ]
     },
     "execution_count": 13,
     "metadata": {},
     "output_type": "execute_result"
    }
   ],
   "source": [
    "kinsol"
   ]
  },
  {
   "cell_type": "code",
   "execution_count": 14,
   "metadata": {
    "collapsed": false
   },
   "outputs": [
    {
     "data": {
      "text/plain": [
       "array([[ 0.19583173],\n",
       "       [ 0.        ],\n",
       "       [-0.14790249]])"
      ]
     },
     "execution_count": 14,
     "metadata": {},
     "output_type": "execute_result"
    }
   ],
   "source": [
    "# Compute the center of mass\n",
    "r.centerOfMass(kinsol)"
   ]
  },
  {
   "cell_type": "code",
   "execution_count": 15,
   "metadata": {
    "collapsed": false
   },
   "outputs": [
    {
     "data": {
      "text/plain": [
       "array([[ 1.40493688],\n",
       "       [ 0.        ],\n",
       "       [-0.16171694],\n",
       "       [ 0.        ],\n",
       "       [ 0.9       ],\n",
       "       [ 0.        ]])"
      ]
     },
     "execution_count": 15,
     "metadata": {},
     "output_type": "execute_result"
    }
   ],
   "source": [
    "r.forwardKin(kinsol, np.array([1.,0,1.]), 0, 2, 1)"
   ]
  },
  {
   "cell_type": "code",
   "execution_count": null,
   "metadata": {
    "collapsed": true
   },
   "outputs": [],
   "source": []
  }
 ],
 "metadata": {
  "kernelspec": {
   "display_name": "Python 2",
   "language": "python",
   "name": "python2"
  },
  "language_info": {
   "codemirror_mode": {
    "name": "ipython",
    "version": 2
   },
   "file_extension": ".py",
   "mimetype": "text/x-python",
   "name": "python",
   "nbconvert_exporter": "python",
   "pygments_lexer": "ipython2",
   "version": "2.7.10"
  }
 },
 "nbformat": 4,
 "nbformat_minor": 0
}
