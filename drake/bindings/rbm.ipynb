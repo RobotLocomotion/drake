{
 "cells": [
  {
   "cell_type": "code",
   "execution_count": 1,
   "metadata": {
    "collapsed": false
   },
   "outputs": [],
   "source": [
    "import numpy as np\n",
    "import pydrake\n",
    "from pydrake.solvers import ik\n",
    "from pydrake.examples.pendulum import PendulumWithBotVis"
   ]
  },
  {
   "cell_type": "code",
   "execution_count": 2,
   "metadata": {
    "collapsed": false
   },
   "outputs": [],
   "source": [
    "# Construct our model\n",
    "r = pydrake.rbm.RigidBodyManipulator(\"../examples/Pendulum/Pendulum.urdf\")\n",
    "lc = pydrake.wrappers.lcm.LCM()\n",
    "p = PendulumWithBotVis(lc)"
   ]
  },
  {
   "cell_type": "code",
   "execution_count": 54,
   "metadata": {
    "collapsed": false
   },
   "outputs": [
    {
     "data": {
      "text/plain": [
       "array([[-0.9],\n",
       "       [ 0. ]])"
      ]
     },
     "execution_count": 54,
     "metadata": {},
     "output_type": "execute_result"
    }
   ],
   "source": [
    "# Inverse Kinematics:\n",
    "# \n",
    "# Construct a posture constraint for the pendulum's joint\n",
    "q = -0.9\n",
    "posture_constraint = ik.PostureConstraint(r)\n",
    "posture_constraint.setJointLimits(np.array([[6]], dtype=np.int32), \n",
    "                                  np.array([[q]]), \n",
    "                                  np.array([[q]]))\n",
    "# Choose a seed configuration (randomly) and a nominal configuration (at 0)\n",
    "q_seed = np.vstack((np.zeros((6,1)), \n",
    "                    p.getRandomState()[:1]))\n",
    "q_nom = np.vstack((np.zeros((6,1)), \n",
    "                   0.))\n",
    "\n",
    "# Run the ik solver and draw the result\n",
    "options = ik.IKoptions(r)\n",
    "results = pydrake.solvers.ik.inverseKinSimple(r, \n",
    "                              q_seed, \n",
    "                              q_nom, \n",
    "                              [posture_constraint], \n",
    "                              options)\n",
    "p.output(0., np.vstack((results.q_sol[6:], 0.)), np.zeros((1,)))"
   ]
  },
  {
   "cell_type": "code",
   "execution_count": 55,
   "metadata": {
    "collapsed": false
   },
   "outputs": [],
   "source": [
    "# Kinematics and Gradients:\n",
    "# \n",
    "# Pre-compute kinematic information and gradients\n",
    "r.doKinematics(results.q_sol, np.zeros_like(results.q_sol), True)"
   ]
  },
  {
   "cell_type": "code",
   "execution_count": 56,
   "metadata": {
    "collapsed": false
   },
   "outputs": [
    {
     "data": {
      "text/plain": [
       "(array([[ 0.19583173],\n",
       "        [ 0.        ],\n",
       "        [-0.14790249]]),)"
      ]
     },
     "execution_count": 56,
     "metadata": {},
     "output_type": "execute_result"
    }
   ],
   "source": [
    "# Compute the center of mass and no gradients. The result is a tuple with one element.\n",
    "r.centerOfMass(0)"
   ]
  },
  {
   "cell_type": "code",
   "execution_count": 57,
   "metadata": {
    "collapsed": false
   },
   "outputs": [
    {
     "data": {
      "text/plain": [
       "(array([[ 0.19583173],\n",
       "        [ 0.        ],\n",
       "        [-0.14790249]]),\n",
       " array([[ 1.        ,  0.        ,  0.        ,  0.        , -0.14790249,\n",
       "          0.        , -0.15540249],\n",
       "        [ 0.        ,  1.        ,  0.        ,  0.14790249,  0.        ,\n",
       "          0.19583173,  0.        ],\n",
       "        [ 0.        ,  0.        ,  1.        ,  0.        , -0.19583173,\n",
       "          0.        , -0.19583173]]))"
      ]
     },
     "execution_count": 57,
     "metadata": {},
     "output_type": "execute_result"
    }
   ],
   "source": [
    "# Compute the center of mass and its gradient. The result is a tuple with two elements.\n",
    "r.centerOfMass(1)"
   ]
  },
  {
   "cell_type": "code",
   "execution_count": 58,
   "metadata": {
    "collapsed": false
   },
   "outputs": [
    {
     "data": {
      "text/plain": [
       "(array([[ 0.19583173],\n",
       "        [ 0.        ],\n",
       "        [-0.14790249]]),\n",
       " array([[ 1.        ,  0.        ,  0.        ,  0.        , -0.14790249,\n",
       "          0.        , -0.15540249],\n",
       "        [ 0.        ,  1.        ,  0.        ,  0.14790249,  0.        ,\n",
       "          0.19583173,  0.        ],\n",
       "        [ 0.        ,  0.        ,  1.        ,  0.        , -0.19583173,\n",
       "          0.        , -0.19583173]]),\n",
       " array([[ 0.        ,  0.        ,  0.        ,  0.        ,  0.        ,\n",
       "          0.        ,  0.        ],\n",
       "        [ 0.        ,  0.        ,  0.        ,  0.        ,  0.        ,\n",
       "          0.        ,  0.        ],\n",
       "        [ 0.        ,  0.        ,  0.        ,  0.        ,  0.        ,\n",
       "          0.        ,  0.        ],\n",
       "        [ 0.        ,  0.        ,  0.        ,  0.        ,  0.        ,\n",
       "          0.        ,  0.        ],\n",
       "        [ 0.        ,  0.        ,  0.        ,  0.        ,  0.        ,\n",
       "          0.        ,  0.        ],\n",
       "        [ 0.        ,  0.        ,  0.        ,  0.        ,  0.        ,\n",
       "          0.        ,  0.        ],\n",
       "        [ 0.        ,  0.        ,  0.        ,  0.        ,  0.        ,\n",
       "          0.        ,  0.        ],\n",
       "        [ 0.        ,  0.        ,  0.        ,  0.        ,  0.        ,\n",
       "          0.        ,  0.        ],\n",
       "        [ 0.        ,  0.        ,  0.        ,  0.        ,  0.        ,\n",
       "          0.        ,  0.        ],\n",
       "        [ 0.        ,  0.        ,  0.        ,  0.        ,  0.        ,\n",
       "         -0.14790249,  0.        ],\n",
       "        [ 0.        ,  0.        ,  0.        ,  0.        ,  0.        ,\n",
       "          0.        ,  0.19583173],\n",
       "        [ 0.        ,  0.        ,  0.        ,  0.14790249,  0.        ,\n",
       "          0.        ,  0.        ],\n",
       "        [ 0.        ,  0.        ,  0.        ,  0.        , -0.19583173,\n",
       "          0.        , -0.19583173],\n",
       "        [ 0.        ,  0.        ,  0.        ,  0.        ,  0.        ,\n",
       "         -0.14790249,  0.        ],\n",
       "        [ 0.        ,  0.        ,  0.        ,  0.        ,  0.14790249,\n",
       "          0.        ,  0.15540249],\n",
       "        [ 0.        ,  0.        ,  0.        , -0.14790249,  0.        ,\n",
       "         -0.19583173,  0.        ],\n",
       "        [ 0.        ,  0.        ,  0.        ,  0.        , -0.14790249,\n",
       "          0.        , -0.15540249],\n",
       "        [ 0.        ,  0.        ,  0.        ,  0.        ,  0.        ,\n",
       "          0.        ,  0.        ],\n",
       "        [ 0.        ,  0.        ,  0.        ,  0.        , -0.19583173,\n",
       "          0.        , -0.19583173],\n",
       "        [ 0.        ,  0.        ,  0.        ,  0.19583173,  0.        ,\n",
       "         -0.15540249,  0.        ],\n",
       "        [ 0.        ,  0.        ,  0.        ,  0.        ,  0.15540249,\n",
       "          0.        ,  0.15540249]]))"
      ]
     },
     "execution_count": 58,
     "metadata": {},
     "output_type": "execute_result"
    }
   ],
   "source": [
    "# Compute the center of mass and two gradients\n",
    "r.centerOfMass(2)"
   ]
  },
  {
   "cell_type": "code",
   "execution_count": null,
   "metadata": {
    "collapsed": true
   },
   "outputs": [],
   "source": []
  }
 ],
 "metadata": {
  "kernelspec": {
   "display_name": "Python 2",
   "language": "python",
   "name": "python2"
  },
  "language_info": {
   "codemirror_mode": {
    "name": "ipython",
    "version": 2
   },
   "file_extension": ".py",
   "mimetype": "text/x-python",
   "name": "python",
   "nbconvert_exporter": "python",
   "pygments_lexer": "ipython2",
   "version": "2.7.6"
  }
 },
 "nbformat": 4,
 "nbformat_minor": 0
}
