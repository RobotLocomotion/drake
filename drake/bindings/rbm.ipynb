{
 "cells": [
  {
   "cell_type": "code",
   "execution_count": 1,
   "metadata": {
    "collapsed": false
   },
   "outputs": [],
   "source": [
    "import numpy as np\n",
    "import pydrake\n",
    "from pydrake.solvers import ik\n",
    "from pydrake.examples.pendulum import PendulumWithBotVis"
   ]
  },
  {
   "cell_type": "code",
   "execution_count": 2,
   "metadata": {
    "collapsed": false
   },
   "outputs": [],
   "source": [
    "# Construct our model\n",
    "r = pydrake.rbm.RigidBodyManipulator(\"../examples/Pendulum/Pendulum.urdf\")\n",
    "lc = pydrake.wrappers.lcm.LCM()\n",
    "p = PendulumWithBotVis(lc)"
   ]
  },
  {
   "cell_type": "code",
   "execution_count": 3,
   "metadata": {
    "collapsed": false
   },
   "outputs": [
    {
     "data": {
      "text/plain": [
       "array([[-0.9],\n",
       "       [ 0. ]])"
      ]
     },
     "execution_count": 3,
     "metadata": {},
     "output_type": "execute_result"
    }
   ],
   "source": [
    "# Inverse Kinematics:\n",
    "# \n",
    "# Construct a posture constraint for the pendulum's joint\n",
    "q = -0.9\n",
    "posture_constraint = ik.PostureConstraint(r)\n",
    "posture_constraint.setJointLimits(np.array([[6]], dtype=np.int32), \n",
    "                                  np.array([[q]]), \n",
    "                                  np.array([[q]]))\n",
    "# Choose a seed configuration (randomly) and a nominal configuration (at 0)\n",
    "q_seed = np.vstack((np.zeros((6,1)), \n",
    "                    p.getRandomState()[:1]))\n",
    "q_nom = np.vstack((np.zeros((6,1)), \n",
    "                   0.))\n",
    "\n",
    "# Run the ik solver and draw the result\n",
    "options = ik.IKoptions(r)\n",
    "results = pydrake.solvers.ik.inverseKinSimple(r, \n",
    "                              q_seed, \n",
    "                              q_nom, \n",
    "                              [posture_constraint], \n",
    "                              options)\n",
    "p.output(0., np.vstack((results.q_sol[6:], 0.)), np.zeros((1,)))"
   ]
  },
  {
   "cell_type": "code",
   "execution_count": 4,
   "metadata": {
    "collapsed": false
   },
   "outputs": [],
   "source": [
    "# Kinematics and Gradients:\n",
    "# \n",
    "# Pre-compute kinematic information and gradients\n",
    "r.doKinematics(np.zeros((6,1)), np.zeros((6,1)), True)"
   ]
  },
  {
   "cell_type": "code",
   "execution_count": 5,
   "metadata": {
    "collapsed": false
   },
   "outputs": [
    {
     "data": {
      "text/plain": [
       "(array([[ 0.    ],\n",
       "        [ 0.    ],\n",
       "        [-0.2425]]),)"
      ]
     },
     "execution_count": 5,
     "metadata": {},
     "output_type": "execute_result"
    }
   ],
   "source": [
    "# Compute the center of mass and no gradients. The result is a tuple with one element.\n",
    "r.centerOfMass(0)"
   ]
  },
  {
   "cell_type": "code",
   "execution_count": 6,
   "metadata": {
    "collapsed": false
   },
   "outputs": [
    {
     "data": {
      "text/plain": [
       "(array([[ 0.    ],\n",
       "        [ 0.    ],\n",
       "        [-0.2425]]),\n",
       " array([[ 1.    ,  0.    ,  0.    ,  0.    , -0.2425,  0.    , -0.25  ],\n",
       "        [ 0.    ,  1.    ,  0.    ,  0.2425,  0.    ,  0.    ,  0.    ],\n",
       "        [ 0.    ,  0.    ,  1.    ,  0.    ,  0.    ,  0.    ,  0.    ]]))"
      ]
     },
     "execution_count": 6,
     "metadata": {},
     "output_type": "execute_result"
    }
   ],
   "source": [
    "# Compute the center of mass and its gradient. The result is a tuple with two elements.\n",
    "r.centerOfMass(1)"
   ]
  },
  {
   "cell_type": "code",
   "execution_count": 7,
   "metadata": {
    "collapsed": false
   },
   "outputs": [
    {
     "data": {
      "text/plain": [
       "(array([[ 0.    ],\n",
       "        [ 0.    ],\n",
       "        [-0.2425]]),\n",
       " array([[ 1.    ,  0.    ,  0.    ,  0.    , -0.2425,  0.    , -0.25  ],\n",
       "        [ 0.    ,  1.    ,  0.    ,  0.2425,  0.    ,  0.    ,  0.    ],\n",
       "        [ 0.    ,  0.    ,  1.    ,  0.    ,  0.    ,  0.    ,  0.    ]]),\n",
       " array([[ 0.    ,  0.    ,  0.    ,  0.    ,  0.    ,  0.    ,  0.    ],\n",
       "        [ 0.    ,  0.    ,  0.    ,  0.    ,  0.    ,  0.    ,  0.    ],\n",
       "        [ 0.    ,  0.    ,  0.    ,  0.    ,  0.    ,  0.    ,  0.    ],\n",
       "        [ 0.    ,  0.    ,  0.    ,  0.    ,  0.    ,  0.    ,  0.    ],\n",
       "        [ 0.    ,  0.    ,  0.    ,  0.    ,  0.    ,  0.    ,  0.    ],\n",
       "        [ 0.    ,  0.    ,  0.    ,  0.    ,  0.    ,  0.    ,  0.    ],\n",
       "        [ 0.    ,  0.    ,  0.    ,  0.    ,  0.    ,  0.    ,  0.    ],\n",
       "        [ 0.    ,  0.    ,  0.    ,  0.    ,  0.    ,  0.    ,  0.    ],\n",
       "        [ 0.    ,  0.    ,  0.    ,  0.    ,  0.    ,  0.    ,  0.    ],\n",
       "        [ 0.    ,  0.    ,  0.    ,  0.    ,  0.    , -0.2425,  0.    ],\n",
       "        [ 0.    ,  0.    ,  0.    ,  0.    ,  0.    ,  0.    ,  0.    ],\n",
       "        [ 0.    ,  0.    ,  0.    ,  0.2425,  0.    ,  0.    ,  0.    ],\n",
       "        [ 0.    ,  0.    ,  0.    ,  0.    ,  0.    ,  0.    ,  0.    ],\n",
       "        [ 0.    ,  0.    ,  0.    ,  0.    ,  0.    , -0.2425,  0.    ],\n",
       "        [ 0.    ,  0.    ,  0.    ,  0.    ,  0.2425,  0.    ,  0.25  ],\n",
       "        [ 0.    ,  0.    ,  0.    , -0.2425,  0.    ,  0.    ,  0.    ],\n",
       "        [ 0.    ,  0.    ,  0.    ,  0.    , -0.2425,  0.    , -0.25  ],\n",
       "        [ 0.    ,  0.    ,  0.    ,  0.    ,  0.    ,  0.    ,  0.    ],\n",
       "        [ 0.    ,  0.    ,  0.    ,  0.    ,  0.    ,  0.    ,  0.    ],\n",
       "        [ 0.    ,  0.    ,  0.    ,  0.    ,  0.    , -0.25  ,  0.    ],\n",
       "        [ 0.    ,  0.    ,  0.    ,  0.    ,  0.25  ,  0.    ,  0.25  ]]))"
      ]
     },
     "execution_count": 7,
     "metadata": {},
     "output_type": "execute_result"
    }
   ],
   "source": [
    "# Compute the center of mass and two gradients\n",
    "r.centerOfMass(2)"
   ]
  },
  {
   "cell_type": "code",
   "execution_count": null,
   "metadata": {
    "collapsed": true
   },
   "outputs": [],
   "source": []
  }
 ],
 "metadata": {
  "kernelspec": {
   "display_name": "Python 2",
   "language": "python",
   "name": "python2"
  },
  "language_info": {
   "codemirror_mode": {
    "name": "ipython",
    "version": 2
   },
   "file_extension": ".py",
   "mimetype": "text/x-python",
   "name": "python",
   "nbconvert_exporter": "python",
   "pygments_lexer": "ipython2",
   "version": "2.7.6"
  }
 },
 "nbformat": 4,
 "nbformat_minor": 0
}
