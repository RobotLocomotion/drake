{
 "cells": [
  {
   "cell_type": "markdown",
   "metadata": {},
   "source": [
    "# Hydroelastic Contact: Basics\n",
    "For instructions on how to run these tutorial notebooks, please see the [index](./index.ipynb).\n",
    "\n",
    "If you are not familiar with Drake, see the [index](./index.ipynb) or study [authoring_multibody_simulation.ipynb](./authoring_multibody_simulation.ipynb). You can also find more information in Hydroelastic Contact User Guide [here.](https://drake.mit.edu/doxygen_cxx/group__hydroelastic__user__guide.html)"
   ]
  },
  {
   "cell_type": "markdown",
   "metadata": {},
   "source": [
    "## Introduction\n",
    "\n",
    "This tutorial shows you how to set up dynamic simulations with hydroelastic contacts. It also shows you how to report contact results numerically and visualize them in MeshCat. For context, we use a simple example of a compliant block dropped onto a rigid horizontal rectangular plate. Contact forces are calculated and visualized.\n",
    "\n",
    "For example, the below-left picture shows one frame of the block's contact, with the complex set of contact forces visualized as a contact wrench (force/torque), with the force as a red arrow and the torque as a blue arrow. The below-right picture zooms into the hydroelastic contact surface showing pressure distribution, with black for zero pressure (right edge) and white for highest pressure (left-edge). Because the block is rocking back and forth on the plate, the contact patch is located at one edge of the bottom face of the block instead of the entire rectangular face.\n",
    "\n",
    "![HydroelasticTutorialImage600x388.jpg](https://drake.mit.edu/doxygen_cxx/HydroelasticTutorialImage600x388.jpg)\n",
    "\n",
    "Drake's *Hydroelastic Contact Model* evolved at Toyota Research Institute in conjunction with the work by Ryan Elandt who invented the [*Pressure Field Contact (PFC)*](https://ecommons.cornell.edu/handle/1813/112919) model.  Ryan's PhD thesis describes the usefulness of the PFC model:\n",
    "\n",
    "> \"*...This model is useful in situations where deformation in the contact region is qualitatively important, but need not be accurate. PFC is a model of, and not a convergent approximation of, continuum mechanics. In PFC, each of the two contacting objects is assigned an immutable internal virtual pressure field. ... the PFC contact surface is defined as the set of points where the two pressure fields are equal. ...*\"\n",
    "\n",
    "For an excellent overview of hydroelastic contact, read these two articles (less than 10 minutes each):\n",
    "\n",
    "- [Rethinking Contact Simulation for Robot Manipulation](https://medium.com/toyotaresearch/rethinking-contact-simulation-for-robot-manipulation-434a56b5ec88)\n",
    "- [Drake: Model-based design in the age of robotics and machine learning.](https://medium.com/toyotaresearch/drake-model-based-design-in-the-age-of-robotics-and-machine-learning-59938c985515)\n",
    "\n",
    "Generally, hydroelastic contact is faster than Finite Element Analysis (FEA) and more continous and stable than point contact models, particularly in realistic situations involving friction, rolling, energy dissipation, and non-convex geometries. Hydroelastic contact does not include deformation (as in FEA) and is slower than the point contact models used in some simulators (including an optional one in Drake).\n",
    "\n",
    "When two rigid bodies are interacting due to hydroelastic contact, neither has actual mechanical deformation, i.e., the bodys' mass, center of mass, and inertia properties are unaffected by hydroelastic contact. However, their force interaction is calculated as if there were deformation."
   ]
  },
  {
   "cell_type": "markdown",
   "metadata": {},
   "source": [
    "### Compliant-hydroelastic geometries and rigid-hydroelastic geometries\n",
    "\n",
    "There are two types of hydroelastic geometries. The first, called \"compliant-hydroelastic\", is a solid which contains a tetrahedral mesh that describes an internal pressure field. (Note: the pressure on the solid's surface is zero, and for fast computation, the simulator pre-calculates the internal pressure field -- before a contact is possible). The second, called \"rigid-hydroelastic\", only has a triangle surface mesh (hence the geometry may be a solid or a surface) and is regarded as infinitely stiff.\n",
    "\n",
    "![HydroelasticTutorialCompliantRigidOutsideInside800x669.jpg](https://drake.mit.edu/doxygen_cxx/HydroelasticTutorialCompliantRigidOutsideInside800x669.jpg)"
   ]
  },
  {
   "cell_type": "markdown",
   "metadata": {},
   "source": [
    "### Contact surface\n",
    "\n",
    "The figure below shows contact between a compliant-hydroelastic cylinder and a compliant-hydroelastic sphere. The contact surface is internal to both solids and is defined as the surface where the two pressure fields are equal. The shading on the contact surface shows pressure distribution varying from black (zero pressure) to red (high pressure). Mathematically, the contact surface is a blending surface between the intersecting portions of the cylinder's surface and the sphere's surface. Conceptually, for two similarly-sized spheres, the contact surface is closer to the surface of the sphere that has the larger hydroelastic modulus. See [this section](https://drake.mit.edu/doxygen_cxx/group__hydroelastic__user__guide.html#hug_hydro_theory) in Hydroelastic Contact User guide.\n",
    "\n",
    "![HydroelasticTutorialContactSurfaceCompliantCompliant.png](https://drake.mit.edu/doxygen_cxx/HydroelasticTutorialContactSurfaceCompliantCompliant.png)\n",
    "\n",
    "Since a rigid-hydroelastic geometry is regarded as infinitely stiff, the contact surface between a compliant-hydroelastic geometry and a rigid-hydroelastic geometry is on the surface of the rigid-hydroelastic geometry. As pictured below, two hydroelastic-compliant ellipsoidal bubble fingers are in contact with a rigid-hydroelastic cylindrical spatula handle. Hence, the contact surfaces are on the surface of the spatula handle.\n",
    "\n",
    "\n",
    "![HydroelasticTutorialContactSurfaceRigidCompliantBubble.png](https://drake.mit.edu/doxygen_cxx/HydroelasticTutorialContactSurfaceRigidCompliantBubble.png)"
   ]
  },
  {
   "cell_type": "markdown",
   "metadata": {},
   "source": [
    "### Contact mode between compliant-hydroelastic geometries and rigid-hydroelastic geometries\n",
    "\n",
    "In general, consider using compliant-hydroelastic geometries because the object's stiffness can be specified through its hydroelastic modulus to be as compliant as rubber or as stiff as steel. Compliant-hydroelastic geometries need tetrahedral meshes. Drake can automatically generate tetrahedral meshes of compliant-hydroelastic geometries for built-in shapes such as spheres, ellipsoids, cylinders, capsules, boxes, and for solids with a convex surface mesh. For non-convex objects, each mesh must be provided as a VTK file (not a .obj file) containing a tetrahedral mesh to use them as compliant-hydroelastic geometries.\n",
    "\n",
    "Compliant-hydroelastic objects interact well with either compliant-hydroelastic objects or with rigid-hydroelastic objects.\n",
    "\n",
    "Alternatively, an important use for rigid-hydroelastic geometry is for an object with a non-convex surface mesh (e.g., .obj file) whose associated tetrahedral volume mesh is not readily available. Currently, a rigid-hydroelastic geometry can only interact with compliant-hydroelastic objects. If it interacts with another rigid-hydroelastic object, the simulator reverts to point contact. The table below elaborates these and other cases.\n",
    "\n",
    "\n",
    "|                                     | rigid-hydroelastic geometry   | compliant-hydroelastic geometry |\n",
    "|:------------------------------------|:------------------------------|:--------------------------------|\n",
    "| **rigid-hydroelastic geometry**     | point contact                 | hydroelastic contact            |\n",
    "| **compliant-hydroelastic geometry** | hydroelastic contact          | hydroelastic contact            |\n",
    "| **non-hydroelastic geometry**       | point contact                 | point contact                   |\n",
    "\n"
   ]
  },
  {
   "cell_type": "markdown",
   "metadata": {},
   "source": [
    "## Outline\n",
    "\n",
    "This tutorial shows you how to:\n",
    "\n",
    "1. Define SDFormat string for a compliant-hydroelastic box.\n",
    "\n",
    "    * Define a visual geometry.\n",
    "    * Define a collision geometry with hydroelastic properties.\n",
    "    * Define mass and inertia properties.\n",
    "\n",
    "\n",
    "2. Define SDFormat string for a rigid-hydroelastic box.\n",
    "\n",
    "3. Create Diagram of MultibodyPlant using the two boxes.\n",
    "\n",
    "4. Visualize the simulation.\n",
    "\n",
    "5. Create a LeafSystem to numerically report contact results at the end of a simulation.\n",
    "\n",
    "6. Add ContactVisualizer to visualize contact results."
   ]
  },
  {
   "cell_type": "markdown",
   "metadata": {},
   "source": [
    "## Start MeshCat\n",
    "\n",
    "See the section [Viewing models](./authoring_multibody_simulation.ipynb#Viewing-models) in the tutorial [Authoring a Multibody Simulation](./authoring_multibody_simulation.ipynb) for an introduction to MeshCat."
   ]
  },
  {
   "cell_type": "code",
   "execution_count": null,
   "metadata": {},
   "outputs": [],
   "source": [
    "from pydrake.geometry import StartMeshcat\n",
    "\n",
    "# Start the visualizer. The cell will output an HTTP link after the execution.\n",
    "# Click the link and a MeshCat tab should appear in your browser.\n",
    "meshcat = StartMeshcat()"
   ]
  },
  {
   "cell_type": "markdown",
   "metadata": {},
   "source": [
    "## Create compliant-hydroelastic box\n",
    "\n",
    "*Make sure you have the MeshCat tab opened in your browser;\n",
    "the link is shown immediately above.*\n",
    "\n",
    "We will create and visualize a compliant-hydroelastic box with SDFormat string.\n",
    "\n",
    "We will use `ModelVisualizer` to verify the SDFormat description.\n",
    "It will tell MeshCat to show the box."
   ]
  },
  {
   "cell_type": "markdown",
   "metadata": {},
   "source": [
    "### Visual geometry\n",
    "\n",
    "First we create a visual geometry of a box of size 10cm x 20cm x 40cm. Observe in MeshCat the X(red), Y(green), and Z(blue) axes. The `<size>0.10 0.20 0.40</size>` specifies the dimensions of the box in meters. The `<diffuse>` tag specifies the RGB and alpha values between 0 and 1."
   ]
  },
  {
   "cell_type": "code",
   "execution_count": null,
   "metadata": {},
   "outputs": [],
   "source": [
    "from pydrake.visualization import ModelVisualizer\n",
    "\n",
    "visual_box_sdf = \"\"\"<?xml version=\"1.0\"?>\n",
    "<sdf version=\"1.7\">\n",
    "  <model name=\"CompliantBox\">\n",
    "    <pose>0 0 0 0 0 0</pose>\n",
    "    <link name=\"compliant_box\">\n",
    "      <visual name=\"visual\">\n",
    "        <geometry>\n",
    "          <box>\n",
    "            <size>0.10 0.20 0.40</size>\n",
    "          </box>\n",
    "        </geometry>\n",
    "        <material>\n",
    "          <diffuse>1.0 1.0 1.0 0.5</diffuse>\n",
    "        </material>\n",
    "      </visual>\n",
    "    </link>\n",
    "  </model>\n",
    "</sdf>\n",
    "\"\"\"\n",
    "\n",
    "# Visualize the SDFormat string you just defined.\n",
    "visualizer = ModelVisualizer(meshcat=meshcat, visualize_frames=True)\n",
    "visualizer.parser().AddModelsFromString(visual_box_sdf, \"sdf\")\n",
    "visualizer.Run(loop_once=True)"
   ]
  },
  {
   "cell_type": "markdown",
   "metadata": {},
   "source": [
    "### Collision geometry with hydroelastic properties\n",
    "\n",
    "We will add the `<collision>` block with hydroelastic properties. Without `<collision>`, our object cannot make contact in the simulation.\n",
    "\n",
    "We specify the same collision geometry (box of size 10x20x40 centimeters) as the visual geometry.\n",
    "\n",
    "Drake also uses the term proximity for collision. This is the `<drake:proximity_properties>` block that control hydroelastic contacts:\n",
    "\n",
    "        <drake:proximity_properties>\n",
    "          <drake:compliant_hydroelastic/>\n",
    "          <drake:hydroelastic_modulus>1e7</drake:hydroelastic_modulus>\n",
    "          <drake:mu_dynamic>0.5</drake:mu_dynamic>\n",
    "          <drake:hunt_crossley_dissipation>1.25</drake:hunt_crossley_dissipation>\n",
    "        </drake:proximity_properties>\n",
    "\n",
    "Use `<drake:compliant_hydroelastic/>` to specify a compliant-hydroelastic object.\n",
    "\n",
    "We set `<drake:hydroelastic_modulus>` to 1e7 Pascals. It is comparable to high-density polyethylene (HDPE) with 1 GPa Young's modulus. Hydroelastic modulus is not a physical property but rather a numerical parameter to tune our contact model. As a rule of thumb, set hydroelastic modulus to about 1/100 of Young's modulus. \n",
    "\n",
    "We set `<drake:mu_dynamic>` (unitless) to 0.5 for the coefficient of dynamic (i.e., kinetic) friction.\n",
    "\n",
    "We set `<drake:hunt_crossley_dissipation>` to 1.25 seconds/meter as the dissipation constant for TAMSI contact solver. In the future, SAP will support the Hunt & Crossley dissipation model too. See issue [19320](https://github.com/RobotLocomotion/drake/issues/19320). Intuitively the bouncing speed (speed when the box bounces back) is bounded by the inverse of the Hunt & Crossley dissipation constant. Here we set it to 1.25 s/m, so the bouncing speed is at most 0.8 m/s. See [Contact Modeling](https://drake.mit.edu/doxygen_cxx/classdrake_1_1multibody_1_1_multibody_plant.html#mbp_contact_modeling) in [MultibodyPlant](https://drake.mit.edu/doxygen_cxx/classdrake_1_1multibody_1_1_multibody_plant.html) documentation for more details."
   ]
  },
  {
   "cell_type": "code",
   "execution_count": null,
   "metadata": {},
   "outputs": [],
   "source": [
    "from pydrake.visualization import ModelVisualizer\n",
    "\n",
    "collision_box_sdf = \"\"\"<?xml version=\"1.0\"?>\n",
    "<sdf version=\"1.7\">\n",
    "  <model name=\"CompliantBox\">\n",
    "    <pose>0 0 0 0 0 0</pose>\n",
    "    <link name=\"compliant_box\">\n",
    "      <collision name=\"collision\">\n",
    "        <geometry>\n",
    "          <box>\n",
    "            <size>0.10 0.20 0.40</size>\n",
    "          </box>\n",
    "        </geometry>\n",
    "        <drake:proximity_properties>\n",
    "          <drake:compliant_hydroelastic/>\n",
    "          <drake:hydroelastic_modulus>1e7</drake:hydroelastic_modulus>\n",
    "          <drake:mu_dynamic>0.5</drake:mu_dynamic>\n",
    "          <drake:hunt_crossley_dissipation>1.25</drake:hunt_crossley_dissipation>\n",
    "        </drake:proximity_properties>\n",
    "      </collision>\n",
    "      <visual name=\"visual\">\n",
    "        <geometry>\n",
    "          <box>\n",
    "            <size>0.10 0.20 0.40</size>\n",
    "          </box>\n",
    "        </geometry>\n",
    "        <material>\n",
    "          <diffuse>1.0 1.0 1.0 0.5</diffuse>\n",
    "        </material>\n",
    "      </visual>\n",
    "    </link>\n",
    "  </model>\n",
    "</sdf>\n",
    "\"\"\"\n",
    "\n",
    "# Visualize the SDFormat string you just defined.\n",
    "visualizer = ModelVisualizer(meshcat=meshcat, visualize_frames=True)\n",
    "visualizer.parser().AddModelsFromString(collision_box_sdf, \"sdf\")\n",
    "visualizer.Run(loop_once=True)"
   ]
  },
  {
   "cell_type": "markdown",
   "metadata": {},
   "source": [
    "### Inertial properties\n",
    "\n",
    "In order to simulate dynamics, we will add `<mass>` of 1kg and `<inertia>` matrix.\n",
    "\n",
    "The `<inertia>` of the box about its center of mass is calculated with:\n",
    "\n",
    "    Ixx = m(s.y² + s.z²)/12\n",
    "    Iyy = m(s.x² + s.z²)/12\n",
    "    Izz = m(s.x² + s.y²)/12\n",
    "    \n",
    "where s.x, s.y, and s.z are the dimensions of the box.\n",
    "    \n",
    "In practice, we can use `SpatialInertia.SolidBoxWithMass()` as shown below and copy the numbers into SDFormat string afterwards. See documentation of [SpatialInertia](https://drake.mit.edu/doxygen_cxx/classdrake_1_1multibody_1_1_spatial_inertia.html) for description of the 6x6 matrix."
   ]
  },
  {
   "cell_type": "code",
   "execution_count": null,
   "metadata": {},
   "outputs": [],
   "source": [
    "from pydrake.multibody.tree import SpatialInertia\n",
    "\n",
    "spatial_inertia = SpatialInertia.SolidBoxWithMass(\n",
    "          mass=1, lx=0.1, ly=0.2, lz=0.4)\n",
    "mass = spatial_inertia.get_mass()\n",
    "center_of_mass = spatial_inertia.get_com()\n",
    "matrix6 = spatial_inertia.CopyToFullMatrix6()\n",
    "\n",
    "print(f\"mass = {mass}\\n\")\n",
    "print(f\"p_PScm = center of mass = {center_of_mass}\\n\")\n",
    "print(f\"I_SP = rotational inertia = \\n{matrix6[:3, :3]}\\n\")"
   ]
  },
  {
   "cell_type": "markdown",
   "metadata": {},
   "source": [
    "The function `compliant_box()` below returns SDFormat description of the compliant-hydroelastic box given `hydroelastic_modulus`. We will use this function later when we experiment with different values of hydroelastic modulus. The numbers in `<inertial>` block are copied from the result of exercising the above code with SpatialInertia.\n",
    "\n",
    "Notice that the parameter `hydroelastic_modulus` is a character string `'1e7'` (it is enclosed by single quote `'`), not a floating-point number `1e7`, so that the SDFormat description does not lose precision due to formatting."
   ]
  },
  {
   "cell_type": "code",
   "execution_count": null,
   "metadata": {},
   "outputs": [],
   "source": [
    "from pydrake.visualization import ModelVisualizer\n",
    "\n",
    "# Define a compliant-hydroelastic box from\n",
    "# a given hydroelastic modulus.\n",
    "def compliant_box(hydroelastic_modulus='1e7'):\n",
    "    return f\"\"\"<?xml version=\"1.0\"?>\n",
    "    <sdf version=\"1.7\">\n",
    "      <model name=\"CompliantBox\">\n",
    "        <pose>0 0 0 0 0 0</pose>\n",
    "        <link name=\"compliant_box\">\n",
    "          <inertial>\n",
    "            <mass>1.0</mass>\n",
    "            <inertia>\n",
    "              <ixx>0.016666</ixx> <ixy>0.0</ixy> <ixz>0.0</ixz>\n",
    "              <iyy>0.014166</iyy> <iyz>0.0</iyz>\n",
    "              <izz>0.004166</izz>\n",
    "            </inertia>\n",
    "          </inertial>\n",
    "          <collision name=\"collision\">\n",
    "            <geometry>\n",
    "              <box>\n",
    "                <size>0.10 0.20 0.40</size>\n",
    "              </box>\n",
    "            </geometry>\n",
    "            <drake:proximity_properties>\n",
    "              <drake:compliant_hydroelastic/>\n",
    "              <drake:hydroelastic_modulus>{hydroelastic_modulus}</drake:hydroelastic_modulus>\n",
    "              <drake:mu_dynamic>0.5</drake:mu_dynamic>\n",
    "              <drake:hunt_crossley_dissipation>1.25</drake:hunt_crossley_dissipation>\n",
    "              <drake:relaxation_time>0.1</drake:relaxation_time>\n",
    "            </drake:proximity_properties>\n",
    "          </collision>\n",
    "          <visual name=\"visual\">\n",
    "            <geometry>\n",
    "              <box>\n",
    "                <size>0.10 0.20 0.40</size>\n",
    "              </box>\n",
    "            </geometry>\n",
    "            <material>\n",
    "              <diffuse>1.0 1.0 1.0 0.5</diffuse>\n",
    "            </material>\n",
    "          </visual>\n",
    "        </link>\n",
    "      </model>\n",
    "    </sdf>\n",
    "    \"\"\"\n",
    "\n",
    "compliant_box_sdf = compliant_box()\n",
    "print(compliant_box_sdf)\n",
    "\n",
    "# Visualize the SDFormat string you just defined.\n",
    "visualizer = ModelVisualizer(meshcat=meshcat, visualize_frames=True)\n",
    "visualizer.parser().AddModelsFromString(compliant_box_sdf, \"sdf\")\n",
    "visualizer.Run(loop_once=True)"
   ]
  },
  {
   "cell_type": "markdown",
   "metadata": {},
   "source": [
    "## Create rigid-hydroelastic box\n",
    "\n",
    "The following SDFormat string specifies a rigid-hydroelastic box. It is similar to the compliant-hydroelastic box.\n",
    "\n",
    "Both the `<visual>` and `<collision>` geometries are boxes of size 60cm x 1m x 5cm. Observe in MeshCat the X(red), Y(green), and Z(blue) axes.\n",
    "\n",
    "Use the tag `<drake:rigid_hydroelastic/>` to specify a rigid-hydroelastic geometry. It does not use `<drake:hydroelastic_modulus>`. Intuitively it has infinite hydroelastic modulus.\n",
    "\n",
    "This rigid-hydroelastic box uses the same friction coefficient and dissipation constants as the previous compliant-hydroelastic box.\n",
    "\n",
    "We do not specify `<mass>` and `<inertia>` of the rigid box because, in the next section when we set up `Diagram`, we will fix the rigid box to the world frame. It will not move.\n",
    "\n",
    "The `<frame name=\"top_surface\">` is a frame at the top of the box with the tag:\n",
    "\n",
    "    <pose relative_to=\"rigid_box_link\">0 0 0.025 0 0 0</pose>\n",
    "\n",
    "It is at 2.5cm (half of the box's height) above the center of the box. In the next section, we will create a scene that places the `top_surface` frame at the world's origin."
   ]
  },
  {
   "cell_type": "code",
   "execution_count": null,
   "metadata": {},
   "outputs": [],
   "source": [
    "from pydrake.visualization import ModelVisualizer\n",
    "\n",
    "# Create a rigid-hydroelastic table top\n",
    "rigid_box_sdf = \"\"\"<?xml version=\"1.0\"?>\n",
    "<sdf version=\"1.7\">\n",
    "  <model name=\"RigidBox\">\n",
    "    <link name=\"rigid_box_link\">\n",
    "      <visual name=\"visual\">\n",
    "        <pose>0 0 0 0 0 0</pose>\n",
    "        <geometry>\n",
    "          <box>\n",
    "            <size>0.6 1.0 0.05</size>\n",
    "          </box>\n",
    "        </geometry>\n",
    "        <material>\n",
    "         <diffuse>0.9 0.8 0.7 0.5</diffuse>\n",
    "        </material>\n",
    "      </visual>\n",
    "      <collision name=\"collision\">\n",
    "        <pose>0 0 0 0 0 0</pose>\n",
    "        <geometry>\n",
    "          <box>\n",
    "            <size>0.6 1.0 0.05</size>\n",
    "          </box>\n",
    "        </geometry>\n",
    "        <drake:proximity_properties>\n",
    "          <drake:rigid_hydroelastic/>\n",
    "          <drake:mu_dynamic>0.5</drake:mu_dynamic>\n",
    "          <drake:hunt_crossley_dissipation>1.25</drake:hunt_crossley_dissipation>\n",
    "          <drake:relaxation_time>0.1</drake:relaxation_time>\n",
    "        </drake:proximity_properties>\n",
    "      </collision>\n",
    "    </link>\n",
    "    <frame name=\"top_surface\">\n",
    "      <pose relative_to=\"rigid_box_link\">0 0 0.025 0 0 0</pose>\n",
    "    </frame>\n",
    "  </model>\n",
    "</sdf>\n",
    "\"\"\"\n",
    "\n",
    "# Visualize the SDFormat string you just defined.\n",
    "visualizer = ModelVisualizer(meshcat=meshcat, visualize_frames=True)\n",
    "visualizer.parser().AddModelsFromString(rigid_box_sdf, \"sdf\")\n",
    "visualizer.Run(loop_once=True)"
   ]
  },
  {
   "cell_type": "markdown",
   "metadata": {},
   "source": [
    "## Create Diagram of the scene\n",
    "\n",
    "The function `add_scene()` below creates a scene using the two boxes that we created.\n",
    "\n",
    "It uses `DiagramBuilder` to create `MultibodyPlant` and `SceneGraph`. It uses `Parser` to add the two SDFormat strings of the two boxes into `Diagram` of the scene.\n",
    "\n",
    "It fixes the rigid box's top surface to the world frame by calling `WeldFrames()`.\n",
    "\n",
    "It places the compliant box 1 meter above the rigid box.\n",
    "\n",
    "After this step, the next section will add visualization to `DiagramBuilder`."
   ]
  },
  {
   "cell_type": "code",
   "execution_count": null,
   "metadata": {},
   "outputs": [],
   "source": [
    "from pydrake.math import RigidTransform\n",
    "from pydrake.multibody.parsing import Parser\n",
    "from pydrake.multibody.plant import AddMultibodyPlant, MultibodyPlantConfig\n",
    "from pydrake.systems.framework import DiagramBuilder\n",
    "\n",
    "def clear_meshcat():\n",
    "    # Clear MeshCat window from the previous blocks.\n",
    "    meshcat.Delete()\n",
    "    meshcat.DeleteAddedControls()\n",
    "\n",
    "def add_scene(time_step=1e-3, solver=\"tamsi\"):\n",
    "    builder = DiagramBuilder()\n",
    "    plant, scene_graph = AddMultibodyPlant(\n",
    "        MultibodyPlantConfig(\n",
    "            time_step=time_step,\n",
    "            discrete_contact_solver=solver),\n",
    "        builder)\n",
    "    parser = Parser(plant)\n",
    "\n",
    "    # Load the table top and the box we created.\n",
    "    parser.AddModelsFromString(compliant_box_sdf, \"sdf\")\n",
    "    parser.AddModelsFromString(rigid_box_sdf, \"sdf\")\n",
    "\n",
    "    # Weld the rigid box to the world so that it's fixed during simulation.\n",
    "    # The top surface passes the world's origin.\n",
    "    plant.WeldFrames(plant.world_frame(), \n",
    "                     plant.GetFrameByName(\"top_surface\"))\n",
    "\n",
    "    # Finalize the plant after loading the scene.\n",
    "    plant.Finalize()\n",
    "\n",
    "    # Set how high the center of the compliant box is from the world's origin. \n",
    "    # W = the world's frame\n",
    "    # C = frame at the center of the compliant box\n",
    "    X_WC = RigidTransform(p=[0, 0, 1])\n",
    "    plant.SetDefaultFreeBodyPose(plant.GetBodyByName(\"compliant_box\"), X_WC)\n",
    "\n",
    "    return builder, plant"
   ]
  },
  {
   "cell_type": "markdown",
   "metadata": {},
   "source": [
    "## Set up visualization of the simulation\n",
    "\n",
    "The function `add_scene()` above does not have visualization, so we will do it in the function `add_viz()` below.\n",
    "\n",
    "It uses `DiagramBuilder` from `add_scene()`. The `meshcat` interface represents the same MeshCat window that we have been using.\n",
    "\n",
    "We set the `publish_period` to 1/256 to publish 256 frames per simulated second. In this example, we publish frequently so we can better see changes in contact. See documentation of [VisualizationConfig](https://drake.mit.edu/doxygen_cxx/structdrake_1_1visualization_1_1_visualization_config.html) for more details.\n",
    "\n",
    "At this step we set `publish_contacts` to `False`, we will set up contact visualization near the end of this tutorial.\n",
    "\n",
    "We test the creation of `Diagram` by simulating for 0 second. It shows the compliant box 1 meter above the rigid box. You might have to zoom out to see both boxes at the same time."
   ]
  },
  {
   "cell_type": "code",
   "execution_count": null,
   "metadata": {},
   "outputs": [],
   "source": [
    "from pydrake.visualization import ApplyVisualizationConfig, VisualizationConfig\n",
    "\n",
    "def add_viz(builder, plant):\n",
    "    ApplyVisualizationConfig(\n",
    "        config=VisualizationConfig(\n",
    "                   publish_period = 1 / 256.0,\n",
    "                   publish_contacts = False),\n",
    "        builder=builder, meshcat=meshcat)\n",
    "    \n",
    "    return builder, plant\n",
    "\n",
    "\n",
    "from pydrake.systems.analysis import Simulator\n",
    "\n",
    "# Test creation of the diagram by simulating for 0 second.\n",
    "# For now, use only the DiagramBuilder from the first return value and\n",
    "# ignore the other return value. We will use it later.\n",
    "clear_meshcat()\n",
    "builder, plant = add_scene()\n",
    "add_viz(builder, plant)\n",
    "simulator = Simulator(builder.Build())\n",
    "simulator.Initialize()\n",
    "simulator.AdvanceTo(0)"
   ]
  },
  {
   "cell_type": "markdown",
   "metadata": {},
   "source": [
    "### Run the simulation\n",
    "\n",
    "We define the function `run_simulation()` below. It builds `Diagram` using `DiagramBuilder` from the previous step. It passes `Diagram` to `Simulator`. It also records simulation result into `meshcat` for playback later. You should see the compliant box drops down to make contact with the rigid box."
   ]
  },
  {
   "cell_type": "code",
   "execution_count": null,
   "metadata": {},
   "outputs": [],
   "source": [
    "from pydrake.systems.analysis import Simulator\n",
    "\n",
    "def run_simulation(sim_time, time_step=1e-3, solver=\"tamsi\"):\n",
    "    clear_meshcat()\n",
    "    \n",
    "    builder, plant = add_scene(time_step, solver)\n",
    "    add_viz(builder, plant)\n",
    "    \n",
    "    diagram = builder.Build()\n",
    "    \n",
    "    simulator = Simulator(diagram)\n",
    "    simulator.Initialize()\n",
    "    simulator.set_target_realtime_rate(1.)\n",
    "    \n",
    "    meshcat.StartRecording(frames_per_second=256.0)\n",
    "    simulator.AdvanceTo(sim_time)\n",
    "    meshcat.StopRecording()\n",
    "\n",
    "\n",
    "run_simulation(sim_time=6)"
   ]
  },
  {
   "cell_type": "markdown",
   "metadata": {},
   "source": [
    "### Playback recording of the simulation\n",
    "\n",
    "The following command `meshcat.PublishRecording()` will create a playback in the MeshCat tab. It will enable `Animations` panel in MeshCat tab."
   ]
  },
  {
   "cell_type": "code",
   "execution_count": null,
   "metadata": {},
   "outputs": [],
   "source": [
    "meshcat.PublishRecording()"
   ]
  },
  {
   "cell_type": "markdown",
   "metadata": {},
   "source": [
    "In the MeshCat window, click on `Open Controls` if you haven't done it. You should see `Animations` panel.\n",
    "\n",
    "Use the **play** button to replay the animation.\n",
    "\n",
    "Adjust **timeScale** to control animation speed. Set it to 0.1 for slower playback to better see changes in contact.\n",
    "\n",
    "Use **pause** to stop animation in the middle, and use **reset** to move the animation back to time 0.\n",
    "\n",
    "\n",
    "During the playback, you should see the compliant box drops down to make contact with the rigid box and bounces back at about 0.4s simulated time. The gravity will pull it down to make contact again. It will rock back and forth for a few seconds and reach steady state after about 6 seconds simulated time.\n",
    "\n",
    "You can type **time** in the `Animations` panel to go to a particular snapshot in the animation.\n",
    "\n",
    "One advantage of playback is that you can watch animation at real-time rate with `timeScale=1` regardless of how fast or how slow the simulation is. The wall-clock time of the simulation has no consequence to the simulated time that we see in the playback."
   ]
  },
  {
   "cell_type": "markdown",
   "metadata": {},
   "source": [
    "## Report contact results numerically\n",
    "\n",
    "We will show you how to report contact results. We will create a simple system to read contact results from `MultibodyPlant` and print them at the end of simulation."
   ]
  },
  {
   "cell_type": "markdown",
   "metadata": {},
   "source": [
    "### Use a simple system to publish contact results\n",
    "\n",
    "If you are not familiar with creating a leaf system, please see the tutorial [Authoring Leaf Systems](./authoring_leaf_systems.ipynb).\n",
    "\n",
    "We will define a leaf system called `ContactReporter` below. It has an input port that takes [ContactResults.](https://drake.mit.edu/doxygen_cxx/classdrake_1_1multibody_1_1_contact_results.html) When there is a forced publish event, it will print the contact results from its input port. See `Publish(self, context)` in the code below. \n",
    "\n",
    "Contact results are available from an output port of [MultibodyPlant](https://drake.mit.edu/doxygen_cxx/classdrake_1_1multibody_1_1_multibody_plant.html) by calling get_contact_results_output_port(). See documentation of [MultibodyPlant's input and output ports](https://drake.mit.edu/doxygen_cxx/classdrake_1_1multibody_1_1_multibody_plant.html#mbp_input_and_output_ports) for the list of available ports. In the function `add_contact_report()` below, first we add `ContactReporter` to the diagram builder from the previous section. Then, we connect the contact results output port of MultibodyPlant to the input port of our `ContactReporter`. \n",
    "\n",
    "The simulation in our example has only one contact patch between two geometries, but the code below can report all contact patches from all pairs of geometries from hydroelastics. However, it does not report `point_pair_contact_info()` in ContactResults.\n",
    "\n",
    "See documentation of [ContactResults,](https://drake.mit.edu/doxygen_cxx/classdrake_1_1multibody_1_1_contact_results.html) [HydroelasticContactInfo,](https://drake.mit.edu/doxygen_cxx/classdrake_1_1multibody_1_1_hydroelastic_contact_info.html) and [ContactSurface](https://drake.mit.edu/doxygen_cxx/classdrake_1_1geometry_1_1_contact_surface.html) for more details.\n",
    "\n",
    "In `__init__()` of `ContactReporter`, we declare forced publish event, so it will report contacts only when users call `ForcedPublish()` (see `run_simulation_with_contact_report()` in the next section). You can also declare periodic publish events to report contact at the frequency that you specify. See [Declare periodic events](https://drake.mit.edu/doxygen_cxx/classdrake_1_1systems_1_1_leaf_system.html#declare_periodic_events) in documentation of [LeafSystem.](https://drake.mit.edu/doxygen_cxx/classdrake_1_1systems_1_1_leaf_system.html)"
   ]
  },
  {
   "cell_type": "code",
   "execution_count": null,
   "metadata": {},
   "outputs": [],
   "source": [
    "from pydrake.common.value import Value\n",
    "from pydrake.multibody.plant import ContactResults\n",
    "from pydrake.systems.framework import LeafSystem\n",
    "\n",
    "class ContactReporter(LeafSystem):\n",
    "    def __init__(self):\n",
    "        super().__init__()  # Don't forget to initialize the base class.\n",
    "        self.DeclareAbstractInputPort(\n",
    "            name=\"contact_results\",\n",
    "            model_value=Value(\n",
    "                # Input port will take ContactResults from MultibodyPlant\n",
    "                ContactResults()))\n",
    "        # Calling `ForcedPublish()` will trigger the callback.\n",
    "        self.DeclareForcedPublishEvent(self.Publish)\n",
    "        \n",
    "    def Publish(self, context):\n",
    "        print()\n",
    "        print(f\"ContactReporter::Publish() called at time={context.get_time()}\")\n",
    "        contact_results = self.get_input_port().Eval(context)\n",
    "        \n",
    "        num_hydroelastic_contacts = contact_results.num_hydroelastic_contacts()\n",
    "        print(f\"num_hydroelastic_contacts() = {num_hydroelastic_contacts}\")\n",
    "        \n",
    "        for c in range(num_hydroelastic_contacts):\n",
    "            print()\n",
    "            print(f\"hydroelastic_contact_info({c}): {c}-th hydroelastic contact patch\")\n",
    "            hydroelastic_contact_info = contact_results.hydroelastic_contact_info(c)\n",
    "            \n",
    "            spatial_force = hydroelastic_contact_info.F_Ac_W()\n",
    "            print(\"F_Ac_W(): spatial force (on body A, at centroid of contact surface, in World frame) = \")\n",
    "            print(f\"{spatial_force}\")\n",
    "                        \n",
    "            print(\"contact_surface()\")\n",
    "            contact_surface = hydroelastic_contact_info.contact_surface()\n",
    "            num_faces = contact_surface.num_faces()\n",
    "            total_area = contact_surface.total_area()\n",
    "            centroid = contact_surface.centroid()\n",
    "            print(f\"total_area(): area of contact surface in m^2 = {total_area}\")\n",
    "            print(f\"num_faces(): number of polygons or triangles = {num_faces}\")\n",
    "            print(f\"centroid(): centroid (in World frame) = {centroid}\")        \n",
    "        \n",
    "        print()\n",
    "\n",
    "def add_contact_report(builder, plant):   \n",
    "    contact_reporter = builder.AddSystem(ContactReporter())    \n",
    "    builder.Connect(plant.get_contact_results_output_port(),\n",
    "                    contact_reporter.get_input_port(0))\n",
    "        \n",
    "    return builder, plant"
   ]
  },
  {
   "cell_type": "markdown",
   "metadata": {},
   "source": [
    "### Run simulation and report contact results\n",
    "\n",
    "As shown below, the function `run_simulation_with_contact_report()` calls `ForcedPublish()` after the simulation has finished.\n",
    "\n",
    "The end of the code block calls `run_simulation_with_contact_report()` with `sim_time=0`. At time 0, the compliant box starts far above the rigid box. The printout will simply say there is no contact yet. It should look like this:\n",
    "\n",
    "```\n",
    "ContactReporter::Publish() called at time=0.0\n",
    "num_hydroelastic_contacts() = 0\n",
    "```"
   ]
  },
  {
   "cell_type": "code",
   "execution_count": null,
   "metadata": {},
   "outputs": [],
   "source": [
    "from pydrake.systems.analysis import Simulator\n",
    "\n",
    "def run_simulation_with_contact_report(sim_time, time_step=1e-3, solver=\"tamsi\"):\n",
    "    clear_meshcat()\n",
    "    \n",
    "    builder, plant = add_scene(time_step, solver)\n",
    "    add_viz(builder, plant)\n",
    "    add_contact_report(builder, plant)\n",
    "    \n",
    "    diagram = builder.Build()\n",
    "    \n",
    "    simulator = Simulator(diagram)\n",
    "    simulator.Initialize()\n",
    "    simulator.set_target_realtime_rate(1.)\n",
    "    \n",
    "    meshcat.StartRecording(frames_per_second=256.0)\n",
    "    simulator.AdvanceTo(sim_time)\n",
    "    meshcat.StopRecording()\n",
    "\n",
    "    # Forced publish after the simulation has finished.\n",
    "    diagram.ForcedPublish(simulator.get_context())\n",
    "    \n",
    "\n",
    "run_simulation_with_contact_report(sim_time=0)\n",
    "meshcat.PublishRecording()"
   ]
  },
  {
   "cell_type": "markdown",
   "metadata": {},
   "source": [
    "We will run it again for 1 second simulated time. Since we will call `meshcat.PublishRecording()` on the second line, it will look like we drop the compliant box twice. The first animation is directly from the simulation, and the repeated animation is from the playback. You can zoom-in and slow down the playback in MeshCat tab (set `timeScale` to 0.1) to carefully observe dynamics.\n",
    "\n",
    "After running the code below, you should see the spatial force `F_Ac_W` consisting of the torque `tau` and the force `f`. The force `f=[-1.4698008107796352, 1.2910859070622505, 9.190361581929913]`, expressed in World frame, has the Z component about 9.19 newtons. It is less than 9.81 newtons, which is the gravity force acting on the compliant box with mass 1kg. This is because the compliant box is still rocking back and forth at the 1-second simulated time.\n",
    "\n",
    "The contact results are reported in World frame."
   ]
  },
  {
   "cell_type": "code",
   "execution_count": null,
   "metadata": {},
   "outputs": [],
   "source": [
    "run_simulation_with_contact_report(sim_time=1)\n",
    "meshcat.PublishRecording()"
   ]
  },
  {
   "cell_type": "markdown",
   "metadata": {},
   "source": [
    "In the next code block, you will run the simulation for 6 seconds to steady state, and you should see `f.Z()` around 9.81 newtons equal to the gravity force:\n",
    "\n",
    ">   f=[0.0029448765571535667, 0.001046731084481263, 9.809999983708687]"
   ]
  },
  {
   "cell_type": "code",
   "execution_count": null,
   "metadata": {},
   "outputs": [],
   "source": [
    "run_simulation_with_contact_report(sim_time=6)\n",
    "meshcat.PublishRecording()"
   ]
  },
  {
   "cell_type": "markdown",
   "metadata": {},
   "source": [
    "## Visualize contact results\n",
    "\n",
    "To visualize contact results, we will add `ContactVisualizer` to `Diagram` of the previous section.\n",
    "\n",
    "The following function `add_contact_viz()` adds `ContactVisualizer` to `DiagramBuilder` using `MultibodyPlant` and `Meshcat`.\n",
    "\n",
    "With `newtons_per_meter= 2e1`, it will draw a red arrow of length 1 meter for each force of 20 newtons. With `newtons_meters_per_meter= 1e-1`, it will draw a blue arrow of length 1 meter for each torque of 0.1 newton\\*meters. The next section will run the simulation."
   ]
  },
  {
   "cell_type": "code",
   "execution_count": null,
   "metadata": {},
   "outputs": [],
   "source": [
    "from pydrake.multibody.meshcat import ContactVisualizer, ContactVisualizerParams\n",
    "\n",
    "\n",
    "def add_contact_viz(builder, plant):\n",
    "    contact_viz = ContactVisualizer.AddToBuilder(\n",
    "        builder, plant, meshcat,\n",
    "        ContactVisualizerParams(\n",
    "            publish_period= 1.0 / 256.0,\n",
    "            newtons_per_meter= 2e1,\n",
    "            newton_meters_per_meter= 1e-1))\n",
    "\n",
    "    return builder, plant"
   ]
  },
  {
   "cell_type": "markdown",
   "metadata": {},
   "source": [
    "### Run simulation with contact visualization\n",
    "\n",
    "The following code will run the simulation. In MeshCat, the red arrow represents the force `f`, and the blue arrow represents the torque `tau`. You should see the contact patch moving around together with the force and torque vectors. At the end of simulation, it will also report contact result numerically.\n",
    "\n",
    "Notice that the code below does not publish the recording yet. The next section will publish the recording for playback."
   ]
  },
  {
   "cell_type": "code",
   "execution_count": null,
   "metadata": {},
   "outputs": [],
   "source": [
    "from pydrake.systems.analysis import Simulator\n",
    "\n",
    "def run_simulation_with_contact_report_and_viz(sim_time, time_step=1e-3, solver=\"tamsi\"):\n",
    "    clear_meshcat()\n",
    "    \n",
    "    builder, plant = add_scene(time_step, solver)\n",
    "    add_viz(builder, plant)\n",
    "    add_contact_report(builder, plant)\n",
    "    add_contact_viz(builder, plant)\n",
    "    \n",
    "    diagram = builder.Build()\n",
    "    \n",
    "    simulator = Simulator(diagram)\n",
    "    simulator.Initialize()\n",
    "    simulator.set_target_realtime_rate(1.0)\n",
    "    \n",
    "    meshcat.StartRecording(frames_per_second=256.0)\n",
    "    simulator.AdvanceTo(sim_time)\n",
    "    meshcat.StopRecording()\n",
    "\n",
    "    # Numerically report contact results at the end of simulation.\n",
    "    diagram.ForcedPublish(simulator.get_context())\n",
    "\n",
    "    \n",
    "run_simulation_with_contact_report_and_viz(sim_time=6)"
   ]
  },
  {
   "cell_type": "markdown",
   "metadata": {},
   "source": [
    "### Playback recording to appreciate dynamics\n",
    "\n",
    "After running the code below, playback with `timeScale` = 0.1 or 0.01 to appreciate the contact dynamics. You should see the force and torque vectors oscillate synchronously with the rocking compliant box.\n",
    "\n",
    "Currently playing back the simulation will show contact force and moment; however, it does not show contact patch appropriately, which could be confusing. The code below deletes the contact patch from the recording before publishing to MeshCat. Issue [19142](https://github.com/RobotLocomotion/drake/issues/19142) explains the problem in more details."
   ]
  },
  {
   "cell_type": "code",
   "execution_count": null,
   "metadata": {},
   "outputs": [],
   "source": [
    "# In the current version, we can playback contact forces and torques;\n",
    "# however, contact surfaces are not recorded properly.\n",
    "# For now, we delete contact surfaces to prevent confusion.\n",
    "# See issue https://github.com/RobotLocomotion/drake/issues/19142\n",
    "meshcat.Delete(\"/drake/contact_forces/hydroelastic/compliant_box+rigid_box_link/contact_surface\")\n",
    "\n",
    "meshcat.PublishRecording()"
   ]
  },
  {
   "cell_type": "markdown",
   "metadata": {},
   "source": [
    "## Optional exercises\n",
    "\n",
    "The following sections are optional. It strengthens your understanding of our code and its capability, but you do not need to learn it in order to use hydroelastic contact."
   ]
  },
  {
   "cell_type": "markdown",
   "metadata": {},
   "source": [
    "### High impact at first contact\n",
    "At 0.405 second, the compliant box makes a high impact on the rigid box. Remove `#` below and run the code. How large is the contact force at impact? You should see almost 380 newtons!"
   ]
  },
  {
   "cell_type": "code",
   "execution_count": null,
   "metadata": {},
   "outputs": [],
   "source": [
    "# run_simulation_with_contact_report_and_viz(sim_time=0.405)\n",
    "# meshcat.Delete(\"/drake/contact_forces/hydroelastic/compliant_box+rigid_box_link/contact_surface\")\n",
    "# meshcat.PublishRecording()"
   ]
  },
  {
   "cell_type": "markdown",
   "metadata": {},
   "source": [
    "### Effects of low hydroelastic modulus\n",
    "\n",
    "The code below change the value of hydroelastic modulus in `compliant_box_sdf` to the `new_hydroelastic_modulus`. Notice that we use the single quoted `'` to enclose the number for `new_hydroelastic_modulus`, so it is treated as a character string.\n",
    "\n",
    "Set `new_hydroelastic_modulus` to unphysically low value like 1e1 Pascals, and you should see the compliant box drops down and passes through the rigid box. This is because the low hydroelastic modulus cannot make enough contact force to match gravity force. Most materials has Young's modulus in the range of 1e7 Pa (rubber) to 1e12 Pa (carbon nanotube), so their hydroelastic modulus should be in the range of 1e5 Pa (rubber) to 1e10 Pa (carbon nanotube).\n",
    "\n",
    "Remove `#` in the code below and run it.\n",
    "\n",
    "Playback slowly with timeScale 0.1 in MeshCat, and you should see very short red arrows of contact forces."
   ]
  },
  {
   "cell_type": "code",
   "execution_count": null,
   "metadata": {},
   "outputs": [],
   "source": [
    "# new_hydroelastic_modulus = '1e1'\n",
    "# compliant_box_sdf = compliant_box(hydroelastic_modulus = new_hydroelastic_modulus)\n",
    "#\n",
    "# run_simulation_with_contact_report_and_viz(sim_time=2)\n",
    "# meshcat.Delete(\"/drake/contact_forces/hydroelastic/compliant_box+rigid_box_link/contact_surface\")\n",
    "# meshcat.PublishRecording()"
   ]
  },
  {
   "cell_type": "markdown",
   "metadata": {},
   "source": [
    "### Effects of high hydroelastic modulus\n",
    "\n",
    "Similarly, the code below sets `new_hydroelastic_modulus` to an unusually high value of 1e15 Pascals. You should see the compliant box bounces at an angle and falls off the rigid box. Remove `#` in the code below and run it."
   ]
  },
  {
   "cell_type": "code",
   "execution_count": null,
   "metadata": {},
   "outputs": [],
   "source": [
    "# new_hydroelastic_modulus = '1e15'\n",
    "# compliant_box_sdf = compliant_box(hydroelastic_modulus = new_hydroelastic_modulus)\n",
    "# \n",
    "# run_simulation_with_contact_report_and_viz(sim_time=2)\n",
    "# meshcat.Delete(\"/drake/contact_forces/hydroelastic/compliant_box+rigid_box_link/contact_surface\")\n",
    "# meshcat.PublishRecording()"
   ]
  },
  {
   "cell_type": "markdown",
   "metadata": {},
   "source": [
    "## Further reading\n",
    "\n",
    "* [Hydroelastic Contact User Guide](https://drake.mit.edu/doxygen_cxx/group__hydroelastic__user__guide.html)\n",
    "\n",
    "* Elandt, R., Drumwright, E., Sherman, M., & Ruina, A. (2019, November). A pressure field model for fast, robust approximation of net contact force and moment between nominally rigid objects. In 2019 IEEE/RSJ International Conference on Intelligent Robots and Systems(IROS) (pp. 8238-8245). IEEE. [link](https://arxiv.org/abs/1904.11433)\n",
    "\n",
    "* Masterjohn, J., Guoy, D., Shepherd, J., & Castro, A. (2022). Velocity Level Approximation of Pressure Field Contact Patches. IEEE Robotics and Automation Letters 7, no. 4 (2022): 11593-11600. [link](https://arxiv.org/abs/2110.04157v2)\n",
    "\n",
    "* Elandt, R. (2022, December). Pressure Field Contact. Dissertation. Cornell University. [link](https://ecommons.cornell.edu/handle/1813/112919)"
   ]
  }
 ],
 "metadata": {
  "kernelspec": {
   "display_name": "Python 3 (ipykernel)",
   "language": "python",
   "name": "python3"
  },
  "language_info": {
   "codemirror_mode": {
    "name": "ipython",
    "version": 3
   },
   "file_extension": ".py",
   "mimetype": "text/x-python",
   "name": "python",
   "nbconvert_exporter": "python",
   "pygments_lexer": "ipython3",
   "version": "3.10.6"
  }
 },
 "nbformat": 4,
 "nbformat_minor": 2
}
