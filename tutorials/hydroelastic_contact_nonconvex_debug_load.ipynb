{
 "cells": [
  {
   "cell_type": "markdown",
   "metadata": {},
   "source": [
    "# Hydroelastic Contact: Nonconvex Meshes\n",
    "For instructions on how to run these tutorial notebooks, please see the [index](./index.ipynb).\n",
    "\n",
    "# Check why Debug build is slow to load nonconvex VTK tetrahedral mesh\n",
    "\n",
    "bazel run --compilation_mode=dbg //tutorials:hydroelastic_contact_nonconvex_debug_load\n",
    "\n",
    "If you are not familiar with Drake's hydroelastic contact, study [hydroelastic_contact_basics.ipynb](./hydroelastic_contact_basics.ipynb). You can also find more information in Hydroelastic Contact User Guide [here.](https://drake.mit.edu/doxygen_cxx/group__hydroelastic__user__guide.html)"
   ]
  },
  {
   "cell_type": "markdown",
   "metadata": {},
   "source": [
    "## Introduction\n",
    "\n",
    "This tutorial shows you how to set up dynamic simulations with hydroelastic contacts using nonconvex meshes. For context, we use a simple example of a compliant hydroelastic bell pepper dropped onto a compliant hydroelastic bowl on a compliant hydroelastic table top. Contact forces are calculated and visualized."
   ]
  },
  {
   "cell_type": "markdown",
   "metadata": {},
   "source": [
    "## Start MeshCat\n",
    "\n",
    "See the section [Viewing models](./authoring_multibody_simulation.ipynb#Viewing-models) in the tutorial [Authoring a Multibody Simulation](./authoring_multibody_simulation.ipynb) for an introduction to MeshCat."
   ]
  },
  {
   "cell_type": "code",
   "execution_count": null,
   "metadata": {},
   "outputs": [],
   "source": [
    "%%time\n",
    "\n",
    "from pydrake.geometry import StartMeshcat\n",
    "\n",
    "# Start the visualizer. The cell will output an HTTP link after the execution.\n",
    "# Click the link and a MeshCat tab should appear in your browser.\n",
    "meshcat = StartMeshcat()"
   ]
  },
  {
   "cell_type": "markdown",
   "metadata": {},
   "source": [
    "## Create compliant-hydroelastic bell pepper in SDFormat\n",
    "\n",
    "*Make sure you have the MeshCat tab opened in your browser;\n",
    "the link is shown immediately above.*\n",
    "\n",
    "We will create and visualize a compliant-hydroelastic bell pepper with SDFormat string.\n",
    "\n",
    "We will use `ModelVisualizer` to verify the SDFormat description.\n",
    "It will tell MeshCat to show the bell pepper."
   ]
  },
  {
   "cell_type": "markdown",
   "metadata": {},
   "source": [
    "### Visual geometry\n",
    "\n",
    "First we create a visual geometry of the bell pepper. Observe in MeshCat the X(red), Y(green), and Z(blue) axes have origin near the bottom of the bell pepper. In general, a mesh geometry can have its origin anywhere.\n",
    "\n",
    "Here MeshCat can show only the `drake/illustration` without `drake/proximity`."
   ]
  },
  {
   "cell_type": "code",
   "execution_count": null,
   "metadata": {},
   "outputs": [],
   "source": [
    "%%time\n",
    "\n",
    "from pydrake.visualization import ModelVisualizer\n",
    "\n",
    "visual_bell_pepper_sdf = \"\"\"<?xml version=\"1.0\"?>\n",
    "<sdf version=\"1.7\">\n",
    "  <model name=\"BellPepper\">\n",
    "    <pose>0 0 0 0 0 0</pose>\n",
    "    <link name=\"bell_pepper\">\n",
    "      <visual name=\"yellow_bell_pepper_no_stem\">\n",
    "        <pose>0 0 0 0 0 0</pose>\n",
    "        <geometry>\n",
    "          <mesh>\n",
    "            <uri>package://drake_models/veggies/yellow_bell_pepper_no_stem_low.obj</uri>\n",
    "            <scale>1 1 1</scale>\n",
    "          </mesh>\n",
    "        </geometry>\n",
    "      </visual>\n",
    "    </link>\n",
    "  </model>\n",
    "</sdf>\n",
    "\"\"\"\n",
    "\n",
    "# Visualize the SDFormat string you just defined.\n",
    "visualizer = ModelVisualizer(meshcat=meshcat, visualize_frames=True)\n",
    "visualizer.parser().AddModelsFromString(visual_bell_pepper_sdf, \"sdf\")\n",
    "visualizer.Run(loop_once=True)"
   ]
  },
  {
   "cell_type": "markdown",
   "metadata": {},
   "source": [
    "##### Collision geometry with hydroelastic properties\n",
    "\n",
    "We will add the `<collision>` block with hydroelastic properties. Without `<collision>`, our object cannot make contact in the simulation.\n",
    "\n",
    "Drake also uses the term proximity for collision. This is the `<drake:proximity_properties>` block that control hydroelastic contacts for SDFormat:\n",
    "\n",
    "        <drake:proximity_properties>\n",
    "          <drake:compliant_hydroelastic/>\n",
    "          <drake:hydroelastic_modulus>1e6</drake:hydroelastic_modulus>\n",
    "          <drake:mu_dynamic>0.5</drake:mu_dynamic>\n",
    "          <drake:hunt_crossley_dissipation>1.25</drake:hunt_crossley_dissipation>\n",
    "        </drake:proximity_properties>\n",
    "\n",
    "Use `<drake:compliant_hydroelastic/>` to specify a compliant-hydroelastic object.\n",
    "\n",
    "We set `<drake:hydroelastic_modulus>` to 1e6 Pascals. It is comparable to high-density polyethylene (HDPE) with 1 GPa Young's modulus. Hydroelastic modulus is not a physical property but rather a numerical parameter to tune our contact model. As a rule of thumb, set hydroelastic modulus to about 1/100 of Young's modulus. \n",
    "\n",
    "We set `<drake:mu_dynamic>` (unitless) to 0.5 for the coefficient of dynamic (i.e., kinetic) friction, and set `<drake:hunt_crossley_dissipation>` to 1.25 seconds/meter as the dissipation constant for the Hunt & Crossley model.\n",
    "\n",
    "Here MeshCat can show both `drake/illustration` and `drake/proximity` but `drake/inertia` is wrong. Toggle `drake/illustration` and `drake/proximity`on and off."
   ]
  },
  {
   "cell_type": "code",
   "execution_count": null,
   "metadata": {},
   "outputs": [],
   "source": [
    "%%time \n",
    "\n",
    "from pydrake.visualization import ModelVisualizer\n",
    "\n",
    "collision_bell_pepper_sdf = \"\"\"<?xml version=\"1.0\"?>\n",
    "<sdf version=\"1.7\">\n",
    "  <model name=\"BellPepper\">\n",
    "    <pose>0 0 0 0 0 0</pose>\n",
    "    <link name=\"bell_pepper\">\n",
    "      <collision name=\"collision\">\n",
    "        <geometry>\n",
    "          <mesh>\n",
    "            <uri>package://drake_models/veggies/yellow_bell_pepper_no_stem_low.vtk</uri>\n",
    "            <scale>1 1 1</scale>\n",
    "          </mesh>\n",
    "        </geometry>\n",
    "        <drake:proximity_properties>\n",
    "          <drake:compliant_hydroelastic/>\n",
    "          <drake:hydroelastic_modulus>1e6</drake:hydroelastic_modulus>\n",
    "          <drake:mu_dynamic>0.5</drake:mu_dynamic>\n",
    "          <drake:hunt_crossley_dissipation>1.25 </drake:hunt_crossley_dissipation>\n",
    "        </drake:proximity_properties>\n",
    "      </collision>\n",
    "      <visual name=\"visual\">\n",
    "        <geometry>\n",
    "          <mesh>\n",
    "            <uri>package://drake_models/veggies/yellow_bell_pepper_no_stem_low.obj</uri>\n",
    "            <scale>1 1 1</scale>\n",
    "          </mesh>\n",
    "        </geometry>\n",
    "      </visual>\n",
    "    </link>\n",
    "  </model>\n",
    "</sdf>\n",
    "\"\"\"\n",
    "\n",
    "# Visualize the SDFormat string you just defined.\n",
    "visualizer = ModelVisualizer(meshcat=meshcat, visualize_frames=True)\n",
    "visualizer.parser().AddModelsFromString(collision_bell_pepper_sdf, \"sdf\")\n",
    "visualizer.Run(loop_once=True)"
   ]
  },
  {
   "cell_type": "markdown",
   "metadata": {},
   "source": [
    "| load OBJ  | load OBJ + VTK |\n",
    "| --------- | -------------- |\n",
    "|  980ms    |  13.6s         |   "
   ]
  }
 ],
 "metadata": {
  "kernelspec": {
   "display_name": "Python 3 (ipykernel)",
   "language": "python",
   "name": "python3"
  },
  "language_info": {
   "codemirror_mode": {
    "name": "ipython",
    "version": 3
   },
   "file_extension": ".py",
   "mimetype": "text/x-python",
   "name": "python",
   "nbconvert_exporter": "python",
   "pygments_lexer": "ipython3",
   "version": "3.10.12"
  }
 },
 "nbformat": 4,
 "nbformat_minor": 2
}
