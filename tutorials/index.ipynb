{
 "cells": [
  {
   "cell_type": "markdown",
   "metadata": {},
   "source": [
    "# Drake Tutorials\n",
    "For instructions on how to run these tutorial notebooks, please see the [README](https://github.com/RobotLocomotion/drake/blob/master/tutorials/README.md).\n",
    "\n",
    "Note: We have chosen to host all of our tutorials in Python/Jupyter notebooks, but the `pydrake` API is a thin wrapper over the C++ API. Most code can be ported very easily (in either direction).\n",
    "\n",
    "For an overview about the philosophy behind [Drake](https://drake.mit.edu), consider reading this [blog post](https://medium.com/toyotaresearch/drake-model-based-design-in-the-age-of-robotics-and-machine-learning-59938c985515).\n",
    "We have organized the tutorials around the three major components described in that post:\n",
    "\n",
    "## Mathematical Programming\n",
    "\n",
    "- [MathematicalProgram](./mathematical_program.ipynb)\n",
    "- [Setting solver parameters](./solver_parameters.ipynb)\n",
    "- [Updating costs and constraints](./updating_costs_and_constraints.ipynb) (e.g. for efficient solving of many similar programs)\n",
    "- [Debugging tips](./debug_mathematical_program.ipynb)\n",
    "- [Linear program](./linear_program.ipynb)\n",
    "- [Quadratic program](./quadratic_program.ipynb)\n",
    "- [Nonlinear program](./nonlinear_program.ipynb)\n",
    "- [Sum-of-squares optimization](./sum_of_squares_optimization.ipynb)\n",
    "\n",
    "## Multibody Dynamics\n",
    "\n",
    "- [Authoring a multibody simulation](./authoring_multibody_simulation.ipynb)\n",
    "- [Mathematical programming with MultibodyPlant](./mathematical_program_multibody_plant.ipynb)\n",
    "- [PyPlot animation](./pyplot_animation_multibody_plant.ipynb)\n",
    "- [Rendering MultibodyPlant](./rendering_multibody_plant.ipynb)\n",
    "\n",
    "More multibody tutorials coming soon!\n",
    "\n",
    "## Dynamical Systems\n",
    "\n",
    "- [Modeling Dynamical Systems](./dynamical_systems.ipynb)\n",
    "\n",
    "More systems tutorials coming soon!\n",
    "\n",
    "## Additional resources\n",
    "\n",
    "- [C++ API](https://drake.mit.edu/doxygen_cxx/index.html) documentation\n",
    "- [Python API](https://drake.mit.edu/pydrake/index.html) documentation\n",
    "- MIT 6.800 [Robotic Manipulation](https://manipulation.mit.edu) course notes\n",
    "- MIT 6.832 [Underactuated Robotics](https://underactuated.mit.edu) course notes\n",
    "- [Getting help](https://drake.mit.edu/getting_help.html)\n"
   ]
  }
 ],
 "metadata": {
  "language_info": {
   "name": "python"
  },
  "orig_nbformat": 4
 },
 "nbformat": 4,
 "nbformat_minor": 2
}
