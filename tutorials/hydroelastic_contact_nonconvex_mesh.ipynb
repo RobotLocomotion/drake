{
 "cells": [
  {
   "cell_type": "markdown",
   "metadata": {},
   "source": [
    "# Hydroelastic Contact: Nonconvex Meshes\n",
    "For instructions on how to run these tutorial notebooks, please see the [index](./index.ipynb).\n",
    "\n",
    "If you are not familiar with Drake's hydroelastic contact, study [hydroelastic_contact_basics.ipynb](./hydroelastic_contact_basics.ipynb). You can also find more information in Hydroelastic Contact User Guide [here.](https://drake.mit.edu/doxygen_cxx/group__hydroelastic__user__guide.html)"
   ]
  },
  {
   "cell_type": "markdown",
   "metadata": {},
   "source": [
    "## Introduction\n",
    "\n",
    "This tutorial shows you how to set up dynamic simulations with hydroelastic contacts using nonconvex meshes. For context, we use a simple example of a compliant hydroelastic bell pepper dropped onto a compliant hydroelastic bowl on a compliant hydroelastic table top. Contact forces are calculated and visualized."
   ]
  },
  {
   "cell_type": "markdown",
   "metadata": {},
   "source": [
    "## Start MeshCat\n",
    "\n",
    "See the section [Viewing models](./authoring_multibody_simulation.ipynb#Viewing-models) in the tutorial [Authoring a Multibody Simulation](./authoring_multibody_simulation.ipynb) for an introduction to MeshCat."
   ]
  },
  {
   "cell_type": "code",
   "execution_count": null,
   "metadata": {},
   "outputs": [],
   "source": [
    "from pydrake.geometry import StartMeshcat\n",
    "\n",
    "# Start the visualizer. The cell will output an HTTP link after the execution.\n",
    "# Click the link and a MeshCat tab should appear in your browser.\n",
    "meshcat = StartMeshcat()"
   ]
  },
  {
   "cell_type": "markdown",
   "metadata": {},
   "source": [
    "## Create compliant-hydroelastic bell pepper in SDFormat\n",
    "\n",
    "*Make sure you have the MeshCat tab opened in your browser;\n",
    "the link is shown immediately above.*\n",
    "\n",
    "We will create and visualize a compliant-hydroelastic bell pepper with SDFormat string.\n",
    "\n",
    "We will use `ModelVisualizer` to verify the SDFormat description.\n",
    "It will tell MeshCat to show the bell pepper."
   ]
  },
  {
   "cell_type": "markdown",
   "metadata": {},
   "source": [
    "### Visual geometry\n",
    "\n",
    "First we create a visual geometry of the bell pepper. Observe in MeshCat the X(red), Y(green), and Z(blue) axes have origin near the bottom of the bell pepper. In general, a mesh geometry can have its origin anywhere.\n",
    "\n",
    "Here MeshCat can show only the `drake/illustration` without `drake/proximity`."
   ]
  },
  {
   "cell_type": "code",
   "execution_count": null,
   "metadata": {},
   "outputs": [],
   "source": [
    "from pydrake.visualization import ModelVisualizer\n",
    "\n",
    "visual_bell_pepper_sdf = \"\"\"<?xml version=\"1.0\"?>\n",
    "<sdf version=\"1.7\">\n",
    "  <model name=\"BellPepper\">\n",
    "    <pose>0 0 0 0 0 0</pose>\n",
    "    <link name=\"bell_pepper\">\n",
    "      <visual name=\"yellow_bell_pepper_no_stem\">\n",
    "        <pose>0 0 0 0 0 0</pose>\n",
    "        <geometry>\n",
    "          <mesh>\n",
    "            <uri>package://drake_models/veggies/yellow_bell_pepper_no_stem_low.obj</uri>\n",
    "            <scale>1 1 1</scale>\n",
    "          </mesh>\n",
    "        </geometry>\n",
    "      </visual>\n",
    "    </link>\n",
    "  </model>\n",
    "</sdf>\n",
    "\"\"\"\n",
    "\n",
    "# Visualize the SDFormat string you just defined.\n",
    "visualizer = ModelVisualizer(meshcat=meshcat, visualize_frames=True)\n",
    "visualizer.parser().AddModelsFromString(visual_bell_pepper_sdf, \"sdf\")\n",
    "visualizer.Run(loop_once=True)"
   ]
  },
  {
   "cell_type": "markdown",
   "metadata": {},
   "source": [
    "##### Collision geometry with hydroelastic properties\n",
    "\n",
    "We will add the `<collision>` block with hydroelastic properties. Without `<collision>`, our object cannot make contact in the simulation.\n",
    "\n",
    "Drake also uses the term proximity for collision. This is the `<drake:proximity_properties>` block that control hydroelastic contacts for SDFormat:\n",
    "\n",
    "        <drake:proximity_properties>\n",
    "          <drake:compliant_hydroelastic/>\n",
    "          <drake:hydroelastic_modulus>1e6</drake:hydroelastic_modulus>\n",
    "          <drake:mu_dynamic>0.5</drake:mu_dynamic>\n",
    "          <drake:hunt_crossley_dissipation>1.25</drake:hunt_crossley_dissipation>\n",
    "        </drake:proximity_properties>\n",
    "\n",
    "Use `<drake:compliant_hydroelastic/>` to specify a compliant-hydroelastic object.\n",
    "\n",
    "We set `<drake:hydroelastic_modulus>` to 1e6 Pascals. It is comparable to high-density polyethylene (HDPE) with 1 GPa Young's modulus. Hydroelastic modulus is not a physical property but rather a numerical parameter to tune our contact model. As a rule of thumb, set hydroelastic modulus to about 1/100 of Young's modulus. \n",
    "\n",
    "We set `<drake:mu_dynamic>` (unitless) to 0.5 for the coefficient of dynamic (i.e., kinetic) friction, and set `<drake:hunt_crossley_dissipation>` to 1.25 seconds/meter as the dissipation constant for the Hunt & Crossley model.\n",
    "\n",
    "Here MeshCat can show both `drake/illustration` and `drake/proximity` but `drake/inertia` is wrong. Toggle `drake/illustration` and `drake/proximity`on and off."
   ]
  },
  {
   "cell_type": "code",
   "execution_count": null,
   "metadata": {},
   "outputs": [],
   "source": [
    "from pydrake.visualization import ModelVisualizer\n",
    "\n",
    "collision_bell_pepper_sdf = \"\"\"<?xml version=\"1.0\"?>\n",
    "<sdf version=\"1.7\">\n",
    "  <model name=\"BellPepper\">\n",
    "    <pose>0 0 0 0 0 0</pose>\n",
    "    <link name=\"bell_pepper\">\n",
    "      <collision name=\"collision\">\n",
    "        <geometry>\n",
    "          <mesh>\n",
    "            <uri>package://drake_models/veggies/yellow_bell_pepper_no_stem_low.vtk</uri>\n",
    "            <scale>1 1 1</scale>\n",
    "          </mesh>\n",
    "        </geometry>\n",
    "        <drake:proximity_properties>\n",
    "          <drake:compliant_hydroelastic/>\n",
    "          <drake:hydroelastic_modulus>1e6</drake:hydroelastic_modulus>\n",
    "          <drake:mu_dynamic>0.5</drake:mu_dynamic>\n",
    "          <drake:hunt_crossley_dissipation>1.25 </drake:hunt_crossley_dissipation>\n",
    "        </drake:proximity_properties>\n",
    "      </collision>\n",
    "      <visual name=\"visual\">\n",
    "        <geometry>\n",
    "          <mesh>\n",
    "            <uri>package://drake_models/veggies/yellow_bell_pepper_no_stem_low.obj</uri>\n",
    "            <scale>1 1 1</scale>\n",
    "          </mesh>\n",
    "        </geometry>\n",
    "      </visual>\n",
    "    </link>\n",
    "  </model>\n",
    "</sdf>\n",
    "\"\"\"\n",
    "\n",
    "# Visualize the SDFormat string you just defined.\n",
    "visualizer = ModelVisualizer(meshcat=meshcat, visualize_frames=True)\n",
    "visualizer.parser().AddModelsFromString(collision_bell_pepper_sdf, \"sdf\")\n",
    "visualizer.Run(loop_once=True)"
   ]
  },
  {
   "cell_type": "markdown",
   "metadata": {},
   "source": [
    "### Inertial properties\n",
    "\n",
    "In order to simulate dynamics, we will add `<mass>` of 0.159kg and `<inertia>` matrix.\n",
    "\n",
    "See the helpful pydrake tools [fix_inertia](https://drake.mit.edu/pydrake/pydrake.multibody.fix_inertia.html) and [mesh_to_model](https://drake.mit.edu/pydrake/pydrake.multibody.mesh_to_model.html) to compute the inertia matrix.\n",
    "\n",
    "The function `bell_pepper()` below returns SDFormat description given `hydroelastic_modulus`. We will use this function later when we experiment with different values of hydroelastic modulus.\n",
    "\n",
    "Notice that the parameter `hydroelastic_modulus` is a character string `'1e6'` (it is enclosed by single quote `'`), not a floating-point number `1e6`, so that the SDFormat description does not lose precision due to formatting.\n",
    "\n",
    "After running the next block, MeshCat will show `drake/illustration`, `drake/proximity`, and the correct `drake/inertia`."
   ]
  },
  {
   "cell_type": "code",
   "execution_count": null,
   "metadata": {},
   "outputs": [],
   "source": [
    "from pydrake.visualization import ModelVisualizer\n",
    "\n",
    "# Define a compliant-hydroelastic bell pepper from\n",
    "# a given hydroelastic modulus.\n",
    "def bell_pepper(hydroelastic_modulus='1e6'):\n",
    "    return f\"\"\"<?xml version=\"1.0\"?>\n",
    "    <sdf version=\"1.7\">\n",
    "      <model name=\"BellPepper\">\n",
    "        <pose>0 0 0 0 0 0</pose>\n",
    "        <link name=\"bell_pepper\">\n",
    "          <inertial>\n",
    "            <pose>0.000537 -0.00272 0.0384 0 0 0</pose>\n",
    "            <mass>0.159</mass>\n",
    "            <inertia>\n",
    "              <ixx> 0.000101</ixx>\n",
    "              <ixy>-0.000001</ixy>\n",
    "              <ixz>-0.000004</ixz>\n",
    "              <iyy> 0.000105</iyy>\n",
    "              <iyz> 0.000007</iyz>\n",
    "              <izz> 0.000107</izz>\n",
    "            </inertia>\n",
    "          </inertial>\n",
    "          <collision name=\"collision\">\n",
    "            <geometry>\n",
    "              <mesh>\n",
    "                <uri>package://drake_models/veggies/yellow_bell_pepper_no_stem_low.vtk</uri>\n",
    "                <scale>1 1 1</scale>\n",
    "              </mesh>\n",
    "            </geometry>\n",
    "            <drake:proximity_properties>\n",
    "              <drake:compliant_hydroelastic/>\n",
    "              <drake:hydroelastic_modulus>{hydroelastic_modulus}</drake:hydroelastic_modulus>\n",
    "              <drake:mu_dynamic>0.5</drake:mu_dynamic>\n",
    "              <drake:hunt_crossley_dissipation>1.25</drake:hunt_crossley_dissipation>\n",
    "            </drake:proximity_properties>\n",
    "          </collision>\n",
    "          <visual name=\"visual\">\n",
    "            <geometry>\n",
    "              <mesh>\n",
    "                <uri>package://drake_models/veggies/yellow_bell_pepper_no_stem_low.obj</uri>\n",
    "                <scale>1 1 1</scale>\n",
    "              </mesh>\n",
    "            </geometry>\n",
    "            <material>\n",
    "              <diffuse>1.0 1.0 1.0 0.5</diffuse>\n",
    "            </material>\n",
    "          </visual>\n",
    "        </link>\n",
    "      </model>\n",
    "    </sdf>\n",
    "    \"\"\"\n",
    "\n",
    "bell_pepper_sdf = bell_pepper()\n",
    "\n",
    "# Visualize the SDFormat string you just defined.\n",
    "visualizer = ModelVisualizer(meshcat=meshcat, visualize_frames=True)\n",
    "visualizer.parser().AddModelsFromString(bell_pepper_sdf, \"sdf\")\n",
    "visualizer.Run(loop_once=True)"
   ]
  },
  {
   "cell_type": "markdown",
   "metadata": {},
   "source": [
    "## Create compliant-hydroelastic table top in URDF\n",
    "\n",
    "The following URDF string specifies a compliant-hydroelastic box for a table top.\n",
    "\n",
    "Both the `<visual>` and `<collision>` geometries are boxes of size 60cm x 1m x 5cm. Observe in MeshCat the X(red), Y(green), and Z(blue) axes.\n",
    "\n",
    "\n",
    "We do not specify `<mass>` and `<inertia>` of the table top because, in the next section when we set up `Diagram`, we will fix the table top to the world frame. It will not move.\n",
    "\n",
    "The `<frame name=\"top_surface\">` is a frame at the top of the table top with the tag:\n",
    "\n",
    "    <pose relative_to=\"table_top_link\">0 0 0.025 0 0 0</pose>\n",
    "\n",
    "It is at 2.5cm (half of the box's height) above the center of the box. In the next section, we will create a scene that places the `top_surface` frame at the world's origin."
   ]
  },
  {
   "cell_type": "code",
   "execution_count": null,
   "metadata": {},
   "outputs": [],
   "source": [
    "from pydrake.visualization import ModelVisualizer\n",
    "\n",
    "# Create a rigid-hydroelastic table top\n",
    "table_top_urdf = \"\"\"<?xml version=\"1.0\"?>\n",
    "  <robot name=\"TableTop\">\n",
    "    <link name=\"table_top_link\">\n",
    "      <visual name=\"visual\">\n",
    "        <geometry>\n",
    "          <box size=\"0.6 1.0 0.05\"/>\n",
    "        </geometry>\n",
    "        <material>\n",
    "         <color rgba=\"0.9 0.8 0.7 0.5\"/>\n",
    "        </material>\n",
    "      </visual>\n",
    "      <collision name=\"collision\">\n",
    "        <geometry>\n",
    "          <box size=\"0.6 1.0 0.05\"/>\n",
    "        </geometry>\n",
    "        <drake:proximity_properties>\n",
    "          <drake:compliant_hydroelastic/>\n",
    "          <drake:hydroelastic_modulus value=\"1e7\"/>\n",
    "          <drake:mu_dynamic value=\"0.5\"/>\n",
    "          <drake:hunt_crossley_dissipation value=\"1.25\"/>\n",
    "        </drake:proximity_properties>\n",
    "      </collision>\n",
    "    </link>\n",
    "    <frame name=\"top_surface\" link=\"table_top_link\" xyz=\"0 0 0.025\" rpy=\"0 0 0\"/>\n",
    "  </robot>\n",
    "\"\"\"\n",
    "\n",
    "# Visualize the URDF string you just defined.\n",
    "visualizer = ModelVisualizer(meshcat=meshcat, visualize_frames=True)\n",
    "visualizer.parser().AddModelsFromString(table_top_urdf, \"urdf\")\n",
    "visualizer.Run(loop_once=True)"
   ]
  },
  {
   "cell_type": "markdown",
   "metadata": {},
   "source": [
    "## Create compliant-hydroelastic bowl in URDF"
   ]
  },
  {
   "cell_type": "code",
   "execution_count": null,
   "metadata": {},
   "outputs": [],
   "source": [
    "bowl_urdf = \"\"\"<?xml version=\"1.0\"?>\n",
    "  <robot name=\"Bowl\">\n",
    "    <link name=\"bowl\">\n",
    "      <inertial>\n",
    "        <mass value=\"0.5\"/>\n",
    "        <origin xyz=\"0 0 -0.00613\"/>\n",
    "        <inertia ixx=\"0.00389\"\n",
    "                 ixy=\"0.00000\"\n",
    "                 ixz=\"0.00000\"\n",
    "                 iyy=\"0.00392\"\n",
    "                 iyz=\"0.00000\"\n",
    "                 izz=\"0.00637\"/>\n",
    "      </inertial>\n",
    "      <visual name=\"visual\">\n",
    "        <geometry>\n",
    "          <mesh filename=\"package://drake_models/dishes/bowls/evo_bowl_no_mtl.obj\"/>\n",
    "        </geometry>\n",
    "        <material>\n",
    "         <color rgba=\"0.9 0.8 0.7 0.5\"/>\n",
    "        </material>\n",
    "      </visual>\n",
    "      <collision name=\"collision\">\n",
    "        <geometry>\n",
    "          <mesh filename=\"package://drake_models/dishes/bowls/evo_bowl.vtk\"/>\n",
    "        </geometry>\n",
    "        <drake:proximity_properties>\n",
    "          <drake:compliant_hydroelastic/>\n",
    "          <drake:hydroelastic_modulus value=\"1e7\"/>\n",
    "          <drake:mu_dynamic value=\"0.5\"/>\n",
    "          <drake:hunt_crossley_dissipation value=\"1.25\"/>\n",
    "        </drake:proximity_properties>\n",
    "      </collision>\n",
    "    </link>\n",
    "  </robot>\n",
    "\"\"\"\n",
    "\n",
    "# Visualize the URDF string you just defined.\n",
    "visualizer = ModelVisualizer(meshcat=meshcat, visualize_frames=True)\n",
    "visualizer.parser().AddModelsFromString(bowl_urdf, \"urdf\")\n",
    "visualizer.Run(loop_once=True)"
   ]
  },
  {
   "cell_type": "markdown",
   "metadata": {},
   "source": [
    "## Create Diagram of the scene\n",
    "\n",
    "The function `add_scene()` below creates a scene using the assets that we created.\n",
    "\n",
    "It uses `DiagramBuilder` to create `MultibodyPlant` and `SceneGraph`. It uses `Parser` to add the two SDFormat strings of the two boxes into `Diagram` of the scene.\n",
    "\n",
    "It sets `discrete_contact_approximation` to `\"similar\"` for stability during high impacts. See [DiscreteContactApproximation](https://drake.mit.edu/doxygen_cxx/namespacedrake_1_1multibody.html#:~:text=enum%20DiscreteContactApproximation).\n",
    "\n",
    "It fixes table's top surface to the world frame by calling `WeldFrames()` and places the bell pepper 30 centimeters above the table top.\n",
    "\n",
    "After this step, the next section will add visualization to `DiagramBuilder`."
   ]
  },
  {
   "cell_type": "code",
   "execution_count": null,
   "metadata": {},
   "outputs": [],
   "source": [
    "from pydrake.math import RigidTransform\n",
    "from pydrake.multibody.parsing import Parser\n",
    "from pydrake.multibody.plant import AddMultibodyPlant, MultibodyPlantConfig\n",
    "from pydrake.systems.framework import DiagramBuilder\n",
    "\n",
    "def clear_meshcat():\n",
    "    # Clear MeshCat window from the previous blocks.\n",
    "    meshcat.Delete()\n",
    "    meshcat.DeleteAddedControls()\n",
    "\n",
    "def add_scene(time_step):\n",
    "    builder = DiagramBuilder()\n",
    "    plant, scene_graph = AddMultibodyPlant(\n",
    "        MultibodyPlantConfig(\n",
    "            time_step=time_step,\n",
    "            discrete_contact_approximation=\"similar\"),\n",
    "        builder)\n",
    "    parser = Parser(plant)\n",
    "\n",
    "    # Load the table top and the box we created.\n",
    "    parser.AddModelsFromString(table_top_urdf, \"urdf\")\n",
    "    parser.AddModelsFromString(bowl_urdf, \"urdf\")\n",
    "    parser.AddModelsFromString(bell_pepper_sdf, \"sdf\")\n",
    "\n",
    "    # Weld the table top to the world so that it's fixed during simulation.\n",
    "    # The top surface passes the world's origin.\n",
    "    plant.WeldFrames(plant.world_frame(), \n",
    "                     plant.GetFrameByName(\"top_surface\"))\n",
    "\n",
    "    # Finalize the plant after loading the scene.\n",
    "    plant.Finalize()\n",
    "\n",
    "    # Set initial position of the bowl\n",
    "    X_WB = RigidTransform(p=[0, 0, 0.061])\n",
    "    plant.SetDefaultFreeBodyPose(plant.GetBodyByName(\"bowl\"), X_WB)\n",
    "    \n",
    "    # Set how high the center of the bell pepper is from the world's origin. \n",
    "    # W = the world's frame\n",
    "    # C = frame at the center of the bell pepper\n",
    "    X_WC = RigidTransform(p=[0, 0, 0.301])\n",
    "    plant.SetDefaultFreeBodyPose(plant.GetBodyByName(\"bell_pepper\"), X_WC)\n",
    "\n",
    "    return builder, plant"
   ]
  },
  {
   "cell_type": "markdown",
   "metadata": {},
   "source": [
    "## Set up visualization of the simulation\n",
    "\n",
    "The function `add_scene()` above does not have visualization, so we will do it in the function `add_viz()` below.\n",
    "\n",
    "It uses `DiagramBuilder` from `add_scene()`. The `meshcat` interface represents the same MeshCat window that we have been using.\n",
    "\n",
    "We set the `publish_period` to 1/64 to publish 64 frames per simulated second. In this example, we publish frequently so we can better see changes in contact. See documentation of [VisualizationConfig](https://drake.mit.edu/doxygen_cxx/structdrake_1_1visualization_1_1_visualization_config.html) for more details.\n",
    "\n",
    "At this step we set `publish_contacts` to `False`, we will set up contact visualization near the end of this tutorial."
   ]
  },
  {
   "cell_type": "code",
   "execution_count": null,
   "metadata": {},
   "outputs": [],
   "source": [
    "from pydrake.visualization import ApplyVisualizationConfig, VisualizationConfig\n",
    "\n",
    "def add_viz(builder, plant):\n",
    "    ApplyVisualizationConfig(\n",
    "        config=VisualizationConfig(\n",
    "                   publish_period = 1 / 32.0,\n",
    "                   publish_contacts = False),\n",
    "        builder=builder, meshcat=meshcat)\n",
    "    \n",
    "    return builder, plant"
   ]
  },
  {
   "cell_type": "markdown",
   "metadata": {},
   "source": [
    "## Visualize contact results\n",
    "\n",
    "To visualize contact results, we will add `ContactVisualizer` to `Diagram` of the previous section.\n",
    "\n",
    "The following function `add_contact_viz()` adds `ContactVisualizer` to `DiagramBuilder` using `MultibodyPlant` and `Meshcat`.\n",
    "\n",
    "With `newtons_per_meter= 2e1`, it will draw a red arrow of length 1 meter for each force of 20 newtons. With `newtons_meters_per_meter= 1e-1`, it will draw a blue arrow of length 1 meter for each torque of 0.1 newton\\*meters. The next section will run the simulation."
   ]
  },
  {
   "cell_type": "code",
   "execution_count": null,
   "metadata": {},
   "outputs": [],
   "source": [
    "from pydrake.multibody.meshcat import ContactVisualizer, ContactVisualizerParams\n",
    "\n",
    "\n",
    "def add_contact_viz(builder, plant):\n",
    "    contact_viz = ContactVisualizer.AddToBuilder(\n",
    "        builder, plant, meshcat,\n",
    "        ContactVisualizerParams(\n",
    "            publish_period= 1.0 / 32.0,\n",
    "            newtons_per_meter= 2e1,\n",
    "            newton_meters_per_meter= 1e-1))\n",
    "\n",
    "    return builder, plant"
   ]
  },
  {
   "cell_type": "markdown",
   "metadata": {},
   "source": [
    "### Run simulation with contact visualization\n",
    "\n",
    "The following code will run the simulation. In MeshCat, the red arrow represents the force `f`, and the blue arrow represents the torque `tau`. You should see the contact patch moving around together with the force and torque vectors. At the end of simulation, it will also report contact result numerically.\n",
    "\n",
    "Notice that the code below does not publish the recording yet. The next section will publish the recording for playback."
   ]
  },
  {
   "cell_type": "code",
   "execution_count": null,
   "metadata": {},
   "outputs": [],
   "source": [
    "from pydrake.systems.analysis import Simulator\n",
    "\n",
    "def run_simulation_with_contact_viz(sim_time, time_step=1e-2):\n",
    "    clear_meshcat()\n",
    "    \n",
    "    builder, plant = add_scene(time_step)\n",
    "    add_viz(builder, plant)\n",
    "    add_contact_viz(builder, plant)\n",
    "    \n",
    "    diagram = builder.Build()\n",
    "    \n",
    "    simulator = Simulator(diagram)\n",
    "    simulator.set_target_realtime_rate(1.0)\n",
    "    \n",
    "    meshcat.StartRecording(frames_per_second=64.0)\n",
    "    simulator.AdvanceTo(sim_time)\n",
    "    meshcat.StopRecording()\n",
    "\n",
    "    \n",
    "run_simulation_with_contact_viz(sim_time=2)"
   ]
  },
  {
   "cell_type": "markdown",
   "metadata": {},
   "source": [
    "### Playback recording to appreciate dynamics\n",
    "\n",
    "After running the code below, playback with `timeScale` = 0.1 or 0.01 to appreciate the contact dynamics. You should see the force and torque vectors oscillate synchronously with the rocking bell pepper.\n",
    "\n",
    "Currently playing back the simulation will show contact force and moment; however, it does not show contact patch appropriately, which could be confusing. It shows the last recorded contact patch. Issue [19142](https://github.com/RobotLocomotion/drake/issues/19142) explains the problem in more details."
   ]
  },
  {
   "cell_type": "code",
   "execution_count": null,
   "metadata": {},
   "outputs": [],
   "source": [
    "meshcat.PublishRecording()"
   ]
  },
  {
   "cell_type": "markdown",
   "metadata": {},
   "source": [
    "## Optional exercises\n",
    "\n",
    "The following sections are optional. It strengthens your understanding of our code and its capability, but you do not need to learn it in order to use hydroelastic contact."
   ]
  },
  {
   "cell_type": "markdown",
   "metadata": {},
   "source": [
    "### Download simulation result into a html file for sharing\n",
    "\n",
    "You can download the simulation result into a self-contained html file, allowing others to playback the simulated results without simulating. The following code prints the URL for downloading. Click on the printed URL to download."
   ]
  },
  {
   "cell_type": "code",
   "execution_count": null,
   "metadata": {},
   "outputs": [],
   "source": [
    "print(f\"{meshcat.web_url()}/download\")"
   ]
  },
  {
   "cell_type": "markdown",
   "metadata": {},
   "source": [
    "### High impact at first contact\n",
    "At 0.25 second, the bell pepper makes a high impact on the table top. Remove `#` below and run the code.You should see a very long red arrow representing a very large force!"
   ]
  },
  {
   "cell_type": "code",
   "execution_count": null,
   "metadata": {},
   "outputs": [],
   "source": [
    "# run_simulation_with_contact_report_and_viz(sim_time=0.25)\n",
    "# meshcat.PublishRecording()"
   ]
  },
  {
   "cell_type": "markdown",
   "metadata": {},
   "source": [
    "### Effects of low hydroelastic modulus\n",
    "\n",
    "The code below change the value of hydroelastic modulus in `bell_pepper_sdf` to the `new_hydroelastic_modulus`. Notice that we use the single quoted `'` to enclose the number for `new_hydroelastic_modulus`, so it is treated as a character string.\n",
    "\n",
    "Set `new_hydroelastic_modulus` to unphysically low value like 1e2 Pascals, and you should see the bell pepper drops down and passes through the tabel top. This is because the low hydroelastic modulus cannot make enough contact force to match gravity force. Most materials has Young's modulus in the range of 1e6 Pa (rubber) to 1e12 Pa (carbon nanotube), so their hydroelastic modulus should be in the range of 1e5 Pa (rubber) to 1e10 Pa (carbon nanotube).\n",
    "\n",
    "Remove `#` in the code below and run it.\n",
    "\n",
    "Playback slowly with timeScale 0.1 in MeshCat, and you should see a very short red arrow of contact force around 0.25 seconds."
   ]
  },
  {
   "cell_type": "code",
   "execution_count": null,
   "metadata": {},
   "outputs": [],
   "source": [
    "# new_hydroelastic_modulus = '1e2'\n",
    "# bell_pepper_sdf = bell_pepper(hydroelastic_modulus = new_hydroelastic_modulus)\n",
    "# \n",
    "# run_simulation_with_contact_report_and_viz(sim_time=0.27)\n",
    "# meshcat.PublishRecording()"
   ]
  },
  {
   "cell_type": "markdown",
   "metadata": {},
   "source": [
    "## Further reading\n",
    "\n",
    "* [Hydroelastic Contact User Guide](https://drake.mit.edu/doxygen_cxx/group__hydroelastic__user__guide.html)\n",
    "\n",
    "* Elandt, R., Drumwright, E., Sherman, M., & Ruina, A. (2019, November). A pressure field model for fast, robust approximation of net contact force and moment between nominally rigid objects. In 2019 IEEE/RSJ International Conference on Intelligent Robots and Systems(IROS) (pp. 8238-8245). IEEE. [link](https://arxiv.org/abs/1904.11433)\n",
    "\n",
    "* Masterjohn, J., Guoy, D., Shepherd, J., & Castro, A. (2022). Velocity Level Approximation of Pressure Field Contact Patches. IEEE Robotics and Automation Letters 7, no. 4 (2022): 11593-11600. [link](https://arxiv.org/abs/2110.04157v2)\n",
    "\n",
    "* Elandt, R. (2022, December). Pressure Field Contact. Dissertation. Cornell University. [link](https://ecommons.cornell.edu/handle/1813/112919)"
   ]
  }
 ],
 "metadata": {
  "kernelspec": {
   "display_name": "Python 3 (ipykernel)",
   "language": "python",
   "name": "python3"
  },
  "language_info": {
   "codemirror_mode": {
    "name": "ipython",
    "version": 3
   },
   "file_extension": ".py",
   "mimetype": "text/x-python",
   "name": "python",
   "nbconvert_exporter": "python",
   "pygments_lexer": "ipython3",
   "version": "3.10.12"
  }
 },
 "nbformat": 4,
 "nbformat_minor": 2
}
