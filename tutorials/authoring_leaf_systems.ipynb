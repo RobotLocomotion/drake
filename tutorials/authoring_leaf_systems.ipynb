{
 "cells": [
  {
   "cell_type": "markdown",
   "metadata": {},
   "source": [
    "# Authoring Leaf Systems\n",
    "For instructions on how to run these tutorial notebooks, please see the [index](./index.ipynb).\n"
   ]
  },
  {
   "cell_type": "code",
   "execution_count": null,
   "metadata": {},
   "outputs": [],
   "source": [
    "import numpy as np\n",
    "from pydrake.common.value import AbstractValue\n",
    "from pydrake.math import RigidTransform, RotationMatrix\n",
    "from pydrake.systems.analysis import Simulator\n",
    "from pydrake.systems.framework import BasicVector, LeafSystem\n",
    "from pydrake.trajectories import PiecewisePolynomial"
   ]
  },
  {
   "attachments": {},
   "cell_type": "markdown",
   "metadata": {},
   "source": [
    "The [Modeling Dynamical Systems](./dynamical_systems.ipynb) tutorial gave a\n",
    "very basic introduction to Drake's Systems framework, including writing a basic\n",
    "[LeafSystem](https://drake.mit.edu/doxygen_cxx/classdrake_1_1systems_1_1_leaf_system.html).\n",
    "In this notebook we'll provide a more advanced/complete overview of authoring\n",
    "those systems."
   ]
  },
  {
   "attachments": {},
   "cell_type": "markdown",
   "metadata": {},
   "source": [
    "## Input and Output Ports\n",
    "\n",
    "Leaf systems can have any number of input and output ports.  There are two basic types of ports: **vector-valued** ports and \"**abstract-valued**\" ports. Let's start with vector-valued ports, which are the easiest to work.  The following system declares two vector input ports, and two vector output ports."
   ]
  },
  {
   "cell_type": "code",
   "execution_count": null,
   "metadata": {},
   "outputs": [],
   "source": [
    "class MyAdder(LeafSystem):\n",
    "    def __init__(self):\n",
    "        LeafSystem.__init__(self)  # Don't forget to initialize the base class.\n",
    "        self.DeclareVectorInputPort(name=\"a\", size=2)\n",
    "        self.DeclareVectorInputPort(name=\"b\", size=2)\n",
    "        self.DeclareVectorOutputPort(name=\"sum\", size=2, calc=self.CalcSum)\n",
    "        self.DeclareVectorOutputPort(name=\"difference\",\n",
    "                                     size=2,\n",
    "                                     calc=self.CalcDifference)\n",
    "\n",
    "    def CalcSum(self, context, output):\n",
    "        # Evaluate the input ports to obtain the 2x1 vectors\n",
    "        a = system.get_input_port(0).Eval(context)\n",
    "        b = system.get_input_port(1).Eval(context)\n",
    "\n",
    "        # Write the sum into the output vector\n",
    "        output.SetFromVector(a + b)\n",
    "\n",
    "    def CalcDifference(self, context, output):\n",
    "        # Evaluate the input ports to obtain the 2x1 vectors\n",
    "        a = system.get_input_port(0).Eval(context)\n",
    "        b = system.get_input_port(1).Eval(context)\n",
    "\n",
    "        # Write the difference into output vector\n",
    "        output.SetFromVector(a - b)\n",
    "\n",
    "# Construct an instance of this system and a context\n",
    "system = MyAdder()\n",
    "context = system.CreateDefaultContext()\n",
    "\n",
    "# Fix the input ports to some constant values\n",
    "system.get_input_port(0).FixValue(context, [3, 4])\n",
    "system.get_input_port(1).FixValue(context, [1, 2])\n",
    "\n",
    "# Evaluate the output ports\n",
    "print(f\"sum: {system.get_output_port(0).Eval(context)}\")\n",
    "print(f\"difference: {system.get_output_port(1).Eval(context)}\")"
   ]
  },
  {
   "attachments": {},
   "cell_type": "markdown",
   "metadata": {},
   "source": [
    "There are a few things to notice here:\n",
    "- You can declare as many inputs or outputs as you like (and they need not be the same size).\n",
    "- All of the inputs can be evaluated from any of the system methods that accept a `Context`.\n",
    "- For each output port, you define a difference callback function that implements the output.\n",
    "\n",
    "It is also helpful to understand that:\n",
    "- Input and output ports do not have any timing semantics on their own; output ports are evaluated whenever their output is requested, and [use caching](https://drake.mit.edu/doxygen_cxx/group__cache__design__notes.html) by default to avoid repeated computation.\n",
    "- You can also make inputs optional, by checking [InputPort::HasValue()](https://drake.mit.edu/doxygen_cxx/classdrake_1_1systems_1_1_input_port.html#a5536b94a4642fa4cf47164437dc66ae8) in the system method implementations.\n",
    "\n",
    "Keeping track of the order of the ports can be a bit brittle. So we can improve the code e.g. by using their index or referencing them by name.  Here is a modified version of that example which uses both approaches:"
   ]
  },
  {
   "cell_type": "code",
   "execution_count": null,
   "metadata": {},
   "outputs": [],
   "source": [
    "class MyAdder(LeafSystem):\n",
    "    def __init__(self):\n",
    "        LeafSystem.__init__(self)  # Don't forget to initialize the base class.\n",
    "        self._a_index = self.DeclareVectorInputPort(name=\"a\",\n",
    "                                                    size=2).get_index()\n",
    "        self._b_index = self.DeclareVectorInputPort(name=\"b\",\n",
    "                                                    size=2).get_index()\n",
    "        self.DeclareVectorOutputPort(name=\"sum\", size=2, calc=self.CalcSum)\n",
    "        self.DeclareVectorOutputPort(name=\"difference\",\n",
    "                                     size=2,\n",
    "                                     calc=self.CalcDifference)\n",
    "\n",
    "    def CalcSum(self, context, output):\n",
    "        # Evaluate the input ports to obtain the 2x1 vectors\n",
    "        a = system.get_input_port(self._a_index).Eval(context)\n",
    "        b = system.get_input_port(self._b_index).Eval(context)\n",
    "\n",
    "        # Write the sum into the output vector\n",
    "        output.SetFromVector(a + b)\n",
    "\n",
    "    def CalcDifference(self, context, output):\n",
    "        # Evaluate the input ports to obtain the 2x1 vectors\n",
    "        a = system.GetInputPort(\"a\").Eval(context)\n",
    "        b = system.GetInputPort(\"b\").Eval(context)\n",
    "\n",
    "        # Write the difference into output vector\n",
    "        output.SetFromVector(a - b)\n",
    "\n",
    "# Construct an instance of this system and a context\n",
    "system = MyAdder()\n",
    "context = system.CreateDefaultContext()\n",
    "\n",
    "# Fix the input ports to some constant values\n",
    "system.GetInputPort(\"a\").FixValue(context, [3, 4])\n",
    "system.GetInputPort(\"b\").FixValue(context, [1, 2])\n",
    "\n",
    "# Evaluate the output ports\n",
    "print(f\"sum: {system.GetOutputPort('sum').Eval(context)}\")\n",
    "print(f\"difference: {system.GetOutputPort('difference').Eval(context)}\")"
   ]
  },
  {
   "attachments": {},
   "cell_type": "markdown",
   "metadata": {},
   "source": [
    "Not all inputs and outputs are best represented as a vector. Drake's system framework also supports passing structure types across ports, which is implemented in C++ using a technique called \"type erasure\". From the perspective of the systems framework, classes work with an \"abstract\" data type, and only the system implementation itself needs to know how to work with the structured type. In practice, if you can overlook our small amount of boilerplate, the usage is straightforward. Let's give an example of a `LeafSystem` that uses a `RigidTransform` in its input and output ports:"
   ]
  },
  {
   "cell_type": "code",
   "execution_count": null,
   "metadata": {},
   "outputs": [],
   "source": [
    "class RotateAboutZ(LeafSystem):\n",
    "    def __init__(self):\n",
    "        LeafSystem.__init__(self)  # Don't forget to initialize the base class.\n",
    "        self.DeclareAbstractInputPort(name=\"in\",\n",
    "                                      model_value=AbstractValue.Make(\n",
    "                                          RigidTransform()))\n",
    "        self.DeclareAbstractOutputPort(\n",
    "            name=\"out\",\n",
    "            alloc=lambda: AbstractValue.Make(RigidTransform()),\n",
    "            calc=self.CalcOutput)\n",
    "\n",
    "    def CalcOutput(self, context, output):\n",
    "        # Evaluate the input ports to obtain the RigidTransform\n",
    "        X_1 = system.get_input_port(0).Eval(context)\n",
    "\n",
    "        X_2 = RigidTransform(RotationMatrix.MakeZRotation(np.pi / 2)) @ X_1\n",
    "\n",
    "        # Set the output RigidTransform\n",
    "        output.set_value(X_2)\n",
    "\n",
    "# Construct an instance of this system and a context\n",
    "system = RotateAboutZ()\n",
    "context = system.CreateDefaultContext()\n",
    "\n",
    "# Fix the input port to a constant value\n",
    "system.get_input_port(0).FixValue(context, RigidTransform())\n",
    "\n",
    "# Evaluate the output port\n",
    "print(f\"output: {system.get_output_port(0).Eval(context)}\")"
   ]
  },
  {
   "attachments": {},
   "cell_type": "markdown",
   "metadata": {},
   "source": [
    "## State Variables\n",
    "\n",
    "Systems store their state in the `Context`, and work with state in a very similar way to input and output ports. Again, we have have vector-valued state or abstract-valued state. Abstract state can only be updated in a discrete-time fashion, but vector-valued state can be declared to be either **discrete** or **continuous**.  \n",
    "\n",
    "A discrete state $x_d$ will evolved based on a update events, the most common of which would be a simple periodic event to define a difference equation.  We saw an example of this in the [introductory notebook](./dynamical_systems.ipynb)."
   ]
  },
  {
   "cell_type": "code",
   "execution_count": null,
   "metadata": {},
   "outputs": [],
   "source": [
    "# Define the system.\n",
    "class SimpleDiscreteTimeSystem(LeafSystem):\n",
    "    def __init__(self):\n",
    "        LeafSystem.__init__(self)\n",
    "\n",
    "        state_index = self.DeclareDiscreteState(1)  # One state variable.\n",
    "        self.DeclareStateOutputPort(\"y\", state_index)  # One output: y=x.\n",
    "        self.DeclarePeriodicDiscreteUpdateEvent(\n",
    "            period_sec=1.0,  # One second timestep.\n",
    "            offset_sec=0.0,  # The first event is at time zero.\n",
    "            update=self.Update) # Call the Update method defined below.\n",
    "\n",
    "    # x[n+1] = x^3[n]\n",
    "    def Update(self, context, discrete_state):\n",
    "        x = context.get_discrete_state_vector().GetAtIndex(0)\n",
    "        xnext = x**3\n",
    "        discrete_state.get_mutable_vector().SetAtIndex(0, xnext)\n",
    "\n",
    "# Instantiate the System\n",
    "system = SimpleDiscreteTimeSystem()\n",
    "simulator = Simulator(system)\n",
    "simulator.AdvanceTo(4.0)"
   ]
  },
  {
   "attachments": {},
   "cell_type": "markdown",
   "metadata": {},
   "source": [
    "You can find details on the implementation and order of these events [here](https://drake.mit.edu/doxygen_cxx/group__discrete__systems.html). It's also possible to define more complicated [events](https://drake.mit.edu/doxygen_cxx/group__events__description.html) for updating the discrete variables. \n",
    "\n",
    "Note that the states of a system are not immediately accessible to other systems in a `Diagram`. For a system to share its state, it must do that using an output port. We provide the `DeclareStateOutputPort()` method to make this common case easy.\n",
    "\n",
    "The evolution of continuous vector-valued state variables is governed by a differential equation. While it is possible and convenient to declare many different groups of discrete state variables (they may even be updated at different rates by different events), we only define zero or one continuous state vector for a system, and define its dynamics by overloading the `LeafSystem::DoCalcTimeDerivatives()` method. Here is the simple continuous-time example in the introductory notebook again: "
   ]
  },
  {
   "cell_type": "code",
   "execution_count": null,
   "metadata": {},
   "outputs": [],
   "source": [
    "# Define the system.\n",
    "class SimpleContinuousTimeSystem(LeafSystem):\n",
    "    def __init__(self):\n",
    "        LeafSystem.__init__(self)\n",
    "\n",
    "        state_index = self.DeclareContinuousState(1)  # One state variable.\n",
    "        self.DeclareStateOutputPort(\"y\", state_index)  # One output: y=x.\n",
    "\n",
    "    # xdot(t) = -x(t) + x^3(t)\n",
    "    def DoCalcTimeDerivatives(self, context, derivatives):\n",
    "        x = context.get_continuous_state_vector().GetAtIndex(0)\n",
    "        xdot = -x + x**3\n",
    "        derivatives.get_mutable_vector().SetAtIndex(0, xdot)\n",
    "\n",
    "# Instantiate the System\n",
    "system = SimpleContinuousTimeSystem()\n",
    "simulator = Simulator(system)\n",
    "simulator.AdvanceTo(4.0)"
   ]
  },
  {
   "attachments": {},
   "cell_type": "markdown",
   "metadata": {},
   "source": [
    "For abstract-valued state, we have a similar workflow. We declare the state in the constructor, and define update events to update that state.  Discrete update events are restricted to updating *only* the discrete states, so we use \"unrestricted\" events to update the abstract state. Here is an example which stores a simple `PiecewisePolynomial` trajectory as abstract state:"
   ]
  },
  {
   "cell_type": "code",
   "execution_count": null,
   "metadata": {},
   "outputs": [],
   "source": [
    "class AbstractStateSystem(LeafSystem):\n",
    "    def __init__(self):\n",
    "        LeafSystem.__init__(self)\n",
    "\n",
    "        self._traj_index = self.DeclareAbstractState(\n",
    "            AbstractValue.Make(PiecewisePolynomial()))\n",
    "        self.DeclarePeriodicUnrestrictedUpdateEvent(period_sec=1.0,\n",
    "                                                    offset_sec=0.0,\n",
    "                                                    update=self.Update)\n",
    "\n",
    "    # x[n+1] = x^3[n]\n",
    "    def Update(self, context, discrete_state):\n",
    "        t = context.get_time()\n",
    "        # Update the state\n",
    "        context.get_mutable_abstract_state(int(self._traj_index)).set_value(\n",
    "            PiecewisePolynomial.FirstOrderHold(\n",
    "                [t, t + 1],\n",
    "                np.array([[-np.pi / 2.0 + 1., -np.pi / 2.0 - 1.], [-2., 2.]])))\n",
    "\n",
    "\n",
    "system = AbstractStateSystem()\n",
    "simulator = Simulator(system)\n",
    "simulator.AdvanceTo(4.0)"
   ]
  },
  {
   "attachments": {},
   "cell_type": "markdown",
   "metadata": {},
   "source": [
    "## Parameters\n",
    "\n",
    "Parameters are like states, except that they are constant through the lifetime of a simulation. Parameters in the systems framework are declared and accessed almost identically to state, but they are never updated. Once again, we have vector-valued (declared with `DeclareNumericParameter`) and abstract-valued (via `DeclareAbstractParameter`) parameters."
   ]
  },
  {
   "cell_type": "code",
   "execution_count": null,
   "metadata": {},
   "outputs": [],
   "source": [
    "class SystemWithParameters(LeafSystem):\n",
    "    def __init__(self):\n",
    "        LeafSystem.__init__(self)  # Don't forget to initialize the base class.\n",
    "\n",
    "        self.DeclareNumericParameter(BasicVector([1.2, 3.4]))\n",
    "        self.DeclareAbstractParameter(\n",
    "            AbstractValue.Make(\n",
    "                RigidTransform(RotationMatrix.MakeXRotation(np.pi / 6))))\n",
    "\n",
    "        # Declare output ports to demonstrate how to access the parameters in\n",
    "        # system methods.\n",
    "        self.DeclareVectorOutputPort(name=\"numeric\",\n",
    "                                     size=2,\n",
    "                                     calc=self.OutputNumeric)\n",
    "        self.DeclareAbstractOutputPort(\n",
    "            name=\"abstract\",\n",
    "            alloc=lambda: AbstractValue.Make(RigidTransform()),\n",
    "            calc=self.OutputAbstract)\n",
    "\n",
    "    def OutputNumeric(self, context, output):\n",
    "        output.SetFromVector(context.get_numeric_parameter(0).get_value())\n",
    "\n",
    "    def OutputAbstract(self, context, output):\n",
    "        output.set_value(context.get_abstract_parameter(0).get_value())\n",
    "\n",
    "# Construct an instance of this system and a context\n",
    "system = SystemWithParameters()\n",
    "context = system.CreateDefaultContext()\n",
    "\n",
    "# Evaluate the output ports\n",
    "print(f\"numeric: {system.get_output_port(0).Eval(context)}\")\n",
    "print(f\"abstract: {system.get_output_port(1).Eval(context)}\")"
   ]
  },
  {
   "attachments": {},
   "cell_type": "markdown",
   "metadata": {},
   "source": [
    "## Supporting Scalar Type Conversion (double, AutoDiff, and Symbolic)\n",
    "\n",
    "In order to support AutoDiff and Symbolic types throughout the systems framework, LeafSystems can be written to support \"scalar type conversion\". In Python, adding this support requires a small amount of boilerplate.  Here is a simple example:"
   ]
  },
  {
   "cell_type": "code",
   "execution_count": null,
   "metadata": {},
   "outputs": [],
   "source": [
    "from pydrake.systems.framework import LeafSystem_\n",
    "from pydrake.systems.scalar_conversion import TemplateSystem\n",
    "from pydrake.autodiffutils import AutoDiffXd\n",
    "from pydrake.symbolic import Expression\n",
    "\n",
    "@TemplateSystem.define(\"RunningCost_\")\n",
    "def RunningCost_(T):\n",
    "\n",
    "    class Impl(LeafSystem_[T]):\n",
    "\n",
    "        def _construct(self, converter=None):\n",
    "            LeafSystem_[T].__init__(self, converter)\n",
    "            self.DeclareVectorInputPort(\"state\", 2)\n",
    "            self.DeclareVectorInputPort(\"command\", 1)\n",
    "            self.DeclareVectorOutputPort(\"cost\", 1,self.CostOutput)\n",
    "\n",
    "        def _construct_copy(self, other, converter=None):\n",
    "            Impl._construct(self, converter=converter)\n",
    "\n",
    "        def CostOutput(self, context, output):\n",
    "            x = self.get_input_port(0).Eval(context)\n",
    "            u = self.get_input_port(1).Eval(context)[0]\n",
    "            Q = np.diag([10, 1])\n",
    "            output[0] = x.dot(Q.dot(x)) + u**2\n",
    "\n",
    "    return Impl\n",
    "\n",
    "RunningCost = RunningCost_[None]  # Default instantiation"
   ]
  },
  {
   "attachments": {},
   "cell_type": "markdown",
   "metadata": {},
   "source": [
    "The important steps are:\n",
    "- Add the @TemplateSystem decorator\n",
    "- Derive from `LeafSystem_[T]` instead of simply `LeafSystem`.\n",
    "- Implement the `_construct` method *instead* of the typical `__init__` method.\n",
    "- Implement the `_construct_copy` method.\n",
    "- Add the default instantiation, so that you can continue to refer to the system as e.g. `RunningCost` in addition to using `RunningCost_[float]`.\n",
    "\n",
    "For further details, you can find the related documentation for scalar conversion in C++ [here](https://drake.mit.edu/doxygen_cxx/group__system__scalar__conversion.html)."
   ]
  },
  {
   "cell_type": "code",
   "execution_count": null,
   "metadata": {},
   "outputs": [],
   "source": [
    "# Having done this, we can still use the system in the original way:\n",
    "system = RunningCost()\n",
    "context = system.CreateDefaultContext()\n",
    "system.get_input_port(0).FixValue(context, [1, 2])\n",
    "system.get_input_port(1).FixValue(context, [3])\n",
    "print(system.get_output_port().Eval(context))\n",
    "\n",
    "# But we can also now use an autodiff or symbolic versions of the system,\n",
    "# either by declaring them directly:\n",
    "system_ad = RunningCost_[AutoDiffXd]\n",
    "system_symbolic = RunningCost_[Expression]\n",
    "\n",
    "# or by scalar conversion:\n",
    "system_ad = system.ToAutoDiffXd()\n",
    "system_symbolic = system.ToSymbolic()\n",
    "\n",
    "# We can also convert the time, state, parameters, and (if needed) input ports\n",
    "# from the original system:\n",
    "context_symbolic = system_symbolic.CreateDefaultContext()\n",
    "context_symbolic.SetTimeStateAndParametersFrom(context)\n",
    "system_symbolic.FixInputPortsFrom(system, context, context_symbolic)\n",
    "print(system_symbolic.get_output_port().Eval(context_symbolic))"
   ]
  },
  {
   "attachments": {},
   "cell_type": "markdown",
   "metadata": {},
   "source": [
    "## Further reading\n",
    "\n",
    "[Caching in the systems framework](https://drake.mit.edu/doxygen_cxx/group__cache__design__notes.html)\n",
    "\n",
    "[Declaring events](https://drake.mit.edu/doxygen_cxx/group__events__description.html)\n",
    "\n",
    "[Stochastic systems](https://drake.mit.edu/doxygen_cxx/group__stochastic__systems.html)"
   ]
  }
 ],
 "metadata": {
  "kernelspec": {
   "display_name": "Python 3",
   "language": "python",
   "name": "python3"
  },
  "language_info": {
   "codemirror_mode": {
    "name": "ipython",
    "version": 3
   },
   "file_extension": ".py",
   "mimetype": "text/x-python",
   "name": "python",
   "nbconvert_exporter": "python",
   "pygments_lexer": "ipython3",
   "version": "3.8.10"
  },
  "vscode": {
   "interpreter": {
    "hash": "e7370f93d1d0cde622a1f8e1c04877d8463912d04d973331ad4851f04de6915a"
   }
  }
 },
 "nbformat": 4,
 "nbformat_minor": 2
}
