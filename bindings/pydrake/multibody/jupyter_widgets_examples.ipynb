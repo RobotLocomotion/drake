{
 "cells": [
  {
   "cell_type": "code",
   "execution_count": null,
   "metadata": {},
   "outputs": [],
   "source": [
    "running_as_notebook = False  # Manually set this to True if you are a human (see #13862)."
   ]
  },
  {
   "cell_type": "markdown",
   "metadata": {},
   "source": [
    "# JointSliders\n",
    "\n",
    "Running this cell should allow you to control the joints of the IIWA in drake visualizer."
   ]
  },
  {
   "cell_type": "code",
   "execution_count": null,
   "metadata": {},
   "outputs": [],
   "source": [
    "import numpy as np\n",
    "\n",
    "from IPython.display import display\n",
    "from ipywidgets import ToggleButton\n",
    "\n",
    "from pydrake.common import FindResourceOrThrow\n",
    "from pydrake.geometry import ConnectDrakeVisualizer, SceneGraph\n",
    "from pydrake.multibody.plant import MultibodyPlant\n",
    "from pydrake.multibody.parsing import Parser\n",
    "from pydrake.systems.analysis import Simulator                                      \n",
    "from pydrake.systems.framework import DiagramBuilder\n",
    "from pydrake.systems.rendering import MultibodyPositionToGeometryPose\n",
    "\n",
    "from pydrake.multibody.jupyter_widgets import JointSliders\n",
    "\n",
    "builder = DiagramBuilder()\n",
    "scene_graph = builder.AddSystem(SceneGraph())\n",
    "plant = MultibodyPlant(time_step=0.0)\n",
    "plant.RegisterAsSourceForSceneGraph(scene_graph)\n",
    "Parser(plant, scene_graph).AddModelFromFile(FindResourceOrThrow(\n",
    "    \"drake/manipulation/models/iiwa_description/iiwa7/iiwa7_no_collision.sdf\"))\n",
    "plant.Finalize()\n",
    "\n",
    "# Add sliders to set positions of the joints.\n",
    "sliders = builder.AddSystem(JointSliders(robot=plant))\n",
    "to_pose = builder.AddSystem(MultibodyPositionToGeometryPose(plant))\n",
    "builder.Connect(sliders.get_output_port(0), to_pose.get_input_port())\n",
    "builder.Connect(\n",
    "    to_pose.get_output_port(),\n",
    "    scene_graph.get_source_pose_port(plant.get_source_id()))\n",
    "\n",
    "ConnectDrakeVisualizer(builder, scene_graph)\n",
    "\n",
    "# Make the diagram and run it.\n",
    "diagram = builder.Build()\n",
    "simulator = Simulator(diagram)\n",
    "\n",
    "if running_as_notebook:  \n",
    "    simulator.set_target_realtime_rate(1.0)\n",
    "    stop_button = ToggleButton(value=False, description='Stop Simulation')\n",
    "    display(stop_button)\n",
    "    while not stop_button.value:\n",
    "        simulator.AdvanceTo(simulator.get_context().get_time() + 5.0)\n",
    "    stop_button.value = False\n",
    "else:  # running as a test.\n",
    "    simulator.AdvanceTo(0.1)\n"
   ]
  },
  {
   "cell_type": "code",
   "execution_count": null,
   "metadata": {},
   "outputs": [],
   "source": []
  }
 ],
 "metadata": {
  "kernelspec": {
   "display_name": "Python 3",
   "language": "python",
   "name": "python3"
  },
  "language_info": {
   "codemirror_mode": {
    "name": "ipython",
    "version": 3
   },
   "file_extension": ".py",
   "mimetype": "text/x-python",
   "name": "python",
   "nbconvert_exporter": "python",
   "pygments_lexer": "ipython3",
   "version": "3.6.9"
  }
 },
 "nbformat": 4,
 "nbformat_minor": 4
}