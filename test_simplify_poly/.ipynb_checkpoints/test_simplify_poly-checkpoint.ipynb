{
 "cells": [
  {
   "cell_type": "code",
   "execution_count": 1,
   "metadata": {},
   "outputs": [],
   "source": [
    "import sys\n",
    "import copy\n",
    "import time\n",
    "import os\n",
    "from datetime import date\n",
    "import csv\n",
    "import random\n",
    "\n",
    "import numpy as np\n",
    "from pydrake.geometry.optimization import HPolyhedron, VPolytope\n",
    "from pydrake.solvers import MathematicalProgram\n",
    "import pydrake.solvers as solvers_drake\n",
    "import yaml\n",
    "import utils\n",
    "# from simplify_poly import shrink_poly, V_poly_from_intersections, V_poly_from_intersection_cheby_centers\n",
    "\n",
    "# from simplify_poly_minimal import simplify, V_poly_from_intersection_chebyshev_centers\n",
    "\n",
    "\n",
    "import numpy as np\n",
    "from pydrake.geometry.optimization import HPolyhedron\n",
    "from pydrake.solvers import MathematicalProgram\n",
    "import pydrake.solvers as solvers_drake\n",
    "import yaml\n",
    "\n",
    "gurobi_solver = solvers_drake.GurobiSolver()\n",
    "gurobi_license = gurobi_solver.AcquireLicense()\n"
   ]
  },
  {
   "cell_type": "markdown",
   "metadata": {},
   "source": [
    "## Testing scrap"
   ]
  },
  {
   "cell_type": "code",
   "execution_count": 2,
   "metadata": {},
   "outputs": [],
   "source": [
    "A = np.hstack((np.array(range(10))[:,np.newaxis],np.array(range(10))[:,np.newaxis]))\n",
    "b = np.array(range(10))"
   ]
  },
  {
   "cell_type": "code",
   "execution_count": 3,
   "metadata": {},
   "outputs": [
    {
     "data": {
      "text/plain": [
       "array([0, 1, 2, 3, 4, 5, 6, 7, 8, 9])"
      ]
     },
     "execution_count": 3,
     "metadata": {},
     "output_type": "execute_result"
    }
   ],
   "source": [
    "b"
   ]
  },
  {
   "cell_type": "code",
   "execution_count": 4,
   "metadata": {},
   "outputs": [],
   "source": [
    "X = HPolyhedron(A,b)"
   ]
  },
  {
   "cell_type": "code",
   "execution_count": 6,
   "metadata": {},
   "outputs": [],
   "source": [
    "d = np.array(range(10))\n",
    "moved_in = np.random.choice([True,False], size = 10)"
   ]
  },
  {
   "cell_type": "code",
   "execution_count": 7,
   "metadata": {},
   "outputs": [
    {
     "data": {
      "text/plain": [
       "array([False, False,  True,  True, False,  True,  True,  True,  True,\n",
       "        True])"
      ]
     },
     "execution_count": 7,
     "metadata": {},
     "output_type": "execute_result"
    }
   ],
   "source": [
    "moved_in"
   ]
  },
  {
   "cell_type": "code",
   "execution_count": 8,
   "metadata": {},
   "outputs": [
    {
     "ename": "AttributeError",
     "evalue": "'pydrake.geometry.optimization.HPolyhedron' object has no attribute 'ShuffleHyperplanes'",
     "output_type": "error",
     "traceback": [
      "\u001b[0;31m---------------------------------------------------------------------------\u001b[0m",
      "\u001b[0;31mAttributeError\u001b[0m                            Traceback (most recent call last)",
      "\u001b[0;32m/tmp/ipykernel_1885793/2188457830.py\u001b[0m in \u001b[0;36m<module>\u001b[0;34m\u001b[0m\n\u001b[0;32m----> 1\u001b[0;31m \u001b[0mX_shuffled\u001b[0m \u001b[0;34m=\u001b[0m \u001b[0mX\u001b[0m\u001b[0;34m.\u001b[0m\u001b[0mShuffleHyperplanes\u001b[0m\u001b[0;34m(\u001b[0m\u001b[0md\u001b[0m\u001b[0;34m,\u001b[0m\u001b[0mmoved_in\u001b[0m\u001b[0;34m,\u001b[0m\u001b[0;36m0\u001b[0m\u001b[0;34m)\u001b[0m\u001b[0;34m\u001b[0m\u001b[0;34m\u001b[0m\u001b[0m\n\u001b[0m",
      "\u001b[0;31mAttributeError\u001b[0m: 'pydrake.geometry.optimization.HPolyhedron' object has no attribute 'ShuffleHyperplanes'"
     ]
    }
   ],
   "source": [
    "X_shuffled = X.ShuffleHyperplanes(d,moved_in,0)"
   ]
  },
  {
   "cell_type": "code",
   "execution_count": null,
   "metadata": {},
   "outputs": [
    {
     "data": {
      "text/plain": [
       "array([[0., 0.],\n",
       "       [2., 2.],\n",
       "       [1., 1.],\n",
       "       [5., 5.],\n",
       "       [9., 9.],\n",
       "       [8., 8.],\n",
       "       [4., 4.],\n",
       "       [7., 7.],\n",
       "       [6., 6.],\n",
       "       [3., 3.]])"
      ]
     },
     "execution_count": 9,
     "metadata": {},
     "output_type": "execute_result"
    }
   ],
   "source": [
    "X_shuffled.A()"
   ]
  },
  {
   "cell_type": "code",
   "execution_count": null,
   "metadata": {},
   "outputs": [
    {
     "data": {
      "text/plain": [
       "array([0., 2., 1., 5., 9., 8., 4., 7., 6., 3.])"
      ]
     },
     "execution_count": 10,
     "metadata": {},
     "output_type": "execute_result"
    }
   ],
   "source": [
    "X_shuffled.b()"
   ]
  },
  {
   "cell_type": "code",
   "execution_count": null,
   "metadata": {},
   "outputs": [
    {
     "data": {
      "text/plain": [
       "array([ True,  True,  True,  True, False,  True, False, False,  True,\n",
       "       False])"
      ]
     },
     "execution_count": 11,
     "metadata": {},
     "output_type": "execute_result"
    }
   ],
   "source": [
    "moved_in"
   ]
  },
  {
   "cell_type": "code",
   "execution_count": null,
   "metadata": {},
   "outputs": [
    {
     "data": {
      "text/plain": [
       "array([0, 1, 2, 3, 4, 5, 6, 7, 8, 9])"
      ]
     },
     "execution_count": 12,
     "metadata": {},
     "output_type": "execute_result"
    }
   ],
   "source": [
    "d"
   ]
  },
  {
   "cell_type": "code",
   "execution_count": null,
   "metadata": {},
   "outputs": [
    {
     "data": {
      "text/plain": [
       "False"
      ]
     },
     "execution_count": 11,
     "metadata": {},
     "output_type": "execute_result"
    }
   ],
   "source": [
    "X.IsEmpty()"
   ]
  },
  {
   "cell_type": "code",
   "execution_count": null,
   "metadata": {},
   "outputs": [
    {
     "data": {
      "text/plain": [
       "<pydrake.geometry.optimization.HPolyhedron at 0x7f41d70eb970>"
      ]
     },
     "execution_count": 9,
     "metadata": {},
     "output_type": "execute_result"
    }
   ],
   "source": [
    "X.MakeUnitBox(4)"
   ]
  },
  {
   "cell_type": "code",
   "execution_count": null,
   "metadata": {},
   "outputs": [],
   "source": []
  },
  {
   "cell_type": "markdown",
   "metadata": {},
   "source": [
    "### Testing"
   ]
  },
  {
   "cell_type": "markdown",
   "metadata": {},
   "source": [
    "#### `move_face_and_cull`"
   ]
  },
  {
   "cell_type": "code",
   "execution_count": null,
   "metadata": {},
   "outputs": [],
   "source": [
    "def unit_test_move_face_and_cull():\n",
    "    random.seed(10)\n",
    "    # A uniform circumbody:\n",
    "    N = 6\n",
    "    H = np.zeros((N,2))\n",
    "    for i in range(N):\n",
    "        H[i] = np.array([np.cos(2*np.pi/N*i),np.sin(2*np.pi/N*i)])\n",
    "    h = np.ones([N,1])\n",
    "\n",
    "    i = 1 # move the second hyperplane\n",
    "    d = np.ones(N)\n",
    "    N_cull = np.zeros(N)\n",
    "    N_cull[1] = 2\n",
    "    inbody = HPolyhedron(H,h)\n",
    "    moved_in = [False, False, True, False, True, True]\n",
    "    i_redundant = [0,2]\n",
    "    hx_proposed = np.copy(h)\n",
    "    hx_proposed[1] = 0\n",
    "\n",
    "    # outputting a tuple with extra information just for testing\n",
    "    output = inbody.MoveFaceAndCull(d,moved_in,i,i_redundant,hx_proposed)\n",
    "    inbody = output[0]\n",
    "    d = output[1]\n",
    "    moved_in = output[2]\n",
    "    i = output[3]\n",
    "\n",
    "    assert (inbody.A() == H[[1,3,4,5]]).all()\n",
    "    assert (inbody.b() == np.array([0,1,1,1])).all()\n",
    "    assert (moved_in == [True, False, True, True])\n",
    "    assert i == 0"
   ]
  },
  {
   "cell_type": "code",
   "execution_count": null,
   "metadata": {},
   "outputs": [
    {
     "ename": "TypeError",
     "evalue": "'pydrake.geometry.optimization.HPolyhedron' object is not subscriptable",
     "output_type": "error",
     "traceback": [
      "\u001b[0;31m---------------------------------------------------------------------------\u001b[0m",
      "\u001b[0;31mTypeError\u001b[0m                                 Traceback (most recent call last)",
      "\u001b[0;32m/tmp/ipykernel_1457540/3362945476.py\u001b[0m in \u001b[0;36m<module>\u001b[0;34m\u001b[0m\n\u001b[0;32m----> 1\u001b[0;31m \u001b[0munit_test_move_face_and_cull\u001b[0m\u001b[0;34m(\u001b[0m\u001b[0;34m)\u001b[0m\u001b[0;34m\u001b[0m\u001b[0;34m\u001b[0m\u001b[0m\n\u001b[0m",
      "\u001b[0;32m/tmp/ipykernel_1457540/251489230.py\u001b[0m in \u001b[0;36munit_test_move_face_and_cull\u001b[0;34m()\u001b[0m\n\u001b[1;32m     20\u001b[0m     \u001b[0;31m# outputting a tuple with extra information just for testing\u001b[0m\u001b[0;34m\u001b[0m\u001b[0;34m\u001b[0m\u001b[0m\n\u001b[1;32m     21\u001b[0m     \u001b[0moutput\u001b[0m \u001b[0;34m=\u001b[0m \u001b[0minbody\u001b[0m\u001b[0;34m.\u001b[0m\u001b[0mMoveFaceAndCull\u001b[0m\u001b[0;34m(\u001b[0m\u001b[0md\u001b[0m\u001b[0;34m,\u001b[0m\u001b[0mmoved_in\u001b[0m\u001b[0;34m,\u001b[0m\u001b[0mi\u001b[0m\u001b[0;34m,\u001b[0m\u001b[0mi_redundant\u001b[0m\u001b[0;34m,\u001b[0m\u001b[0mhx_proposed\u001b[0m\u001b[0;34m)\u001b[0m\u001b[0;34m\u001b[0m\u001b[0;34m\u001b[0m\u001b[0m\n\u001b[0;32m---> 22\u001b[0;31m     \u001b[0minbody\u001b[0m \u001b[0;34m=\u001b[0m \u001b[0moutput\u001b[0m\u001b[0;34m[\u001b[0m\u001b[0;36m0\u001b[0m\u001b[0;34m]\u001b[0m\u001b[0;34m\u001b[0m\u001b[0;34m\u001b[0m\u001b[0m\n\u001b[0m\u001b[1;32m     23\u001b[0m     \u001b[0md\u001b[0m \u001b[0;34m=\u001b[0m \u001b[0moutput\u001b[0m\u001b[0;34m[\u001b[0m\u001b[0;36m1\u001b[0m\u001b[0;34m]\u001b[0m\u001b[0;34m\u001b[0m\u001b[0;34m\u001b[0m\u001b[0m\n\u001b[1;32m     24\u001b[0m     \u001b[0mmoved_in\u001b[0m \u001b[0;34m=\u001b[0m \u001b[0moutput\u001b[0m\u001b[0;34m[\u001b[0m\u001b[0;36m2\u001b[0m\u001b[0;34m]\u001b[0m\u001b[0;34m\u001b[0m\u001b[0;34m\u001b[0m\u001b[0m\n",
      "\u001b[0;31mTypeError\u001b[0m: 'pydrake.geometry.optimization.HPolyhedron' object is not subscriptable"
     ]
    }
   ],
   "source": [
    "unit_test_move_face_and_cull()"
   ]
  },
  {
   "cell_type": "code",
   "execution_count": 2,
   "metadata": {},
   "outputs": [],
   "source": [
    "def unit_test_shuffle_hyperplanes():\n",
    "    random.seed(10)\n",
    "    inbody = HPolyhedron(np.array([[0,0],[1,1],[2,2]]),np.array([0,1,2]))\n",
    "    d = np.array([0,1,2])\n",
    "    moved_in = [True,True,False]\n",
    "    random.seed(1)\n",
    "\n",
    "    random.seed(1)\n",
    "    inbody = inbody.ShuffleHyperplanes(d, moved_in, 0)\n",
    "\n",
    "    assert (inbody.A() == np.array([[1,1],[2,2],[0,0]])).all()\n",
    "    assert (inbody.b() == np.array([1,2,0])).all()\n",
    "    # assert (d == np.array([1,2,0])).all()\n",
    "    assert moved_in == [True,False,True]"
   ]
  },
  {
   "cell_type": "code",
   "execution_count": 3,
   "metadata": {},
   "outputs": [
    {
     "name": "stderr",
     "output_type": "stream",
     "text": [
      "INFO:drake:(before shuffle) moved_in[0] = true\n",
      "INFO:drake:(before shuffle) moved_in[1] = true\n",
      "INFO:drake:(before shuffle) moved_in[2] = false\n",
      "INFO:drake:(after shuffle) moved_in[0] = false\n",
      "INFO:drake:(after shuffle) moved_in[1] = true\n",
      "INFO:drake:(after shuffle) moved_in[2] = true\n"
     ]
    },
    {
     "ename": "AssertionError",
     "evalue": "",
     "output_type": "error",
     "traceback": [
      "\u001b[0;31m---------------------------------------------------------------------------\u001b[0m",
      "\u001b[0;31mAssertionError\u001b[0m                            Traceback (most recent call last)",
      "\u001b[0;32m/tmp/ipykernel_3386153/3390831285.py\u001b[0m in \u001b[0;36m<module>\u001b[0;34m\u001b[0m\n\u001b[0;32m----> 1\u001b[0;31m \u001b[0munit_test_shuffle_hyperplanes\u001b[0m\u001b[0;34m(\u001b[0m\u001b[0;34m)\u001b[0m\u001b[0;34m\u001b[0m\u001b[0;34m\u001b[0m\u001b[0m\n\u001b[0m",
      "\u001b[0;32m/tmp/ipykernel_3386153/2114280431.py\u001b[0m in \u001b[0;36munit_test_shuffle_hyperplanes\u001b[0;34m()\u001b[0m\n\u001b[1;32m      9\u001b[0m     \u001b[0minbody\u001b[0m \u001b[0;34m=\u001b[0m \u001b[0minbody\u001b[0m\u001b[0;34m.\u001b[0m\u001b[0mShuffleHyperplanes\u001b[0m\u001b[0;34m(\u001b[0m\u001b[0md\u001b[0m\u001b[0;34m,\u001b[0m \u001b[0mmoved_in\u001b[0m\u001b[0;34m,\u001b[0m \u001b[0;36m0\u001b[0m\u001b[0;34m)\u001b[0m\u001b[0;34m\u001b[0m\u001b[0;34m\u001b[0m\u001b[0m\n\u001b[1;32m     10\u001b[0m \u001b[0;34m\u001b[0m\u001b[0m\n\u001b[0;32m---> 11\u001b[0;31m     \u001b[0;32massert\u001b[0m \u001b[0;34m(\u001b[0m\u001b[0minbody\u001b[0m\u001b[0;34m.\u001b[0m\u001b[0mA\u001b[0m\u001b[0;34m(\u001b[0m\u001b[0;34m)\u001b[0m \u001b[0;34m==\u001b[0m \u001b[0mnp\u001b[0m\u001b[0;34m.\u001b[0m\u001b[0marray\u001b[0m\u001b[0;34m(\u001b[0m\u001b[0;34m[\u001b[0m\u001b[0;34m[\u001b[0m\u001b[0;36m1\u001b[0m\u001b[0;34m,\u001b[0m\u001b[0;36m1\u001b[0m\u001b[0;34m]\u001b[0m\u001b[0;34m,\u001b[0m\u001b[0;34m[\u001b[0m\u001b[0;36m2\u001b[0m\u001b[0;34m,\u001b[0m\u001b[0;36m2\u001b[0m\u001b[0;34m]\u001b[0m\u001b[0;34m,\u001b[0m\u001b[0;34m[\u001b[0m\u001b[0;36m0\u001b[0m\u001b[0;34m,\u001b[0m\u001b[0;36m0\u001b[0m\u001b[0;34m]\u001b[0m\u001b[0;34m]\u001b[0m\u001b[0;34m)\u001b[0m\u001b[0;34m)\u001b[0m\u001b[0;34m.\u001b[0m\u001b[0mall\u001b[0m\u001b[0;34m(\u001b[0m\u001b[0;34m)\u001b[0m\u001b[0;34m\u001b[0m\u001b[0;34m\u001b[0m\u001b[0m\n\u001b[0m\u001b[1;32m     12\u001b[0m     \u001b[0;32massert\u001b[0m \u001b[0;34m(\u001b[0m\u001b[0minbody\u001b[0m\u001b[0;34m.\u001b[0m\u001b[0mb\u001b[0m\u001b[0;34m(\u001b[0m\u001b[0;34m)\u001b[0m \u001b[0;34m==\u001b[0m \u001b[0mnp\u001b[0m\u001b[0;34m.\u001b[0m\u001b[0marray\u001b[0m\u001b[0;34m(\u001b[0m\u001b[0;34m[\u001b[0m\u001b[0;36m1\u001b[0m\u001b[0;34m,\u001b[0m\u001b[0;36m2\u001b[0m\u001b[0;34m,\u001b[0m\u001b[0;36m0\u001b[0m\u001b[0;34m]\u001b[0m\u001b[0;34m)\u001b[0m\u001b[0;34m)\u001b[0m\u001b[0;34m.\u001b[0m\u001b[0mall\u001b[0m\u001b[0;34m(\u001b[0m\u001b[0;34m)\u001b[0m\u001b[0;34m\u001b[0m\u001b[0;34m\u001b[0m\u001b[0m\n\u001b[1;32m     13\u001b[0m     \u001b[0;31m# assert (d == np.array([1,2,0])).all()\u001b[0m\u001b[0;34m\u001b[0m\u001b[0;34m\u001b[0m\u001b[0m\n",
      "\u001b[0;31mAssertionError\u001b[0m: "
     ]
    }
   ],
   "source": [
    "unit_test_shuffle_hyperplanes()"
   ]
  },
  {
   "cell_type": "code",
   "execution_count": null,
   "metadata": {},
   "outputs": [],
   "source": [
    "def unit_test_optimize_AH_in_H():\n",
    "    random.seed(10)\n",
    "    N = 4\n",
    "    H = np.zeros((N,2))\n",
    "    for i in range(N):\n",
    "        H[i] = np.array([np.cos(2*np.pi/N*i),np.sin(2*np.pi/N*i)])\n",
    "    h_inbody = 0.5*np.ones([N]) + H@np.array([0.5,0.5])\n",
    "    h_circumbody = np.ones(N)\n",
    "\n",
    "    inbody = HPolyhedron(H,h_inbody)\n",
    "    circumbody = HPolyhedron(H,h_circumbody)\n",
    "    optimized_body = inbody.OptimizeAffineTransformInCircumbody(circumbody)\n",
    "\n",
    "    assert ((H - optimized_body.A())<1e-6).all()\n",
    "    assert ((h_circumbody - optimized_body.b())<1e-6).all()"
   ]
  },
  {
   "cell_type": "code",
   "execution_count": null,
   "metadata": {},
   "outputs": [
    {
     "ename": "AssertionError",
     "evalue": "",
     "output_type": "error",
     "traceback": [
      "\u001b[0;31m---------------------------------------------------------------------------\u001b[0m",
      "\u001b[0;31mAssertionError\u001b[0m                            Traceback (most recent call last)",
      "\u001b[0;32m/tmp/ipykernel_1457540/3913556371.py\u001b[0m in \u001b[0;36m<module>\u001b[0;34m\u001b[0m\n\u001b[0;32m----> 1\u001b[0;31m \u001b[0munit_test_optimize_AH_in_H\u001b[0m\u001b[0;34m(\u001b[0m\u001b[0;34m)\u001b[0m\u001b[0;34m\u001b[0m\u001b[0;34m\u001b[0m\u001b[0m\n\u001b[0m",
      "\u001b[0;32m/tmp/ipykernel_1457540/3736976645.py\u001b[0m in \u001b[0;36munit_test_optimize_AH_in_H\u001b[0;34m()\u001b[0m\n\u001b[1;32m     12\u001b[0m     \u001b[0moptimized_body\u001b[0m \u001b[0;34m=\u001b[0m \u001b[0minbody\u001b[0m\u001b[0;34m.\u001b[0m\u001b[0mOptimizeAffineTransformInCircumbody\u001b[0m\u001b[0;34m(\u001b[0m\u001b[0mcircumbody\u001b[0m\u001b[0;34m)\u001b[0m\u001b[0;34m\u001b[0m\u001b[0;34m\u001b[0m\u001b[0m\n\u001b[1;32m     13\u001b[0m \u001b[0;34m\u001b[0m\u001b[0m\n\u001b[0;32m---> 14\u001b[0;31m     \u001b[0;32massert\u001b[0m \u001b[0;34m(\u001b[0m\u001b[0;34m(\u001b[0m\u001b[0mH\u001b[0m \u001b[0;34m-\u001b[0m \u001b[0moptimized_body\u001b[0m\u001b[0;34m.\u001b[0m\u001b[0mA\u001b[0m\u001b[0;34m(\u001b[0m\u001b[0;34m)\u001b[0m\u001b[0;34m)\u001b[0m\u001b[0;34m<\u001b[0m\u001b[0;36m1e-6\u001b[0m\u001b[0;34m)\u001b[0m\u001b[0;34m.\u001b[0m\u001b[0mall\u001b[0m\u001b[0;34m(\u001b[0m\u001b[0;34m)\u001b[0m\u001b[0;34m\u001b[0m\u001b[0;34m\u001b[0m\u001b[0m\n\u001b[0m\u001b[1;32m     15\u001b[0m     \u001b[0;32massert\u001b[0m \u001b[0;34m(\u001b[0m\u001b[0;34m(\u001b[0m\u001b[0mh_circumbody\u001b[0m \u001b[0;34m-\u001b[0m \u001b[0moptimized_body\u001b[0m\u001b[0;34m.\u001b[0m\u001b[0mb\u001b[0m\u001b[0;34m(\u001b[0m\u001b[0;34m)\u001b[0m\u001b[0;34m)\u001b[0m\u001b[0;34m<\u001b[0m\u001b[0;36m1e-6\u001b[0m\u001b[0;34m)\u001b[0m\u001b[0;34m.\u001b[0m\u001b[0mall\u001b[0m\u001b[0;34m(\u001b[0m\u001b[0;34m)\u001b[0m\u001b[0;34m\u001b[0m\u001b[0;34m\u001b[0m\u001b[0m\n",
      "\u001b[0;31mAssertionError\u001b[0m: "
     ]
    }
   ],
   "source": [
    "unit_test_optimize_AH_in_H()"
   ]
  },
  {
   "cell_type": "code",
   "execution_count": 2,
   "metadata": {},
   "outputs": [],
   "source": [
    "def unit_test_connectivity():\n",
    "    random.seed(10)\n",
    "    N = 20\n",
    "    H = np.zeros((N,2))\n",
    "    for i in range(N):\n",
    "        H[i] = np.array([np.cos(2*np.pi/N*i),np.sin(2*np.pi/N*i)])\n",
    "    h = np.ones(N)\n",
    "    circumbody = HPolyhedron(H,h)\n",
    "\n",
    "    intersecting_body = HPolyhedron(VPolytope([[0,1,-1],[1,2,2]]))\n",
    "\n",
    "    inbody = circumbody.SimplifyByIncrementalFaceTranslation(min_v_ratio = 0.1, max_loops = 5, intersecting_polytopes = [intersecting_body], intersection_pad = 1e-2, conservative_intersections = False, points_to_contain = np.empty((0,0), dtype=np.float64), do_affine_transform = True, random_seed = 0)\n",
    "\n",
    "    assert (inbody.A()@np.array([0,1])<=inbody.b()).all()"
   ]
  },
  {
   "cell_type": "code",
   "execution_count": 3,
   "metadata": {},
   "outputs": [
    {
     "name": "stderr",
     "output_type": "stream",
     "text": [
      "INFO:drake:0\n",
      "INFO:drake:(before shuffle) moved_in[0] = false\n",
      "INFO:drake:(before shuffle) H[0,0] = 1\n",
      "INFO:drake:(before shuffle) moved_in[1] = false\n",
      "INFO:drake:(before shuffle) H[1,0] = 0.9510565162951536\n",
      "INFO:drake:(before shuffle) moved_in[2] = false\n",
      "INFO:drake:(before shuffle) H[2,0] = 0.8090169943749475\n",
      "INFO:drake:(before shuffle) moved_in[3] = false\n",
      "INFO:drake:(before shuffle) H[3,0] = 0.5877852522924731\n",
      "INFO:drake:(before shuffle) moved_in[4] = false\n",
      "INFO:drake:(before shuffle) H[4,0] = 0.3090169943749475\n",
      "INFO:drake:(before shuffle) moved_in[5] = false\n",
      "INFO:drake:(before shuffle) H[5,0] = 6.123233995736766e-17\n",
      "INFO:drake:(before shuffle) moved_in[6] = false\n",
      "INFO:drake:(before shuffle) H[6,0] = -0.30901699437494734\n",
      "INFO:drake:(before shuffle) moved_in[7] = false\n",
      "INFO:drake:(before shuffle) H[7,0] = -0.5877852522924731\n",
      "INFO:drake:(before shuffle) moved_in[8] = false\n",
      "INFO:drake:(before shuffle) H[8,0] = -0.8090169943749473\n",
      "INFO:drake:(before shuffle) moved_in[9] = false\n",
      "INFO:drake:(before shuffle) H[9,0] = -0.9510565162951535\n",
      "INFO:drake:(before shuffle) moved_in[10] = false\n",
      "INFO:drake:(before shuffle) H[10,0] = -1\n",
      "INFO:drake:(before shuffle) moved_in[11] = false\n",
      "INFO:drake:(before shuffle) H[11,0] = -0.9510565162951536\n",
      "INFO:drake:(before shuffle) moved_in[12] = false\n",
      "INFO:drake:(before shuffle) H[12,0] = -0.8090169943749476\n",
      "INFO:drake:(before shuffle) moved_in[13] = false\n",
      "INFO:drake:(before shuffle) H[13,0] = -0.5877852522924732\n",
      "INFO:drake:(before shuffle) moved_in[14] = false\n",
      "INFO:drake:(before shuffle) H[14,0] = -0.30901699437494756\n",
      "INFO:drake:(before shuffle) moved_in[15] = false\n",
      "INFO:drake:(before shuffle) H[15,0] = -1.8369701987210297e-16\n",
      "INFO:drake:(before shuffle) moved_in[16] = false\n",
      "INFO:drake:(before shuffle) H[16,0] = 0.30901699437494723\n",
      "INFO:drake:(before shuffle) moved_in[17] = false\n",
      "INFO:drake:(before shuffle) H[17,0] = 0.5877852522924729\n",
      "INFO:drake:(before shuffle) moved_in[18] = false\n",
      "INFO:drake:(before shuffle) H[18,0] = 0.8090169943749473\n",
      "INFO:drake:(before shuffle) moved_in[19] = false\n",
      "INFO:drake:(before shuffle) H[19,0] = 0.9510565162951535\n",
      "INFO:drake:(after shuffle) moved_in[0] = false\n",
      "INFO:drake:(after shuffle) H[0,0] = 1\n",
      "INFO:drake:(after shuffle) moved_in[1] = false\n",
      "INFO:drake:(after shuffle) H[1,0] = -0.5877852522924732\n",
      "INFO:drake:(after shuffle) moved_in[2] = false\n",
      "INFO:drake:(after shuffle) H[2,0] = 0.9510565162951536\n",
      "INFO:drake:(after shuffle) moved_in[3] = false\n",
      "INFO:drake:(after shuffle) H[3,0] = 0.5877852522924729\n",
      "INFO:drake:(after shuffle) moved_in[4] = false\n",
      "INFO:drake:(after shuffle) H[4,0] = -0.9510565162951535\n",
      "INFO:drake:(after shuffle) moved_in[5] = false\n",
      "INFO:drake:(after shuffle) H[5,0] = -0.9510565162951536\n",
      "INFO:drake:(after shuffle) moved_in[6] = false\n",
      "INFO:drake:(after shuffle) H[6,0] = 0.3090169943749475\n",
      "INFO:drake:(after shuffle) moved_in[7] = false\n",
      "INFO:drake:(after shuffle) H[7,0] = 0.30901699437494723\n",
      "INFO:drake:(after shuffle) moved_in[8] = false\n",
      "INFO:drake:(after shuffle) H[8,0] = -0.30901699437494734\n",
      "INFO:drake:(after shuffle) moved_in[9] = false\n",
      "INFO:drake:(after shuffle) H[9,0] = -1\n",
      "INFO:drake:(after shuffle) moved_in[10] = false\n",
      "INFO:drake:(after shuffle) H[10,0] = 0.5877852522924731\n",
      "INFO:drake:(after shuffle) moved_in[11] = false\n",
      "INFO:drake:(after shuffle) H[11,0] = 0.8090169943749473\n",
      "INFO:drake:(after shuffle) moved_in[12] = false\n",
      "INFO:drake:(after shuffle) H[12,0] = -0.30901699437494756\n",
      "INFO:drake:(after shuffle) moved_in[13] = false\n",
      "INFO:drake:(after shuffle) H[13,0] = 0.8090169943749475\n",
      "INFO:drake:(after shuffle) moved_in[14] = false\n",
      "INFO:drake:(after shuffle) H[14,0] = -0.5877852522924731\n",
      "INFO:drake:(after shuffle) moved_in[15] = false\n",
      "INFO:drake:(after shuffle) H[15,0] = -0.8090169943749473\n",
      "INFO:drake:(after shuffle) moved_in[16] = false\n",
      "INFO:drake:(after shuffle) H[16,0] = 0.9510565162951535\n",
      "INFO:drake:(after shuffle) moved_in[17] = false\n",
      "INFO:drake:(after shuffle) H[17,0] = 6.123233995736766e-17\n",
      "INFO:drake:(after shuffle) moved_in[18] = false\n",
      "INFO:drake:(after shuffle) H[18,0] = -1.8369701987210297e-16\n",
      "INFO:drake:(after shuffle) moved_in[19] = false\n",
      "INFO:drake:(after shuffle) H[19,0] = -0.8090169943749476\n",
      "INFO:drake:(outside function) moved_in[0] = false\n",
      "INFO:drake:(outside function) moved_in[1] = false\n",
      "INFO:drake:(outside function) moved_in[2] = false\n",
      "INFO:drake:(outside function) moved_in[3] = false\n",
      "INFO:drake:(outside function) moved_in[4] = false\n",
      "INFO:drake:(outside function) moved_in[5] = false\n",
      "INFO:drake:(outside function) moved_in[6] = false\n",
      "INFO:drake:(outside function) moved_in[7] = false\n",
      "INFO:drake:(outside function) moved_in[8] = false\n",
      "INFO:drake:(outside function) moved_in[9] = false\n",
      "INFO:drake:(outside function) moved_in[10] = false\n",
      "INFO:drake:(outside function) moved_in[11] = false\n",
      "INFO:drake:(outside function) moved_in[12] = false\n",
      "INFO:drake:(outside function) moved_in[13] = false\n",
      "INFO:drake:(outside function) moved_in[14] = false\n",
      "INFO:drake:(outside function) moved_in[15] = false\n",
      "INFO:drake:(outside function) moved_in[16] = false\n",
      "INFO:drake:(outside function) moved_in[17] = false\n",
      "INFO:drake:(outside function) moved_in[18] = false\n",
      "INFO:drake:(outside function) moved_in[19] = false\n",
      "INFO:drake:15 faces saved so far\n",
      "INFO:drake:(before shuffle) moved_in[0] = true\n",
      "INFO:drake:(before shuffle) H[0,0] = 1\n",
      "INFO:drake:(before shuffle) moved_in[1] = true\n",
      "INFO:drake:(before shuffle) H[1,0] = -0.5877852522924732\n",
      "INFO:drake:(before shuffle) moved_in[2] = true\n",
      "INFO:drake:(before shuffle) H[2,0] = -0.9510565162951535\n",
      "INFO:drake:(before shuffle) moved_in[3] = false\n",
      "INFO:drake:(before shuffle) H[3,0] = 0.3090169943749475\n",
      "INFO:drake:(before shuffle) moved_in[4] = false\n",
      "INFO:drake:(before shuffle) H[4,0] = 6.123233995736766e-17\n",
      "INFO:drake:(after shuffle) moved_in[0] = true\n",
      "INFO:drake:(after shuffle) H[0,0] = -0.9510565162951535\n",
      "INFO:drake:(after shuffle) moved_in[1] = false\n",
      "INFO:drake:(after shuffle) H[1,0] = 6.123233995736766e-17\n",
      "INFO:drake:(after shuffle) moved_in[2] = false\n",
      "INFO:drake:(after shuffle) H[2,0] = 0.3090169943749475\n",
      "INFO:drake:(after shuffle) moved_in[3] = true\n",
      "INFO:drake:(after shuffle) H[3,0] = 1\n",
      "INFO:drake:(after shuffle) moved_in[4] = true\n",
      "INFO:drake:(after shuffle) H[4,0] = -0.5877852522924732\n",
      "INFO:drake:(outside function) moved_in[0] = true\n",
      "INFO:drake:(outside function) moved_in[1] = false\n",
      "INFO:drake:(outside function) moved_in[2] = false\n",
      "INFO:drake:(outside function) moved_in[3] = true\n",
      "INFO:drake:(outside function) moved_in[4] = true\n",
      "INFO:drake:15 faces saved so far\n",
      "INFO:drake:15 faces saved\n",
      "INFO:drake:Inner ellipsoid volume ratio before affine transform: 0.16930753710259736\n",
      "INFO:drake:Inner ellipsoid volume ratio: 0.407977208959772\n",
      "INFO:drake:Reverting affine transformation due to loss of intersection w polytope 0\n"
     ]
    }
   ],
   "source": [
    "unit_test_connectivity()"
   ]
  },
  {
   "cell_type": "code",
   "execution_count": null,
   "metadata": {},
   "outputs": [],
   "source": []
  },
  {
   "cell_type": "code",
   "execution_count": null,
   "metadata": {},
   "outputs": [],
   "source": [
    "import sys\n",
    "sys.path.insert(1, '/home/rhjiang/Documents/code/simplify_polytopes')\n",
    "# sys.path.append('/home/rhjiang/Documents/code/simplify_polytopes')\n",
    "import utils"
   ]
  },
  {
   "cell_type": "code",
   "execution_count": null,
   "metadata": {},
   "outputs": [
    {
     "ename": "AttributeError",
     "evalue": "module 'utils' has no attribute 'is_empty'",
     "output_type": "error",
     "traceback": [
      "\u001b[0;31m---------------------------------------------------------------------------\u001b[0m",
      "\u001b[0;31mAttributeError\u001b[0m                            Traceback (most recent call last)",
      "\u001b[0;32m/tmp/ipykernel_478881/4271249967.py\u001b[0m in \u001b[0;36m<module>\u001b[0;34m\u001b[0m\n\u001b[0;32m----> 1\u001b[0;31m \u001b[0mutils\u001b[0m\u001b[0;34m.\u001b[0m\u001b[0mis_empty\u001b[0m\u001b[0;34m(\u001b[0m\u001b[0;34m)\u001b[0m\u001b[0;34m\u001b[0m\u001b[0;34m\u001b[0m\u001b[0m\n\u001b[0m",
      "\u001b[0;31mAttributeError\u001b[0m: module 'utils' has no attribute 'is_empty'"
     ]
    }
   ],
   "source": [
    "utils.is_empty()"
   ]
  },
  {
   "cell_type": "code",
   "execution_count": null,
   "metadata": {},
   "outputs": [
    {
     "ename": "ModuleNotFoundError",
     "evalue": "No module named 'home'",
     "output_type": "error",
     "traceback": [
      "\u001b[0;31m---------------------------------------------------------------------------\u001b[0m",
      "\u001b[0;31mModuleNotFoundError\u001b[0m                       Traceback (most recent call last)",
      "\u001b[0;32m/tmp/ipykernel_478881/416382084.py\u001b[0m in \u001b[0;36m<module>\u001b[0;34m\u001b[0m\n\u001b[0;32m----> 1\u001b[0;31m \u001b[0;32mfrom\u001b[0m \u001b[0mhome\u001b[0m\u001b[0;34m.\u001b[0m\u001b[0mrhjiang\u001b[0m\u001b[0;34m.\u001b[0m\u001b[0mDocuments\u001b[0m\u001b[0;34m.\u001b[0m\u001b[0mcode\u001b[0m\u001b[0;34m.\u001b[0m\u001b[0msimplify_polytopes\u001b[0m \u001b[0;32mimport\u001b[0m \u001b[0mutils\u001b[0m\u001b[0;34m\u001b[0m\u001b[0;34m\u001b[0m\u001b[0m\n\u001b[0m",
      "\u001b[0;31mModuleNotFoundError\u001b[0m: No module named 'home'"
     ]
    }
   ],
   "source": [
    "from home.rhjiang.Documents.code.simplify_polytopes import utils"
   ]
  },
  {
   "cell_type": "markdown",
   "metadata": {},
   "source": [
    "## Compare outputs w python version"
   ]
  },
  {
   "cell_type": "code",
   "execution_count": 2,
   "metadata": {},
   "outputs": [],
   "source": [
    "gurobi_solver = solvers_drake.GurobiSolver()\n",
    "mosek_solver = solvers_drake.MosekSolver()\n",
    "snopt_solver = solvers_drake.SnoptSolver()\n",
    "ipopt_solver = solvers_drake.IpoptSolver()\n",
    "clp_solver = solvers_drake.ClpSolver()\n",
    "\n",
    "gurobi_license = gurobi_solver.AcquireLicense()\n",
    "mosek_license = mosek_solver.AcquireLicense()"
   ]
  },
  {
   "cell_type": "code",
   "execution_count": 3,
   "metadata": {},
   "outputs": [],
   "source": [
    "filename = \"iris_regions_keys.yaml\"\n",
    "# regionsPath = \"~/Documents/code/simplify_polytopes/dexai_10d_polytopes/\"\n",
    "polytopes = []\n",
    "nFaces = []\n",
    "\n",
    "with open(filename, 'r') as file:\n",
    "    data = yaml.safe_load(file)\n",
    "    region_names = list(data.keys())\n",
    "\n",
    "polytopes = []\n",
    "nFaces = []\n",
    "for region_name in region_names:\n",
    "    A = data[region_name][\"A\"]\n",
    "    b = data[region_name][\"b\"]\n",
    "    A = np.where(np.abs(A) <= 1e-13, 0, A)\n",
    "    b = np.where(np.abs(b) <= 1e-13, 0, b)\n",
    "    polytopes.append(HPolyhedron(A,b))\n",
    "    nFaces.append(len(b))"
   ]
  },
  {
   "cell_type": "code",
   "execution_count": 4,
   "metadata": {},
   "outputs": [
    {
     "name": "stdout",
     "output_type": "stream",
     "text": [
      "Finding connectivity\n"
     ]
    }
   ],
   "source": [
    "print(\"Finding connectivity\")\n",
    "n_polytopes = len(polytopes)\n",
    "intersecting_polytope_inds = [[] for _ in range(n_polytopes)]\n",
    "empty_intersections = []\n",
    "# for i in range(1):\n",
    "for i in range(n_polytopes):\n",
    "    for j in range(i+1,n_polytopes):\n",
    "        intersect = True\n",
    "        inter = polytopes[i].Intersection(polytopes[j])\n",
    "        if (inter.IsEmpty() or \n",
    "            # utils.is_empty(inter,solver=mosek_solver) or\n",
    "            utils.is_empty(inter,solver=clp_solver)):\n",
    "            intersect = False\n",
    "        if intersect:\n",
    "            try: \n",
    "                c = inter.ChebyshevCenter()\n",
    "                chebyshev_center_in_inter = (np.max(inter.A()@c - inter.b())<=0)\n",
    "                if not chebyshev_center_in_inter:\n",
    "                    intersect = False\n",
    "            except:\n",
    "                intersect = False\n",
    "        if intersect:\n",
    "            intersecting_polytope_inds[i].append(j)\n",
    "            intersecting_polytope_inds[j].append(i)\n",
    "        "
   ]
  },
  {
   "cell_type": "code",
   "execution_count": 5,
   "metadata": {},
   "outputs": [
    {
     "data": {
      "text/plain": [
       "[[1, 2, 3, 4, 6, 7, 8, 11, 12, 13],\n",
       " [0, 7, 11, 12, 13, 14],\n",
       " [0, 3, 4, 5, 6, 8, 9, 10],\n",
       " [0, 2, 4, 5, 6, 8, 10],\n",
       " [0, 2, 3, 5, 6, 9],\n",
       " [2, 3, 4, 6, 8, 9, 10],\n",
       " [0, 2, 3, 4, 5, 8, 9, 10],\n",
       " [0, 1, 11, 12, 13, 14],\n",
       " [0, 2, 3, 5, 6],\n",
       " [2, 4, 5, 6],\n",
       " [2, 3, 5, 6],\n",
       " [0, 1, 7, 12, 13],\n",
       " [0, 1, 7, 11, 13],\n",
       " [0, 1, 7, 11, 12],\n",
       " [1, 7]]"
      ]
     },
     "execution_count": 5,
     "metadata": {},
     "output_type": "execute_result"
    }
   ],
   "source": [
    "intersecting_polytope_inds\n"
   ]
  },
  {
   "cell_type": "code",
   "execution_count": null,
   "metadata": {},
   "outputs": [],
   "source": []
  },
  {
   "cell_type": "markdown",
   "metadata": {},
   "source": [
    "## Start and goal poses"
   ]
  },
  {
   "cell_type": "code",
   "execution_count": 6,
   "metadata": {},
   "outputs": [],
   "source": [
    "#   Start:\n",
    "# tool_disher_4oz_hotel_pan_third_6in_020_view_conf:\n",
    "# singulator: [-3.5]\n",
    "# ancillary_arm: [0.9414329394341543, -2.09]\n",
    "# franka: [-0.045629465476985556, 0.8378861281551016, -1.424969997255551, -2.5688464658272694, 1.5452243655650213, 1.5966375826199848, -0.22965212999751605]\n",
    "\n",
    "start = np.array([[-0.045629465476985556, 0.8378861281551016, -1.424969997255551, -2.5688464658272694, 1.5452243655650213, 1.5966375826199848, -0.22965212999751605,0.9414329394341543, -2.09,-3.5]])"
   ]
  },
  {
   "cell_type": "code",
   "execution_count": 7,
   "metadata": {},
   "outputs": [],
   "source": [
    "#   Goal:\n",
    "# tool_disher_2oz_hotel_pan_sixth_6in_014_view_conf:\n",
    "# singulator: [-3.5]\n",
    "# ancillary_arm: [-4.113, 1.9742]\n",
    "# franka: [-2.87689567509747, 0.9125434965271126, 0.6622597080818269, -1.6197375371168, -0.018526877779099678, 2.288540829817454, -2.6436380064548946]\n",
    "\n",
    "goal = np.array([[-2.87689567509747, 0.9125434965271126, 0.6622597080818269, -1.6197375371168, -0.018526877779099678, 2.288540829817454, -2.6436380064548946, -4.113, 1.9742, -3.5]])"
   ]
  },
  {
   "cell_type": "code",
   "execution_count": 8,
   "metadata": {},
   "outputs": [],
   "source": [
    "points_to_contain = [np.empty((0, 0), dtype=np.float64) for _ in range(len(polytopes))]\n",
    "points_to_contain[12] = start.T\n",
    "points_to_contain[9] = goal.T"
   ]
  },
  {
   "cell_type": "code",
   "execution_count": 9,
   "metadata": {},
   "outputs": [],
   "source": [
    "def check_poly(simp_polytopes, start, goal):\n",
    "    pass_check = True\n",
    "    inter_inds_filepath = \"inter_inds_keypoints.yaml\"\n",
    "    with open(inter_inds_filepath, 'r') as file:\n",
    "        data = yaml.safe_load(file)\n",
    "    intersecting_polytope_inds = data[\"inter_inds\"]\n",
    "\n",
    "    found_start = False\n",
    "    found_goal = False\n",
    "    for i in range(len(simp_polytopes)):\n",
    "        for inter_ind in intersecting_polytope_inds[i]:\n",
    "            if not simp_polytopes[i].IntersectsWith(simp_polytopes[inter_ind]):\n",
    "                print(f\"polytope pair: {(i,inter_ind)} do not intersect\")\n",
    "                pass_check = False\n",
    "        if simp_polytopes[i].PointInSet(start):\n",
    "            found_start = True\n",
    "        if simp_polytopes[i].PointInSet(goal):\n",
    "            found_goal = True\n",
    "\n",
    "    if not found_start:\n",
    "        pass_check = False\n",
    "        print(\"start configuration not found in any polytope\")\n",
    "    if not found_goal:\n",
    "        pass_check = False\n",
    "        print(\"goal configuration not found in any polytope\")\n",
    "    return pass_check   "
   ]
  },
  {
   "cell_type": "code",
   "execution_count": 10,
   "metadata": {},
   "outputs": [
    {
     "name": "stderr",
     "output_type": "stream",
     "text": [
      "INFO:drake:0\n",
      "INFO:drake:Removing trivially intersecting polytope at index 0\n"
     ]
    },
    {
     "name": "stdout",
     "output_type": "stream",
     "text": [
      "Simplifying polytope with 631 faces\n"
     ]
    },
    {
     "name": "stderr",
     "output_type": "stream",
     "text": [
      "INFO:drake:Removing trivially intersecting polytope at index 1\n",
      "INFO:drake:Removing trivially intersecting polytope at index 2\n",
      "INFO:drake:Removing trivially intersecting polytope at index 3\n",
      "INFO:drake:Removing trivially intersecting polytope at index 4\n",
      "INFO:drake:Removing trivially intersecting polytope at index 5\n",
      "INFO:drake:Removing trivially intersecting polytope at index 7\n",
      "INFO:drake:Removing trivially intersecting polytope at index 8\n",
      "INFO:drake:Removing trivially intersecting polytope at index 9\n",
      "INFO:drake:333 faces saved so far\n",
      "INFO:drake:338 faces saved so far\n",
      "INFO:drake:338 faces saved so far\n",
      "INFO:drake:338 faces saved\n",
      "INFO:drake:Inner ellipsoid volume ratio before affine transform: 0.14781020469710734\n",
      "INFO:drake:Inner ellipsoid volume ratio: 0.20620897435991728\n",
      "INFO:drake:0\n"
     ]
    },
    {
     "name": "stdout",
     "output_type": "stream",
     "text": [
      "Simplifying polytope with 532 faces\n"
     ]
    },
    {
     "name": "stderr",
     "output_type": "stream",
     "text": [
      "INFO:drake:Removing trivially intersecting polytope at index 0\n",
      "INFO:drake:Removing trivially intersecting polytope at index 1\n",
      "INFO:drake:Removing trivially intersecting polytope at index 2\n",
      "INFO:drake:Removing trivially intersecting polytope at index 3\n",
      "INFO:drake:Removing trivially intersecting polytope at index 4\n",
      "INFO:drake:273 faces saved so far\n",
      "INFO:drake:277 faces saved so far\n",
      "INFO:drake:277 faces saved so far\n",
      "INFO:drake:277 faces saved\n",
      "INFO:drake:Inner ellipsoid volume ratio before affine transform: 0.146478020224788\n",
      "INFO:drake:Inner ellipsoid volume ratio: 0.1557174196483835\n",
      "INFO:drake:Reverting affine transformation due to loss of intersection w polytope 0\n",
      "INFO:drake:0\n"
     ]
    },
    {
     "name": "stdout",
     "output_type": "stream",
     "text": [
      "Simplifying polytope with 731 faces\n"
     ]
    },
    {
     "name": "stderr",
     "output_type": "stream",
     "text": [
      "INFO:drake:Removing trivially intersecting polytope at index 0\n",
      "INFO:drake:Removing trivially intersecting polytope at index 1\n",
      "INFO:drake:Removing trivially intersecting polytope at index 2\n",
      "INFO:drake:Removing trivially intersecting polytope at index 4\n",
      "INFO:drake:Removing trivially intersecting polytope at index 5\n",
      "INFO:drake:316 faces saved so far\n",
      "INFO:drake:321 faces saved so far\n",
      "INFO:drake:321 faces saved so far\n",
      "INFO:drake:321 faces saved\n",
      "INFO:drake:Inner ellipsoid volume ratio before affine transform: 0.13369884715846336\n",
      "INFO:drake:Inner ellipsoid volume ratio: 0.20545241761342928\n",
      "INFO:drake:0\n"
     ]
    },
    {
     "name": "stdout",
     "output_type": "stream",
     "text": [
      "Simplifying polytope with 609 faces\n"
     ]
    },
    {
     "name": "stderr",
     "output_type": "stream",
     "text": [
      "INFO:drake:Removing trivially intersecting polytope at index 0\n",
      "INFO:drake:Removing trivially intersecting polytope at index 1\n",
      "INFO:drake:Removing trivially intersecting polytope at index 2\n",
      "INFO:drake:Removing trivially intersecting polytope at index 4\n",
      "INFO:drake:Removing trivially intersecting polytope at index 5\n",
      "INFO:drake:356 faces saved so far\n",
      "INFO:drake:360 faces saved so far\n",
      "INFO:drake:360 faces saved so far\n",
      "INFO:drake:360 faces saved\n",
      "INFO:drake:Inner ellipsoid volume ratio before affine transform: 0.10359302112081478\n",
      "INFO:drake:Inner ellipsoid volume ratio: 0.17167578707199987\n",
      "INFO:drake:0\n",
      "INFO:drake:Removing trivially intersecting polytope at index 0\n"
     ]
    },
    {
     "name": "stdout",
     "output_type": "stream",
     "text": [
      "Simplifying polytope with 466 faces\n"
     ]
    },
    {
     "name": "stderr",
     "output_type": "stream",
     "text": [
      "INFO:drake:Removing trivially intersecting polytope at index 1\n",
      "INFO:drake:Removing trivially intersecting polytope at index 2\n",
      "INFO:drake:Removing trivially intersecting polytope at index 4\n",
      "INFO:drake:Removing trivially intersecting polytope at index 5\n",
      "INFO:drake:128 faces saved so far\n",
      "INFO:drake:135 faces saved so far\n",
      "INFO:drake:137 faces saved so far\n",
      "INFO:drake:137 faces saved so far\n",
      "INFO:drake:137 faces saved\n",
      "INFO:drake:Inner ellipsoid volume ratio before affine transform: 0.19792487546912552\n",
      "INFO:drake:Inner ellipsoid volume ratio: 0.24614096192014298\n",
      "INFO:drake:0\n",
      "INFO:drake:Removing trivially intersecting polytope at index 0\n"
     ]
    },
    {
     "name": "stdout",
     "output_type": "stream",
     "text": [
      "Simplifying polytope with 705 faces\n"
     ]
    },
    {
     "name": "stderr",
     "output_type": "stream",
     "text": [
      "INFO:drake:Removing trivially intersecting polytope at index 1\n",
      "INFO:drake:Removing trivially intersecting polytope at index 2\n",
      "INFO:drake:Removing trivially intersecting polytope at index 3\n",
      "INFO:drake:Removing trivially intersecting polytope at index 4\n",
      "INFO:drake:Removing trivially intersecting polytope at index 5\n",
      "INFO:drake:Removing trivially intersecting polytope at index 6\n",
      "INFO:drake:393 faces saved so far\n",
      "INFO:drake:399 faces saved so far\n",
      "INFO:drake:399 faces saved so far\n",
      "INFO:drake:399 faces saved\n",
      "INFO:drake:Inner ellipsoid volume ratio before affine transform: 0.13435696350396065\n",
      "INFO:drake:Inner ellipsoid volume ratio: 0.16477657167182502\n",
      "INFO:drake:0\n",
      "INFO:drake:Removing trivially intersecting polytope at index 0\n"
     ]
    },
    {
     "name": "stdout",
     "output_type": "stream",
     "text": [
      "Simplifying polytope with 680 faces\n"
     ]
    },
    {
     "name": "stderr",
     "output_type": "stream",
     "text": [
      "INFO:drake:Removing trivially intersecting polytope at index 1\n",
      "INFO:drake:Removing trivially intersecting polytope at index 2\n",
      "INFO:drake:Removing trivially intersecting polytope at index 3\n",
      "INFO:drake:Removing trivially intersecting polytope at index 5\n",
      "INFO:drake:Removing trivially intersecting polytope at index 6\n",
      "INFO:drake:365 faces saved so far\n",
      "INFO:drake:375 faces saved so far\n",
      "INFO:drake:376 faces saved so far\n",
      "INFO:drake:376 faces saved so far\n",
      "INFO:drake:376 faces saved\n",
      "INFO:drake:Inner ellipsoid volume ratio before affine transform: 0.14285341109581484\n",
      "INFO:drake:Inner ellipsoid volume ratio: 0.16383956287434198\n",
      "INFO:drake:0\n",
      "INFO:drake:Removing trivially intersecting polytope at index 0\n"
     ]
    },
    {
     "name": "stdout",
     "output_type": "stream",
     "text": [
      "Simplifying polytope with 683 faces\n"
     ]
    },
    {
     "name": "stderr",
     "output_type": "stream",
     "text": [
      "INFO:drake:Removing trivially intersecting polytope at index 1\n",
      "INFO:drake:Removing trivially intersecting polytope at index 2\n",
      "INFO:drake:Removing trivially intersecting polytope at index 3\n",
      "INFO:drake:Removing trivially intersecting polytope at index 4\n",
      "INFO:drake:345 faces saved so far\n",
      "INFO:drake:348 faces saved so far\n",
      "INFO:drake:348 faces saved so far\n",
      "INFO:drake:348 faces saved\n",
      "INFO:drake:Inner ellipsoid volume ratio before affine transform: 0.13409566339785842\n",
      "INFO:drake:Inner ellipsoid volume ratio: 0.1790311759142519\n",
      "INFO:drake:Reverting affine transformation due to loss of intersection w polytope 0\n",
      "INFO:drake:0\n",
      "INFO:drake:Removing trivially intersecting polytope at index 0\n",
      "INFO:drake:Removing trivially intersecting polytope at index 1\n",
      "INFO:drake:Removing trivially intersecting polytope at index 2\n",
      "INFO:drake:Removing trivially intersecting polytope at index 3\n",
      "INFO:drake:Removing trivially intersecting polytope at index 4\n",
      "INFO:drake:8 faces saved so far\n"
     ]
    },
    {
     "name": "stdout",
     "output_type": "stream",
     "text": [
      "Simplifying polytope with 103 faces\n"
     ]
    },
    {
     "name": "stderr",
     "output_type": "stream",
     "text": [
      "INFO:drake:8 faces saved so far\n",
      "INFO:drake:8 faces saved\n",
      "INFO:drake:Inner ellipsoid volume ratio before affine transform: 0.9502291150336755\n",
      "INFO:drake:Inner ellipsoid volume ratio: 0.9502216694439135\n",
      "INFO:drake:0\n",
      "INFO:drake:Removing trivially intersecting polytope at index 0\n",
      "INFO:drake:Removing trivially intersecting polytope at index 1\n",
      "INFO:drake:Removing trivially intersecting polytope at index 2\n",
      "INFO:drake:Removing trivially intersecting polytope at index 3\n"
     ]
    },
    {
     "name": "stdout",
     "output_type": "stream",
     "text": [
      "Simplifying polytope with 120 faces\n"
     ]
    },
    {
     "name": "stderr",
     "output_type": "stream",
     "text": [
      "INFO:drake:12 faces saved so far\n",
      "INFO:drake:13 faces saved so far\n",
      "INFO:drake:13 faces saved so far\n",
      "INFO:drake:13 faces saved\n",
      "INFO:drake:Inner ellipsoid volume ratio before affine transform: 0.6652696085704417\n",
      "INFO:drake:Inner ellipsoid volume ratio: 0.6652310289729286\n",
      "INFO:drake:0\n",
      "INFO:drake:Removing trivially intersecting polytope at index 0\n",
      "INFO:drake:Removing trivially intersecting polytope at index 1\n",
      "INFO:drake:Removing trivially intersecting polytope at index 2\n",
      "INFO:drake:Removing trivially intersecting polytope at index 3\n",
      "INFO:drake:35 faces saved so far\n"
     ]
    },
    {
     "name": "stdout",
     "output_type": "stream",
     "text": [
      "Simplifying polytope with 142 faces\n"
     ]
    },
    {
     "name": "stderr",
     "output_type": "stream",
     "text": [
      "INFO:drake:35 faces saved so far\n",
      "INFO:drake:35 faces saved\n",
      "INFO:drake:Inner ellipsoid volume ratio before affine transform: 0.5448653114896449\n",
      "INFO:drake:Inner ellipsoid volume ratio: 0.5583208658312518\n",
      "INFO:drake:0\n"
     ]
    },
    {
     "name": "stdout",
     "output_type": "stream",
     "text": [
      "Simplifying polytope with 531 faces\n"
     ]
    },
    {
     "name": "stderr",
     "output_type": "stream",
     "text": [
      "INFO:drake:Removing trivially intersecting polytope at index 0\n",
      "INFO:drake:Removing trivially intersecting polytope at index 1\n",
      "INFO:drake:Removing trivially intersecting polytope at index 2\n",
      "INFO:drake:Removing trivially intersecting polytope at index 3\n",
      "INFO:drake:Removing trivially intersecting polytope at index 4\n",
      "INFO:drake:247 faces saved so far\n",
      "INFO:drake:252 faces saved so far\n",
      "INFO:drake:253 faces saved so far\n",
      "INFO:drake:253 faces saved so far\n",
      "INFO:drake:253 faces saved\n",
      "INFO:drake:Inner ellipsoid volume ratio before affine transform: 0.13958422439097412\n",
      "INFO:drake:Inner ellipsoid volume ratio: 0.19188254849037764\n",
      "INFO:drake:0\n"
     ]
    },
    {
     "name": "stdout",
     "output_type": "stream",
     "text": [
      "Simplifying polytope with 538 faces\n"
     ]
    },
    {
     "name": "stderr",
     "output_type": "stream",
     "text": [
      "INFO:drake:Removing trivially intersecting polytope at index 0\n",
      "INFO:drake:Removing trivially intersecting polytope at index 1\n",
      "INFO:drake:Removing trivially intersecting polytope at index 2\n",
      "INFO:drake:Removing trivially intersecting polytope at index 3\n",
      "INFO:drake:Removing trivially intersecting polytope at index 4\n",
      "INFO:drake:223 faces saved so far\n",
      "INFO:drake:228 faces saved so far\n",
      "INFO:drake:231 faces saved so far\n",
      "INFO:drake:231 faces saved so far\n",
      "INFO:drake:231 faces saved\n",
      "INFO:drake:Inner ellipsoid volume ratio before affine transform: 0.1448369144400886\n",
      "INFO:drake:Inner ellipsoid volume ratio: 0.17799097263539695\n",
      "INFO:drake:Reverting affine transformation due to loss of containment of point 0\n",
      "INFO:drake:0\n"
     ]
    },
    {
     "name": "stdout",
     "output_type": "stream",
     "text": [
      "Simplifying polytope with 663 faces\n"
     ]
    },
    {
     "name": "stderr",
     "output_type": "stream",
     "text": [
      "INFO:drake:Removing trivially intersecting polytope at index 0\n",
      "INFO:drake:Removing trivially intersecting polytope at index 1\n",
      "INFO:drake:Removing trivially intersecting polytope at index 2\n",
      "INFO:drake:Removing trivially intersecting polytope at index 3\n",
      "INFO:drake:Removing trivially intersecting polytope at index 4\n",
      "INFO:drake:324 faces saved so far\n",
      "INFO:drake:324 faces saved so far\n",
      "INFO:drake:324 faces saved\n",
      "INFO:drake:Inner ellipsoid volume ratio before affine transform: 0.16456883567508837\n",
      "INFO:drake:Inner ellipsoid volume ratio: 0.19539209174559213\n",
      "INFO:drake:0\n",
      "INFO:drake:Removing trivially intersecting polytope at index 1\n",
      "INFO:drake:20 faces saved so far\n",
      "INFO:drake:25 faces saved so far\n"
     ]
    },
    {
     "name": "stdout",
     "output_type": "stream",
     "text": [
      "Simplifying polytope with 95 faces\n"
     ]
    },
    {
     "name": "stderr",
     "output_type": "stream",
     "text": [
      "INFO:drake:25 faces saved so far\n",
      "INFO:drake:25 faces saved\n",
      "INFO:drake:Inner ellipsoid volume ratio before affine transform: 0.4588282203075585\n",
      "INFO:drake:Inner ellipsoid volume ratio: 0.4597912247282676\n"
     ]
    }
   ],
   "source": [
    "min_v_ratio = 0.1\n",
    "\n",
    "today = date.today()\n",
    "\n",
    "datestr = today.strftime(\"%b-%d-%Y\").replace('-', '_')\n",
    "folder_name = (\"test_poly_with_shuffle\" + \n",
    "str(min_v_ratio).replace('.', '_')\n",
    " + \"_\" + datestr)\n",
    "os.makedirs(folder_name)\n",
    "csv_filename = folder_name + \"/data.csv\"\n",
    "\n",
    "polytopes_simplifying = copy.deepcopy(polytopes)\n",
    "\n",
    "with open(csv_filename, 'w', newline='') as file:\n",
    "    # Create a CSV writer object\n",
    "    csv_writer = csv.writer(file)\n",
    "    csv_writer.writerow(['Initial num faces','V ratio','faces reduced','t'])\n",
    "\n",
    "    for i_poly in range(len(polytopes)):\n",
    "        nFaces = np.shape(polytopes[i_poly].A())[0]\n",
    "        print(f\"Simplifying polytope with {nFaces} faces\")\n",
    "\n",
    "        t0 = time.time()\n",
    "\n",
    "        inbody = polytopes[i_poly].SimplifyByIncrementalFaceTranslation(min_v_ratio = min_v_ratio, max_loops = 10,intersecting_polytopes=\\\n",
    "                    [polytopes[i] for i in intersecting_polytope_inds[i_poly]],intersection_pad = 1e-2,\\\n",
    "                        do_affine_transform=True, conservative_intersections = False,\n",
    "                        points_to_contain = points_to_contain[i_poly],random_seed = 0)\n",
    "        \n",
    "        V_ratio = inbody.MaximumVolumeInscribedEllipsoid().CalcVolume()/polytopes[i_poly].MaximumVolumeInscribedEllipsoid().CalcVolume()\n",
    "        t = time.time() - t0\n",
    "\n",
    "        # write data to files\n",
    "        yaml_data = {\"A\": inbody.A().tolist(),\n",
    "                \"b\": inbody.b().tolist()}\n",
    "        with open(folder_name + \"/\" + region_names[i_poly] + \".yaml\",\"w\") as file:\n",
    "            yaml.dump(yaml_data, file)\n",
    "\n",
    "        csv_data = [nFaces, V_ratio,\n",
    "                    np.shape(polytopes[i_poly].A())[0] - np.shape(inbody.A())[0],t]\n",
    "        \n",
    "        polytopes_simplifying[i_poly] = inbody\n",
    "        csv_writer.writerow(csv_data)"
   ]
  },
  {
   "cell_type": "code",
   "execution_count": null,
   "metadata": {},
   "outputs": [],
   "source": [
    "print(sys.path)"
   ]
  },
  {
   "cell_type": "code",
   "execution_count": null,
   "metadata": {},
   "outputs": [
    {
     "data": {
      "text/plain": [
       "array([], dtype=float64)"
      ]
     },
     "execution_count": 31,
     "metadata": {},
     "output_type": "execute_result"
    }
   ],
   "source": [
    "points_to_contain[i_poly]"
   ]
  },
  {
   "cell_type": "code",
   "execution_count": 11,
   "metadata": {},
   "outputs": [
    {
     "ename": "SystemExit",
     "evalue": "Failure at solvers/mathematical_program.cc:824 in AddLinearConstraint(): condition 'v.rows() == lb.rows()' failed.",
     "output_type": "error",
     "traceback": [
      "\u001b[0;31m---------------------------------------------------------------------------\u001b[0m",
      "\u001b[0;31mSystemExit\u001b[0m                                Traceback (most recent call last)",
      "\u001b[0;32m/tmp/ipykernel_2099140/3705128223.py\u001b[0m in \u001b[0;36m<module>\u001b[0;34m\u001b[0m\n\u001b[1;32m     23\u001b[0m         \u001b[0mt0\u001b[0m \u001b[0;34m=\u001b[0m \u001b[0mtime\u001b[0m\u001b[0;34m.\u001b[0m\u001b[0mtime\u001b[0m\u001b[0;34m(\u001b[0m\u001b[0;34m)\u001b[0m\u001b[0;34m\u001b[0m\u001b[0;34m\u001b[0m\u001b[0m\n\u001b[1;32m     24\u001b[0m \u001b[0;34m\u001b[0m\u001b[0m\n\u001b[0;32m---> 25\u001b[0;31m         inbody = polytopes[i_poly].SimplifyByIncrementalFaceTranslation(min_v_ratio = min_v_ratio, max_loops = 10,intersecting_polytopes=\\\n\u001b[0m\u001b[1;32m     26\u001b[0m                     \u001b[0;34m[\u001b[0m\u001b[0mpolytopes\u001b[0m\u001b[0;34m[\u001b[0m\u001b[0mi\u001b[0m\u001b[0;34m]\u001b[0m \u001b[0;32mfor\u001b[0m \u001b[0mi\u001b[0m \u001b[0;32min\u001b[0m \u001b[0mintersecting_polytope_inds\u001b[0m\u001b[0;34m[\u001b[0m\u001b[0mi_poly\u001b[0m\u001b[0;34m]\u001b[0m\u001b[0;34m]\u001b[0m\u001b[0;34m,\u001b[0m\u001b[0mintersection_pad\u001b[0m \u001b[0;34m=\u001b[0m \u001b[0;36m1e-2\u001b[0m\u001b[0;34m,\u001b[0m\u001b[0;31m\\\u001b[0m\u001b[0;34m\u001b[0m\u001b[0;34m\u001b[0m\u001b[0m\n\u001b[1;32m     27\u001b[0m                         \u001b[0mdo_affine_transform\u001b[0m\u001b[0;34m=\u001b[0m\u001b[0;32mTrue\u001b[0m\u001b[0;34m,\u001b[0m \u001b[0mconservative_intersections\u001b[0m \u001b[0;34m=\u001b[0m \u001b[0;32mFalse\u001b[0m\u001b[0;34m,\u001b[0m\u001b[0;34m\u001b[0m\u001b[0;34m\u001b[0m\u001b[0m\n",
      "\u001b[0;31mSystemExit\u001b[0m: Failure at solvers/mathematical_program.cc:824 in AddLinearConstraint(): condition 'v.rows() == lb.rows()' failed."
     ]
    }
   ],
   "source": [
    "%tb"
   ]
  },
  {
   "cell_type": "code",
   "execution_count": 12,
   "metadata": {},
   "outputs": [
    {
     "data": {
      "text/plain": [
       "array([ 2.87730000e+00,  1.74280000e+00,  2.87730000e+00, -8.98000000e-02,\n",
       "        2.87730000e+00,  3.68250000e+00,  2.87730000e+00,  1.60000000e+00,\n",
       "        2.25000000e+00,  0.00000000e+00,  2.87730000e+00,  1.74280000e+00,\n",
       "        2.87730000e+00,  3.05180000e+00,  2.87730000e+00, -7.50000000e-03,\n",
       "        2.87730000e+00,  4.80000000e+00,  2.25000000e+00,  3.50000000e+00,\n",
       "        1.14731888e-01,  1.15413558e+00, -1.00415798e-02, -8.44129756e-02,\n",
       "        1.34602516e-02, -2.62862946e-02, -7.29099780e-02,  8.25723428e-02,\n",
       "        2.11134401e-01,  1.18504028e+00,  2.35084529e-01,  2.09560477e-02,\n",
       "        4.76823114e-01,  4.94245602e-01,  1.14615341e+00,  9.95312089e-01,\n",
       "        9.68904533e-01,  5.75476909e-01,  1.68104583e+00,  9.03638649e-01,\n",
       "        6.02773691e-01,  6.32157640e-01,  2.18174455e-01,  3.37018555e-03,\n",
       "        1.12123924e+00,  7.83032040e-01,  1.65659759e+00,  1.31719650e+00,\n",
       "        3.94497783e+00,  3.17365947e+00, -1.27721925e-01,  5.24032003e-01,\n",
       "        1.11410790e+00,  9.34956509e-01,  1.37723837e+00,  1.10934311e+00,\n",
       "        8.24867012e-01,  5.52806453e-01,  1.62079685e+00,  1.68645644e-01,\n",
       "        9.13894002e-01,  7.72502783e-01,  4.35051999e+00,  1.39929880e+00,\n",
       "        1.79031830e+00, -3.14369244e-03, -1.77246331e-01,  2.01216137e-01,\n",
       "        2.42785996e-01,  5.34710116e-01,  7.55949787e-01, -1.09606635e-01,\n",
       "        5.65102448e-01,  3.20410321e-01,  2.58543213e+00,  2.70680490e+00,\n",
       "        2.60478887e+00,  3.24052334e-01,  1.77438053e-01, -6.56523945e-02,\n",
       "       -1.74093433e-01,  6.29025814e-01,  3.88886666e-01,  4.30446652e-01,\n",
       "        9.47835667e-01,  9.15842567e-01,  9.60610733e-01,  5.95760980e-01,\n",
       "       -8.08876122e-02, -1.75600716e-01,  6.85362768e-02,  1.06109224e+00,\n",
       "        7.60389390e-01,  3.07030557e+00,  3.14063546e+00,  3.19856054e+00,\n",
       "        3.23179341e+00,  1.35790023e+00,  8.65994601e-02, -1.44093654e-01,\n",
       "        8.35221530e-01,  5.82615646e-01,  9.32915386e-01,  8.58810519e-01,\n",
       "        1.43762990e+00,  2.45600599e+00,  2.91823208e+00,  2.84254838e+00,\n",
       "        2.92832588e+00,  9.72560859e-01,  5.43481304e-01,  1.36569252e+00,\n",
       "       -7.49789131e-02, -1.99174217e-01,  1.91822737e+00,  5.49298480e-01,\n",
       "       -9.46861496e-02,  7.90076781e-01,  1.09466185e+00,  2.06177097e-01,\n",
       "       -5.14141002e-02,  7.35375748e-01,  5.58707107e-01,  6.02795287e-01,\n",
       "        5.42467264e-02,  2.44549225e+00,  3.01288191e+00,  3.08676774e+00,\n",
       "        3.18178859e+00, -4.43112099e-02,  1.45620600e+00,  1.44235335e+00,\n",
       "        1.74831092e+00,  1.44794824e+00,  7.40173090e-01, -6.23784865e-02,\n",
       "        7.87589196e-02, -5.15973812e-02, -1.77890435e-01, -1.96882364e-01,\n",
       "       -4.17983150e-02,  1.74516475e-01, -1.55655453e-01, -2.30795329e-01,\n",
       "        1.69028588e+00,  6.76648838e-02,  1.01239274e+00, -8.72844272e-02,\n",
       "        4.49260424e-02,  1.20741029e-01, -8.51550420e-02,  8.07443561e-03,\n",
       "        1.07589328e+00,  2.99173011e+00,  3.47749884e+00,  1.14799415e+00,\n",
       "        2.98066268e+00,  3.30594734e+00,  1.11728188e-01,  5.71616610e-01,\n",
       "        4.61514949e-01,  3.19955232e-01,  8.56648521e-01,  6.94570934e-01,\n",
       "        2.73864025e+00,  1.11103402e+00,  2.77857688e+00,  3.03636116e+00,\n",
       "        2.77489191e+00,  1.88423067e+00,  1.00583707e+00,  2.60716253e+00,\n",
       "        3.13330058e+00,  3.73175413e+00,  2.57826017e+00,  2.50856497e+00,\n",
       "        2.37227549e+00,  2.17276085e+00,  1.90041855e+00,  2.87785986e+00,\n",
       "        3.68836965e+00,  1.43819405e+00,  3.07868100e+00,  2.53725980e+00,\n",
       "        3.12320835e+00,  2.62359186e+00,  3.32250229e+00,  9.71942769e-01,\n",
       "        2.47539313e+00,  3.42418287e+00,  3.30846315e+00,  2.87850991e+00,\n",
       "        2.84557274e+00,  2.79362776e+00,  1.83868552e+00,  1.41495029e+00,\n",
       "        3.33127557e+00,  2.63368410e+00,  2.73285367e+00,  2.51730382e+00,\n",
       "        2.68413768e+00,  2.63191267e+00,  2.57392016e+00,  2.45009352e+00,\n",
       "        2.26618135e+00,  2.18240165e+00,  2.01972541e+00,  2.63364289e+00,\n",
       "        1.78897645e+00,  1.65701971e+00,  2.50226599e+00,  2.01215378e+00,\n",
       "        3.78036956e+00,  2.68629508e+00,  2.94778285e+00,  2.86067336e+00,\n",
       "        2.69741922e+00,  3.28118291e+00,  2.86084199e+00,  3.68868279e+00,\n",
       "        9.95040902e-01,  3.23572757e+00,  9.44489384e-01,  7.67883198e-01,\n",
       "        2.66257129e+00,  1.05463078e+00,  1.03824710e+00,  2.98767942e+00,\n",
       "        3.85245055e+00,  1.63308996e-02,  5.98559876e-02,  2.64663725e+00,\n",
       "        3.92085536e-01, -6.86814242e-03, -3.78411324e-02,  9.66285736e-01,\n",
       "        6.13095593e-01,  4.79397925e-01,  2.62071700e-01,  3.71965426e-01,\n",
       "        3.21793717e+00,  2.48391813e+00,  2.70781457e+00,  2.32299535e+00,\n",
       "        2.61548736e+00,  2.48766351e+00,  2.37116477e+00,  2.08542852e+00,\n",
       "        2.42336008e+00,  2.24369515e+00,  2.78977421e+00,  2.71730619e+00,\n",
       "        2.86065296e+00,  3.07699913e+00,  3.62817900e+00,  3.26724074e+00,\n",
       "        3.06582601e+00,  3.39328461e+00,  2.59599784e+00,  2.41121962e+00,\n",
       "        2.65119807e+00,  2.55761878e+00,  2.85121253e+00,  2.62268924e+00,\n",
       "        2.47786070e+00,  2.70219515e+00,  2.93266773e+00,  3.16693450e+00,\n",
       "        2.31737618e+00,  3.13198972e+00,  1.79839921e+00,  2.45855592e+00,\n",
       "        1.77218758e+00,  2.83109419e+00,  2.14771437e+00,  3.29009135e+00,\n",
       "        2.79934720e+00,  2.82265099e+00,  2.70388292e+00,  2.95454111e+00,\n",
       "        2.64747759e+00,  3.06700462e+00,  2.76178682e+00,  2.48138406e+00,\n",
       "        2.56445447e+00,  1.39640853e+00,  3.53130130e+00,  3.78357507e+00,\n",
       "        2.51155269e+00,  2.41391040e+00,  2.25964576e+00,  2.49991027e+00,\n",
       "        2.42347000e+00,  2.33177045e+00,  2.23260879e+00,  3.29688195e+00,\n",
       "        1.74001644e+00,  1.73182086e+00,  2.22515014e+00,  2.05195504e+00,\n",
       "        2.25909020e+00,  3.11938158e+00,  3.67929638e+00,  3.42871926e+00,\n",
       "        2.02321272e+00,  1.57150021e+00,  2.98923320e+00,  3.31694688e+00,\n",
       "        3.49278449e+00,  1.13902477e+00,  2.44930654e+00,  3.14478112e-01,\n",
       "        2.96968119e-01,  4.84153801e-02,  3.80484333e-01,  5.02948226e-01,\n",
       "        5.72486004e-01,  3.08848541e-01,  3.90633005e-01,  6.10963212e-01,\n",
       "        2.30820519e+00,  2.15074961e+00,  1.68803804e+00,  2.84978393e+00,\n",
       "        1.15717806e+00,  2.02567675e+00,  2.33453297e+00,  2.02867203e+00,\n",
       "        3.45227168e+00,  2.82692827e+00,  2.81087772e+00,  1.12730290e+00,\n",
       "        4.01007680e+00,  3.52821669e+00,  3.24357853e+00,  3.13379540e+00,\n",
       "        1.23214354e+00,  1.21029964e+00,  1.24032065e+00, -4.69436678e-02,\n",
       "        9.76404885e-01,  6.09149296e-01,  2.22912774e+00,  2.09858674e+00,\n",
       "        2.41771468e+00,  3.34765934e+00,  1.80873390e+00,  3.25300902e+00,\n",
       "        2.96895363e+00,  3.03944572e+00,  3.44787026e+00,  3.28648711e+00,\n",
       "        3.39404853e+00,  2.00883359e+00,  3.44358520e+00,  3.04260976e+00,\n",
       "        2.67872895e+00,  3.24635420e+00,  2.66488519e-01,  6.80597415e-01,\n",
       "        2.32380599e+00,  2.38087958e+00,  2.37875207e+00,  2.91242329e+00,\n",
       "        3.26372119e+00,  1.75929323e-01, -6.33816692e-03,  3.05808257e+00,\n",
       "        3.47944935e+00,  2.00147323e+00,  4.27857326e+00,  3.27389387e+00,\n",
       "        1.93539873e+00,  2.98246490e+00,  1.69374141e+00,  1.86296766e+00,\n",
       "        1.74263485e+00,  1.19924942e+00,  1.15585668e+00,  3.67938918e+00,\n",
       "        1.20124778e+00,  2.68059000e+00,  1.71947327e+00,  1.78599900e+00,\n",
       "        1.85288222e+00,  1.71023908e+00,  3.92942799e-01,  1.64887105e-01,\n",
       "       -1.70292059e-02,  5.69474530e-01,  3.14665531e+00,  2.58244110e+00,\n",
       "        2.76708542e+00,  2.80172656e+00,  2.15608395e+00,  3.01873408e+00,\n",
       "        2.42817253e+00,  2.36082798e+00,  2.41142198e+00,  1.67390022e+00,\n",
       "        1.74528960e+00,  2.78976947e+00,  1.19356907e+00,  1.15585753e+00,\n",
       "        2.60501324e+00,  1.57693697e+00,  5.28138208e+00,  2.24301324e+00,\n",
       "        1.52491828e+00,  3.47463953e+00,  3.32863081e+00,  2.98095649e+00,\n",
       "        2.57244267e+00,  3.56513055e+00,  4.38397535e+00,  1.85077689e+00,\n",
       "        2.58426288e+00,  2.45467293e+00,  1.69564495e+00,  2.18207594e+00,\n",
       "        1.46509033e+00,  2.45499299e+00,  3.11320155e+00,  3.36060212e+00,\n",
       "        3.25184303e+00,  2.93564550e+00,  3.53777441e+00,  1.65506154e+00,\n",
       "        1.67816293e+00,  1.41417836e+00,  1.42465396e+00,  2.72242801e+00,\n",
       "        3.12246042e+00,  3.33999677e+00,  2.70442151e+00,  2.51113648e+00,\n",
       "        3.07395089e+00,  2.44893807e+00,  3.22820012e+00,  3.02991247e+00,\n",
       "        2.55780210e+00,  2.39481056e+00,  2.38082503e+00,  2.37545705e+00,\n",
       "        4.09424103e+00,  1.97739542e+00,  1.26819129e+00,  3.02752553e+00,\n",
       "        2.76188752e+00,  2.05128232e+00,  2.54064306e+00,  2.59629134e+00,\n",
       "       -7.31325334e-01, -7.54949001e-01, -7.69738810e-01,  1.91286085e+00,\n",
       "        2.03208878e+00,  2.06149141e+00,  1.72548333e+00, -7.75884508e-01,\n",
       "        2.02898546e+00,  2.15193953e+00,  9.34682412e-01,  7.02820423e-01,\n",
       "        1.11624211e+00,  1.53185442e+00,  1.58627439e+00,  2.57711669e+00,\n",
       "       -1.06764470e+00, -9.46614613e-01, -9.82174760e-01, -9.82136532e-01,\n",
       "        2.03786943e+00, -9.71614326e-01, -9.98905878e-01, -9.91850280e-01,\n",
       "        5.18833499e-01,  1.75250748e+00,  7.41902373e-01,  5.54758395e-01,\n",
       "        2.55675846e-01,  6.43825117e-01,  8.12100138e-01,  1.51919531e+00,\n",
       "        2.76626368e+00,  3.28872331e+00,  1.91866357e-01,  2.19309795e+00,\n",
       "        2.73698212e+00,  2.94785918e-01,  7.15036760e-02,  5.15453860e-01,\n",
       "        1.56222566e+00,  5.47186943e-01,  6.97671612e-01,  1.35345044e+00,\n",
       "        6.73732384e-02,  2.52700553e-01,  7.10454421e-01,  6.00067436e-01,\n",
       "        1.82750897e+00,  1.48509883e+00,  1.57756292e+00,  2.74685528e+00,\n",
       "        2.84960570e+00,  3.48452429e+00,  1.58580197e+00,  2.00791876e+00,\n",
       "        1.60798921e+00,  2.00356317e+00,  2.86430978e+00,  2.86319953e+00,\n",
       "        2.80055386e+00,  2.92223409e+00,  2.92646906e+00,  1.49886741e+00,\n",
       "        1.84314835e+00,  2.79074851e+00,  1.55447591e+00,  1.96766782e+00,\n",
       "        1.46797808e+00,  9.55726141e-01,  8.07437152e-01,  3.61517438e-01,\n",
       "        8.46283679e-01,  1.21181305e+00,  1.82951619e+00,  2.71360538e+00,\n",
       "        2.76521066e+00,  3.31369133e+00,  1.34273003e+00,  2.60435225e+00,\n",
       "        1.98814598e+00,  2.76048572e+00,  2.84678732e+00,  1.48200313e+00,\n",
       "        1.46372033e+00,  1.95568863e+00,  1.37407109e+00,  4.75523703e-01,\n",
       "        5.77765650e-01,  3.30412633e-01,  1.09498197e+00,  1.28479202e+00,\n",
       "        1.33456350e+00,  1.52912330e+00,  1.57355931e+00,  1.66966095e+00,\n",
       "        1.36782696e+00,  9.42705255e-01,  1.77660057e+00,  1.87714141e+00,\n",
       "        1.98755154e+00,  1.69984991e+00,  2.07868289e+00,  2.17792178e+00,\n",
       "        1.82551969e+00,  1.32717197e+00,  1.27039617e+00,  2.52169811e+00,\n",
       "        1.66775082e+00,  2.44269801e+00,  2.58623357e+00,  1.37640498e+00,\n",
       "        1.18378397e+00,  1.88626312e+00,  1.34661444e+00,  2.41252075e+00,\n",
       "        1.41257426e+00,  2.44552031e+00,  1.89565293e+00,  1.40079503e+00,\n",
       "        1.12992296e+00,  4.49879926e-01,  2.45876043e-01,  6.22541062e-01,\n",
       "        1.46556138e+00,  1.54447028e+00,  1.64954063e+00,  2.37969427e+00,\n",
       "        1.66599439e+00,  2.53127313e+00,  1.80401112e+00,  1.77127585e+00,\n",
       "        2.27050712e+00,  1.28571794e+00,  1.53031872e+00,  1.66048825e+00,\n",
       "        1.34130985e+00,  1.88358834e+00,  3.15744336e+00,  1.05940828e+00,\n",
       "        1.27596662e+00,  1.31925690e+00,  1.29783153e+00,  3.13168621e+00,\n",
       "        2.81748527e+00,  2.49640283e+00,  2.62449752e+00,  2.55610838e+00,\n",
       "        2.82945273e+00,  9.22467809e-01,  1.06572989e+00,  2.74700815e+00,\n",
       "        2.67000795e+00,  1.11872915e+00,  1.10568881e+00,  1.05018013e+00,\n",
       "        2.19720153e+00,  2.27487083e+00,  1.04144542e+00,  1.19747284e+00,\n",
       "        1.39350012e+00,  1.63056985e+00,  2.00102342e+00,  8.78146020e-01,\n",
       "        1.02001527e+00,  1.07326602e+00,  1.23759124e+00,  1.15405735e+00,\n",
       "        1.17904235e+00,  8.77428461e-01,  9.40872461e-01,  1.24189342e+00,\n",
       "        2.42804274e+00,  1.08657065e+00,  1.00075414e+00,  1.16505453e+00,\n",
       "        1.38763490e+00,  8.30324158e-01,  1.69709873e+00])"
      ]
     },
     "execution_count": 12,
     "metadata": {},
     "output_type": "execute_result"
    }
   ],
   "source": [
    "polytopes[0].b()"
   ]
  },
  {
   "cell_type": "code",
   "execution_count": 12,
   "metadata": {},
   "outputs": [],
   "source": [
    "c = polytopes[0].ChebyshevCenter()"
   ]
  },
  {
   "cell_type": "code",
   "execution_count": 13,
   "metadata": {},
   "outputs": [
    {
     "data": {
      "text/plain": [
       "array([-1.7948221 ,  0.0164078 , -0.03577239, -0.71913771, -0.61868086,\n",
       "        0.63683771,  1.89170297, -1.97252978,  0.88000039, -1.66208035])"
      ]
     },
     "execution_count": 13,
     "metadata": {},
     "output_type": "execute_result"
    }
   ],
   "source": [
    "c"
   ]
  },
  {
   "cell_type": "code",
   "execution_count": null,
   "metadata": {},
   "outputs": [],
   "source": []
  }
 ],
 "metadata": {
  "kernelspec": {
   "display_name": "Python 3 (ipykernel)",
   "language": "python",
   "name": "python3"
  },
  "language_info": {
   "codemirror_mode": {
    "name": "ipython",
    "version": 3
   },
   "file_extension": ".py",
   "mimetype": "text/x-python",
   "name": "python",
   "nbconvert_exporter": "python",
   "pygments_lexer": "ipython3",
   "version": "3.10.12"
  }
 },
 "nbformat": 4,
 "nbformat_minor": 4
}
