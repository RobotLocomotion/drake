{
  "nbformat": 4,
  "nbformat_minor": 0,
  "metadata": {
    "colab": {
      "name": "MathematicalProgram tutorial.ipynb",
      "version": "0.3.2",
      "provenance": [],
      "collapsed_sections": []
    },
    "language_info": {
      "codemirror_mode": {
        "name": "ipython",
        "version": 3
      },
      "file_extension": ".py",
      "mimetype": "text/x-python",
      "name": "python",
      "nbconvert_exporter": "python",
      "pygments_lexer": "ipython3",
      "version": "3.6.8"
    },
    "kernelspec": {
      "display_name": "Python 3",
      "language": "python",
      "name": "python3"
    }
  },
  "cells": [
    {
      "cell_type": "code",
      "metadata": {
        "id": "C-ycZqLXa36U",
        "colab_type": "code",
        "colab": {}
      },
      "source": [
        "try:\n",
        "  import pydrake\n",
        "except ImportError:\n",
        "  !curl -s https://raw.githubusercontent.com/RussTedrake/underactuated/master/scripts/setup/jupyter_setup.py > jupyter_setup.py\n",
        "  from jupyter_setup import setup_drake\n",
        "  setup_drake()\n",
        "# Note: On Google's Colaboratory, this will take a minute, but should only need to reinstall once every 12 hours.\n",
        "# Colab will ask you to \"Reset all runtimes\"; say no to save yourself the reinstall."
      ],
      "execution_count": 0,
      "outputs": []
    },
    {
      "cell_type": "markdown",
      "metadata": {
        "id": "S4S9Ou7aa36Z",
        "colab_type": "text"
      },
      "source": [
        "# MathematicalProgram Tutorial\n",
        "\n",
        "\n",
        "\n"
      ]
    },
    {
      "cell_type": "markdown",
      "metadata": {
        "id": "Nne5dQmulkvz",
        "colab_type": "text"
      },
      "source": [
        "## Background\n",
        "Many engineering problems can be formulated as mathematical optimization problems, and solved by numerical solvers. A generic mathematical optimization problem can be formulated as\n",
        "\\begin{align}\n",
        "\\begin{array}{rl}\n",
        "                       \\min_x \\;  &  f(x)\n",
        "   \\\\[0.1pc]\\text{subject to}  \\;  &  x \\in\\mathcal{S}\n",
        "   \\end{array}\n",
        "   \\hspace{1.45em}\n",
        "   {\\scriptsize\n",
        "   \\begin{array}{|ll|}\n",
        "             \\hline \\text{The real-valued decision variable is}      & x\n",
        "       \\\\[-0.21pc]  \\text{The real-valued cost function is}          & f(x)\n",
        "       \\\\[-0.21pc]  \\text{The constraint set is}                     & \\mathcal{S}\n",
        "       \\\\[-0.21pc]  \\text{The optimal $x$ that minimizes the cost function is} & x^*\n",
        "       \\\\[0.03pc]\\hline\n",
        "   \\end{array}\n",
        "   }\n",
        "\\end{align}\n",
        "\n",
        "where $x$ is the real-valued decision variable(s), $f(x)$ is the real-valued *cost function*, $\\mathcal{S}$ is the constraint set for $x$. Our goal is to find the optimal $x^*$ within the constraint set $\\mathcal{S}$, such that $x^*$ minimizes the cost function $f(x)$.\n",
        "\n",
        "For example, the following optimization problem determines the value of $x$ \n",
        "that minimizes $x^3 + 2x + 1$ subject to $x \\ge 1$.\n",
        "\\begin{align}\n",
        "\\begin{array}{rl}\n",
        "                       \\min_x  &  x^3 + 2x + 1\n",
        "   \\\\[0.1pc] \\text{subject to}  &  x \\ge 1\n",
        "\\end{array}\n",
        "\\hspace{1.45em}\n",
        "{\\scriptsize\n",
        "\\begin{array}{|ll|}\n",
        "              \\hline \\text{The real-valued decision variable is}         &  x\n",
        "   \\\\[-0.21pc]       \\text{The real-valued cost function $f(x)$ is} &  x^3 + 2x + 1\n",
        "   \\\\[-0.21pc]       \\text{The set $\\mathcal{S}$ of constraints is}      &  x \\ge 1\n",
        "   \\\\[-0.21pc]       \\text{The value that minimizes the cost function is}    &  x^* = 1\n",
        "   \\\\[0.03pc]\\hline\n",
        "\\end{array}}\n",
        "\\end{align}\n",
        "\n",
        "In general, how an optimization problem is solved depends on its categorization (categories include Linear Programming, Quadratic Programming, Mixed-integer Programming, etc.). Categorization depends on properties of both the cost function $f(x)$ and the constraint set $\\mathcal{S}$. For example, if the cost function $f(x)$ is a linear function of $x$, and the constraint $\\mathcal{S}$ is a linear set $\\mathcal{S} = \\{x | Ax\\le b\\}$, then we have a *linear programming* problem, which is efficiently solved with certain solvers. \n",
        "\n",
        "There are multiple solvers for each category of optimization problems,\n",
        "but each solver has its own API and data structures.\n",
        "Frequently, users need to rewrite code when they switch solvers.\n",
        "To remedy this, Drake provides a common API through the *MathematicalProgram* class.\n",
        "In addition to avoiding solver-specific code,\n",
        "the constraint and cost functions can be written in symbolic form (which makes code more readable).\n",
        "In these ways, Drake's MathematicalProgram is akin to [YALMIP](https://yalmip.github.io/) in MATLAB or [JuMP](https://github.com/JuliaOpt/JuMP.jl) in Julia.\n",
        "<br> <font size =-1>Note: Drake supports many [solvers](https://drake.mit.edu/doxygen_cxx/group__solvers.html)\n",
        "(some are open-source and some require a license).</font>\n",
        "\n",
        "Drake can formulate and solve the following categories of optimization problems\n",
        "* Linear programming\n",
        "* Quadratic programming\n",
        "* Second-order cone programming\n",
        "* Nonlinear nonconvex programming\n",
        "* Semidefinite programming\n",
        "* Sum-of-squares programming\n",
        "* Mixed-integer programming (mixed-integer linear programming, mixed-integer quadratic programming, mixed-integer second-order cone programming).\n",
        "* Linear complementarity problem\n",
        "\n",
        "This tutorial provides the basics of Drake's MathematicalProgram.\n",
        "Advanced tutorials are available at\n",
        "[link](#advanced-tutorials).\n"
      ]
    },
    {
      "cell_type": "markdown",
      "metadata": {
        "id": "odPtbt6xlUH7",
        "colab_type": "text"
      },
      "source": [
        "## Basics of MathematicalProgram class\n",
        "Drake's MathematicalProgram class contains the mathematical formulation of an optimization problem, namely the decision variables $x$, the cost function $f(x)$, and the constraint set $\\mathcal{S}$."
      ]
    },
    {
      "cell_type": "markdown",
      "metadata": {
        "id": "Iwo9WogSlfaq",
        "colab_type": "text"
      },
      "source": [
        "### Initialize a MathematicalProgram object\n",
        "\n",
        " To initialize this class, first create an empty MathematicalProgram as"
      ]
    },
    {
      "cell_type": "code",
      "metadata": {
        "id": "gqUMmy1ca36a",
        "colab_type": "code",
        "colab": {}
      },
      "source": [
        "from pydrake.solvers.mathematicalprogram import MathematicalProgram\n",
        "import numpy as np\n",
        "\n",
        "# Create an empty MathematicalProgram named prog (with no decision variables, \n",
        "# constraints or cost function)\n",
        "prog = MathematicalProgram()"
      ],
      "execution_count": 0,
      "outputs": []
    },
    {
      "cell_type": "markdown",
      "metadata": {
        "id": "MmjAXkfGa36e",
        "colab_type": "text"
      },
      "source": [
        "\n",
        "\n",
        "### Adding decision variables\n",
        "Shown below, the function `NewContinuousVariables` adds two new continuous decision variables to `prog`.  The newly added variables are returned as `x` in a numpy array. \n",
        "<br><font size=-1> Note the range of the variable is a continuous set, as opposed to binary variables which only take discrete value 0 or 1.</font>"
      ]
    },
    {
      "cell_type": "code",
      "metadata": {
        "id": "5HiquOU4a36f",
        "colab_type": "code",
        "colab": {}
      },
      "source": [
        "x = prog.NewContinuousVariables(2)\n"
      ],
      "execution_count": 0,
      "outputs": []
    },
    {
      "cell_type": "markdown",
      "metadata": {
        "id": "cvIxJmbna36l",
        "colab_type": "text"
      },
      "source": [
        "The default names of the variable in *x* are \"x(0)\" and \"x(1)\".  The next line prints the default names and types in `x`, whereas the second line prints the symbolic expression \"1 + 2x[0] + 3x[1] + 4x[1]\"."
      ]
    },
    {
      "cell_type": "code",
      "metadata": {
        "id": "Ev5HTA2o-TrU",
        "colab_type": "code",
        "colab": {
          "base_uri": "https://localhost:8080/",
          "height": 52
        },
        "outputId": "ac94d59c-a4b6-48e0-8a1a-69181a7d4415"
      },
      "source": [
        "print(x)\n",
        "print(1 + 2*x[0] + 3*x[1] + 4*x[1])"
      ],
      "execution_count": 6,
      "outputs": [
        {
          "output_type": "stream",
          "text": [
            "[Variable('x(0)', Continuous) Variable('x(1)', Continuous)]\n",
            "(1 + 2 * x(0) + 7 * x(1))\n"
          ],
          "name": "stdout"
        }
      ]
    },
    {
      "cell_type": "markdown",
      "metadata": {
        "id": "CvReLocd-aTF",
        "colab_type": "text"
      },
      "source": [
        "To create an array `y` of two variables named \"dog(0)\"\" and \"dog(1)\", pass the name \"dog\" as a second argument to `NewContinuousVariables()`. Also shown below is the printout of the two variables in `y` and a symbolic expression involving `y`."
      ]
    },
    {
      "cell_type": "code",
      "metadata": {
        "id": "bZ4GqLrsa36m",
        "colab_type": "code",
        "outputId": "30d60c8e-9662-4768-9e9f-1c616a92013a",
        "colab": {
          "base_uri": "https://localhost:8080/",
          "height": 52
        }
      },
      "source": [
        "y = prog.NewContinuousVariables(2, \"dog\")\n",
        "print(y)\n",
        "print(y[0] + y[0] + y[1] * y[1] * y[1])"
      ],
      "execution_count": 7,
      "outputs": [
        {
          "output_type": "stream",
          "text": [
            "[Variable('dog(0)', Continuous) Variable('dog(1)', Continuous)]\n",
            "(2 * dog(0) + pow(dog(1), 3))\n"
          ],
          "name": "stdout"
        }
      ]
    },
    {
      "cell_type": "markdown",
      "metadata": {
        "id": "ZHowgpEwa36q",
        "colab_type": "text"
      },
      "source": [
        "To create a $3 \\times 2$ matrix of variables named \"A\", type "
      ]
    },
    {
      "cell_type": "code",
      "metadata": {
        "id": "MikCWWRta36r",
        "colab_type": "code",
        "outputId": "6d689e73-7c18-4166-84bd-08096df48e25",
        "colab": {
          "base_uri": "https://localhost:8080/",
          "height": 69
        }
      },
      "source": [
        "var_matrix = prog.NewContinuousVariables(3, 2, \"A\")\n",
        "print(var_matrix)"
      ],
      "execution_count": 8,
      "outputs": [
        {
          "output_type": "stream",
          "text": [
            "[[Variable('A(0,0)', Continuous) Variable('A(0,1)', Continuous)]\n",
            " [Variable('A(1,0)', Continuous) Variable('A(1,1)', Continuous)]\n",
            " [Variable('A(2,0)', Continuous) Variable('A(2,1)', Continuous)]]\n"
          ],
          "name": "stdout"
        }
      ]
    },
    {
      "cell_type": "markdown",
      "metadata": {
        "id": "O2NVdNbba36w",
        "colab_type": "text"
      },
      "source": [
        "### Adding constraints\n",
        "There are many ways to impose constraints on the decision variables. This tutorial shows a few simple examples. Refer to [advanced tutorials](#Advanced-tutorials) for other types of constraints.\n",
        "\n"
      ]
    },
    {
      "cell_type": "markdown",
      "metadata": {
        "id": "H0DI09IbGSwA",
        "colab_type": "text"
      },
      "source": [
        "#### AddConstraint\n",
        "The simplest way to add a constraint is with `MathematicalProgram.AddConstraint()`."
      ]
    },
    {
      "cell_type": "code",
      "metadata": {
        "id": "WTUu2Hv-a36x",
        "colab_type": "code",
        "outputId": "ff81bc46-895c-469a-a115-ecdf9922ceee",
        "colab": {
          "base_uri": "https://localhost:8080/",
          "height": 34
        }
      },
      "source": [
        "# Add the constraint x(0) * x(1) = 1 to prog\n",
        "prog.AddConstraint(x[0] * x[1] == 1)"
      ],
      "execution_count": 9,
      "outputs": [
        {
          "output_type": "execute_result",
          "data": {
            "text/plain": [
              "<pydrake.solvers.mathematicalprogram.Binding_Constraint at 0x7f3a33e76d70>"
            ]
          },
          "metadata": {
            "tags": []
          },
          "execution_count": 9
        }
      ]
    },
    {
      "cell_type": "markdown",
      "metadata": {
        "id": "C-W03yW3a360",
        "colab_type": "text"
      },
      "source": [
        "\n",
        "You can also add inequality constraint to `prog` such as"
      ]
    },
    {
      "cell_type": "code",
      "metadata": {
        "id": "8V883soUa361",
        "colab_type": "code",
        "outputId": "4fb978c5-08e3-4ed4-bf02-91af522dde21",
        "colab": {
          "base_uri": "https://localhost:8080/",
          "height": 34
        }
      },
      "source": [
        "prog.AddConstraint(x[0] >= 0)\n",
        "prog.AddConstraint(x[0] - x[1] <= 0)"
      ],
      "execution_count": 10,
      "outputs": [
        {
          "output_type": "execute_result",
          "data": {
            "text/plain": [
              "<pydrake.solvers.mathematicalprogram.Binding_Constraint at 0x7f3a2192b4b0>"
            ]
          },
          "metadata": {
            "tags": []
          },
          "execution_count": 10
        }
      ]
    },
    {
      "cell_type": "markdown",
      "metadata": {
        "id": "PYvi9bC9a365",
        "colab_type": "text"
      },
      "source": [
        "Inside `prog`, it knows that the constraint $x(0) \\ge 0, x(0) - x(1)\\le0$ are all *linear* constraints on $x$, by analyzing the symbolic expressions of these constraints."
      ]
    },
    {
      "cell_type": "markdown",
      "metadata": {
        "id": "j0pP6qRVa37J",
        "colab_type": "text"
      },
      "source": [
        "### Adding Costs\n",
        "In a complicated optimization problem, it is often convenient to write the cost function $f(x)$ as a sum of individual costs\n",
        "\\begin{align}\n",
        "f(x) = \\sum_i g_i(x)\n",
        "\\end{align}\n",
        ", and add each individual cost separately.\n"
      ]
    },
    {
      "cell_type": "markdown",
      "metadata": {
        "id": "9tSA9P9ZKsfr",
        "colab_type": "text"
      },
      "source": [
        "\n",
        "#### AddCost function.\n",
        "The simplest way to add a cost is with `MathematicalProgram.AddCost` function, which adds a new cost $g_i(x)$ to the aggregated cost $f(x)$. For example, if we want to add the cost $\\min_x x(0)$ to the optimization problem, we can do"
      ]
    },
    {
      "cell_type": "code",
      "metadata": {
        "id": "DTucXQ6ia37K",
        "colab_type": "code",
        "outputId": "27103b9e-bd7b-4a87-9ac5-d015fc3e5f57",
        "colab": {
          "base_uri": "https://localhost:8080/",
          "height": 34
        }
      },
      "source": [
        "# Add a cost x(0) to the total cost. Since prog doesn't have a cost before, now the aggregated cost is x(0)\n",
        "prog.AddCost(x[0])"
      ],
      "execution_count": 11,
      "outputs": [
        {
          "output_type": "execute_result",
          "data": {
            "text/plain": [
              "<pydrake.solvers.mathematicalprogram.Binding_Cost at 0x7f3a2192b570>"
            ]
          },
          "metadata": {
            "tags": []
          },
          "execution_count": 11
        }
      ]
    },
    {
      "cell_type": "markdown",
      "metadata": {
        "id": "LzGKnca8a37O",
        "colab_type": "text"
      },
      "source": [
        "If you decide to add another cost $x(0) + x(1)$ to the aggregated cost $f(x)$, you can simply call `AddCost` again as follows"
      ]
    },
    {
      "cell_type": "code",
      "metadata": {
        "id": "-LvpSEHsa37Q",
        "colab_type": "code",
        "outputId": "99c5cab3-c27d-4120-caa3-0853eb0fed8f",
        "colab": {
          "base_uri": "https://localhost:8080/",
          "height": 34
        }
      },
      "source": [
        "prog.AddCost(x[0] + x[1])"
      ],
      "execution_count": 12,
      "outputs": [
        {
          "output_type": "execute_result",
          "data": {
            "text/plain": [
              "<pydrake.solvers.mathematicalprogram.Binding_Cost at 0x7f3a2192bbf0>"
            ]
          },
          "metadata": {
            "tags": []
          },
          "execution_count": 12
        }
      ]
    },
    {
      "cell_type": "markdown",
      "metadata": {
        "id": "aJ5R1Uy4a37V",
        "colab_type": "text"
      },
      "source": [
        ", now the aggregated cost becomes $x(0) + x(0) + x(1) = 2x(0) + x(1)$.\n",
        "\n",
        "Inside `prog`, it knows that the added costs $x(0)$ and $x(0) + x(1)$ are both linear functions of $x$, by analyzing the symbolic expression $x(0)$ and $x(0) + x(1)$."
      ]
    },
    {
      "cell_type": "markdown",
      "metadata": {
        "id": "kBYqcOIqa37c",
        "colab_type": "text"
      },
      "source": [
        "now the aggregated cost becomes $2x(0) + x(1) + x(1) + 1 = 2x(0) + 2x(1) + 1$."
      ]
    },
    {
      "cell_type": "markdown",
      "metadata": {
        "id": "JCyqkKnsa37d",
        "colab_type": "text"
      },
      "source": [
        "### Solve the optimization problem\n",
        "Once all the decision variables/constraints/costs are added to `prog`, we are ready to solve the problem and retrieve the solution.\n",
        "\n"
      ]
    },
    {
      "cell_type": "markdown",
      "metadata": {
        "id": "KA8GxrF_prhb",
        "colab_type": "text"
      },
      "source": [
        "#### Automatically choosing a solver\n",
        "The simplest way to solve the optimization problem is to call `Solve` function. Drake's MathematicalProgram analyzes the type of the constraints/costs, and then calls an appropriate solver for your problem. The result of calling `Solve` is stored inside the return argument. Here is a code snippet"
      ]
    },
    {
      "cell_type": "code",
      "metadata": {
        "id": "7_0DXEHIa37f",
        "colab_type": "code",
        "outputId": "b8247621-f9e9-40ec-f69b-3b3faf13a565",
        "colab": {
          "base_uri": "https://localhost:8080/",
          "height": 104
        }
      },
      "source": [
        "\"\"\"\n",
        "Solves a simple problem\n",
        "min x(1)\n",
        "s.t x(0) + x(1) = 1\n",
        "    x(0) <= x(1)\n",
        "\"\"\"\n",
        "from pydrake.solvers.mathematicalprogram import Solve\n",
        "# Set up the optimization problem.\n",
        "prog = MathematicalProgram()\n",
        "x = prog.NewContinuousVariables(2)\n",
        "prog.AddConstraint(x[0] + x[1] == 1)\n",
        "prog.AddConstraint(x[0] <= x[1])\n",
        "prog.AddCost(x[1])\n",
        "\n",
        "# Now solve the optimization problem.\n",
        "result = Solve(prog)\n",
        "\n",
        "# print out the result.\n",
        "print(\"Success? \", result.is_success())\n",
        "print(result.get_solution_result())\n",
        "# Retrieve the solution to the decision variables.\n",
        "print('x* = ', result.GetSolution(x))\n",
        "# Retrieve the optimal cost.\n",
        "print('optimal cost = ', result.get_optimal_cost())\n",
        "# Print out the called solver.\n",
        "print('solver is: ', result.get_solver_id().name())"
      ],
      "execution_count": 13,
      "outputs": [
        {
          "output_type": "stream",
          "text": [
            "Success?  True\n",
            "SolutionResult.kSolutionFound\n",
            "x* =  [0.5 0.5]\n",
            "optimal cost =  0.5\n",
            "solver is:  SNOPT/f2c\n"
          ],
          "name": "stdout"
        }
      ]
    },
    {
      "cell_type": "markdown",
      "metadata": {
        "id": "N9LAIGvBa37j",
        "colab_type": "text"
      },
      "source": [
        "Notice that we can then retrieve optimization result from the return argument of `Solve`. For example, the solution $x^*$ is retrieved from `result.GetSolution`, and the optimal cost from `result.get_optimal_cost`.\n",
        "\n",
        "Some optimization solution is infeasible (doesn't have a solution). For example in the following code example, `result.get_solution_result()` will not report `kSolutionFound`."
      ]
    },
    {
      "cell_type": "code",
      "metadata": {
        "id": "qX4ecsGfa37l",
        "colab_type": "code",
        "outputId": "e985f670-0fb1-4bbc-a182-40986f1fe353",
        "colab": {
          "base_uri": "https://localhost:8080/",
          "height": 52
        }
      },
      "source": [
        "\"\"\"\n",
        "An infeasible optimization problem.\n",
        "\"\"\"\n",
        "prog = MathematicalProgram()\n",
        "x = prog.NewContinuousVariables(1)[0]\n",
        "y = prog.NewContinuousVariables(1)[0]\n",
        "prog.AddConstraint(x + y >= 1)\n",
        "prog.AddConstraint(x + y <= 0)\n",
        "prog.AddCost(x)\n",
        "\n",
        "result = Solve(prog)\n",
        "print(result.get_solution_result())\n",
        "print('optimal cost = ', result.get_optimal_cost())"
      ],
      "execution_count": 14,
      "outputs": [
        {
          "output_type": "stream",
          "text": [
            "SolutionResult.kInfeasibleConstraints\n",
            "optimal cost =  0.0\n"
          ],
          "name": "stdout"
        }
      ]
    },
    {
      "cell_type": "markdown",
      "metadata": {
        "id": "c6WzXH2Za37q",
        "colab_type": "text"
      },
      "source": [
        "#### Manually choosing a solver\n",
        "\n",
        "If you want to choose a solver yourself, rather than Drake choosing one for you, you could instantiate a solver explicitly, and call its `Solve` function. For example, if I want to solve a problem using the open-source solver [IPOPT](https://github.com/coin-or/Ipopt), here is a code snippet"
      ]
    },
    {
      "cell_type": "code",
      "metadata": {
        "id": "6jdsX74Ja37r",
        "colab_type": "code",
        "outputId": "2f0cd820-3f39-4089-fc4e-a5e2ac5bf1e3",
        "colab": {
          "base_uri": "https://localhost:8080/",
          "height": 87
        }
      },
      "source": [
        "\"\"\"\n",
        "Demo on manually choosing a solver\n",
        "Solves the problem\n",
        "min x(0)\n",
        "s.t x(0) + x(1) = 1\n",
        "    0 <= x(1) <= 1\n",
        "\"\"\"\n",
        "from pydrake.solvers.ipopt import IpoptSolver\n",
        "prog = MathematicalProgram()\n",
        "x = prog.NewContinuousVariables(2)\n",
        "prog.AddConstraint(x[0] + x[1] == 1)\n",
        "prog.AddConstraint(0 <= x[1])\n",
        "prog.AddConstraint(x[1] <= 1)\n",
        "prog.AddCost(x[0])\n",
        "\n",
        "# Choose IPOPT as the solver.\n",
        "# First instantiate an IPOPT solver.\n",
        "\n",
        "solver = IpoptSolver()\n",
        "# The initial guess is [1, 1]. The third argument is the options for Ipopt solver,\n",
        "# and we set no solver options.\n",
        "result = solver.Solve(prog, np.array([1, 1]), None)\n",
        "\n",
        "print(result.get_solution_result())\n",
        "print(\"x* = \", result.GetSolution(x))\n",
        "print(\"Solver is \", result.get_solver_id().name())\n",
        "print(\"Ipopt solver status: \", result.get_solver_details().status,\n",
        "      \", meaning \", result.get_solver_details().ConvertStatusToString())\n"
      ],
      "execution_count": 23,
      "outputs": [
        {
          "output_type": "stream",
          "text": [
            "SolutionResult.kSolutionFound\n",
            "x* =  [-9.98999996e-09  1.00000000e+00]\n",
            "Solver is  IPOPT\n",
            "Ipopt solver status:  0 , meaning  Success\n"
          ],
          "name": "stdout"
        }
      ]
    },
    {
      "cell_type": "markdown",
      "metadata": {
        "id": "CjkRko7ka37u",
        "colab_type": "text"
      },
      "source": [
        "Note that `solver.Solve()` expects three input arguments, the optimization program `prog`, the initial guess of the decision variable values (`[1, 1]` in this case), and an optional setting for the solver (`None` in this case, we use the default IPOPT setting). If you don't have an initial guess, you can substitute `np.array([1, 1])` with `None`. The solver will choose an initial guess automatically, as shown in the code below"
      ]
    },
    {
      "cell_type": "code",
      "metadata": {
        "id": "QFhLLwbOa37v",
        "colab_type": "code",
        "outputId": "9b4c1ffd-e99c-41bd-a969-8e25e9feff25",
        "colab": {
          "base_uri": "https://localhost:8080/",
          "height": 52
        }
      },
      "source": [
        "result = solver.Solve(prog, None, None)\n",
        "print(result.get_solution_result())\n",
        "print(\"x* = \", result.GetSolution(x))"
      ],
      "execution_count": 16,
      "outputs": [
        {
          "output_type": "stream",
          "text": [
            "SolutionResult.kSolutionFound\n",
            "x* =  [-9.98999994e-09  1.00000000e+00]\n"
          ],
          "name": "stdout"
        }
      ]
    },
    {
      "cell_type": "markdown",
      "metadata": {
        "id": "XdoK4WS5a37y",
        "colab_type": "text"
      },
      "source": [
        "Also note that if we know which solver is called, then we can access some solver-specific result, by calling `result.get_solver_details()`. For example, `IpoptSolverDetails` contains a field `status`, namely the status code of the IPOPT solver, we could access this info by"
      ]
    },
    {
      "cell_type": "code",
      "metadata": {
        "id": "iMFkLfRWa37z",
        "colab_type": "code",
        "outputId": "461d1011-c24b-491f-bfbf-f41a6ce83e94",
        "colab": {
          "base_uri": "https://localhost:8080/",
          "height": 34
        }
      },
      "source": [
        "print(\"Ipopt solver status: \", result.get_solver_details().status,\n",
        "      \", meaning \", result.get_solver_details().ConvertStatusToString())"
      ],
      "execution_count": 17,
      "outputs": [
        {
          "output_type": "stream",
          "text": [
            "Ipopt solver status:  0 , meaning  Success\n"
          ],
          "name": "stdout"
        }
      ]
    },
    {
      "cell_type": "markdown",
      "metadata": {
        "id": "OiHLSU4La373",
        "colab_type": "text"
      },
      "source": [
        "Each solver has its own details. You should refer to `XXXSolverDetails` class on what is stored inside the return argument of `result.get_solver_details()`. For example, if you know that IPOPT is called, then refer to `IpoptSolverDetails` class; for OSQP solver, refer to `OsqpSolverDetails`, etc.\n",
        "\n",
        "### Setting solver options\n",
        "When calling `Solve()` function, drake will use the default options for the solver (iterations, optimality tolerance, etc). You could modify these options in two ways, by either calling `MathematicalProgram::SetSolverOption`, or pass a `SolverOptions` argument to the `Solve()` function.\n",
        "\n",
        "#### Calling MathematicalProgram::SetSolverOption\n",
        "By calling `MathematicalProgram::SetSolverOption(solver_id, option_name, option_value)`, you can set a parameter for a specific solver (with the matching `solver_id`). The `option_name` is specific to that solver (for example, [here](https://www.coin-or.org/Ipopt/documentation/node40.html) is a list of IPOPT parameters). Note that `MathematicalProgram` object will store this solver parameter, and this parameter will be applied in the `Solve()` call, if that specific solver (with the matching `solver_id`) is invoked.\n",
        "\n",
        "In the following code snippet, we show an example of setting the options of IPOPT."
      ]
    },
    {
      "cell_type": "code",
      "metadata": {
        "id": "Qci2NasKa373",
        "colab_type": "code",
        "outputId": "b6c83eea-a0f8-43eb-8bae-f2a9204b7261",
        "colab": {
          "base_uri": "https://localhost:8080/",
          "height": 69
        }
      },
      "source": [
        "from pydrake.solvers.mathematicalprogram import SolverOptions\n",
        "from pydrake.solvers.ipopt import IpoptSolver\n",
        "prog = MathematicalProgram()\n",
        "x = prog.NewContinuousVariables(2)\n",
        "prog.AddCost(x[0]**2 + x[1] ** 2)\n",
        "prog.AddConstraint(x[0] + x[1] == 1)\n",
        "\n",
        "# Set the maximum iteration for IPOPT to be 1.\n",
        "# max_iter is a parameter of IPOPT solver, explained in\n",
        "# https://www.coin-or.org/Ipopt/documentation/node42.html\n",
        "prog.SetSolverOption(IpoptSolver().solver_id(), \"max_iter\", 1)\n",
        "solver = IpoptSolver()\n",
        "result = solver.Solve(prog, np.array([10, 1]), None)\n",
        "# With fewer maximum iteration, IPOPT hasn't converged to optimality yet (The true optimal is [0.5, 0.5])\n",
        "print(\"Success? \", result.is_success())\n",
        "print(result.get_solution_result())\n",
        "print(\"IPOPT x*= \", result.GetSolution(x))"
      ],
      "execution_count": 18,
      "outputs": [
        {
          "output_type": "stream",
          "text": [
            "Success?  False\n",
            "SolutionResult.kIterationLimit\n",
            "IPOPT x*=  [-4.  5.]\n"
          ],
          "name": "stdout"
        }
      ]
    },
    {
      "cell_type": "markdown",
      "metadata": {
        "id": "Z0fpvfm9a377",
        "colab_type": "text"
      },
      "source": [
        "Also note that setting the parameter of a solver **doesn't** mean that `result = Solve(prog)` will invoke that solver. The invoked solver is determined by Drake, to choose whichever solver it thinks most appropriate.\n",
        "\n",
        "In the following snippet, although we set the solver options for IPOPT, Drake chooses another solver (which can solve this particular problem in the closed form.)"
      ]
    },
    {
      "cell_type": "code",
      "metadata": {
        "id": "78nmjt1Ya378",
        "colab_type": "code",
        "outputId": "9d87820c-2280-4bf2-ac6b-68f77723a3a7",
        "colab": {
          "base_uri": "https://localhost:8080/",
          "height": 34
        }
      },
      "source": [
        "prog.SetSolverOption(IpoptSolver().solver_id(), \"max_iter\", 1)\n",
        "result = Solve(prog)\n",
        "print(result.get_solver_id().name())"
      ],
      "execution_count": 19,
      "outputs": [
        {
          "output_type": "stream",
          "text": [
            "Equality constrained QP\n"
          ],
          "name": "stdout"
        }
      ]
    },
    {
      "cell_type": "markdown",
      "metadata": {
        "id": "FytfJcsha38B",
        "colab_type": "text"
      },
      "source": [
        "#### Passing a SolverOptions to Solve function\n",
        "Another way of setting the solver options is to pass in a `SolverOptions` object as an argument to `Solve` function. `MathematicalProgram` will *not* store this `SolverOptions` object.\n",
        "\n",
        "In the following example, in the first `Solve` call, it uses the `SolverOptions` object to set the parameter for IPOPT; in the second `Solve` call, it uses the default IPOPT parameters, hence we get different results from two `Solve` calls."
      ]
    },
    {
      "cell_type": "code",
      "metadata": {
        "id": "4c_gOXMCa38B",
        "colab_type": "code",
        "outputId": "e4780b0f-19c2-4211-9bda-0770522e6dc0",
        "colab": {
          "base_uri": "https://localhost:8080/",
          "height": 87
        }
      },
      "source": [
        "prog = MathematicalProgram()\n",
        "x = prog.NewContinuousVariables(2)\n",
        "prog.AddCost(x[0]**2 + x[1] ** 2)\n",
        "prog.AddConstraint(x[0] + x[1] == 1)\n",
        "\n",
        "solver_options = SolverOptions()\n",
        "solver_options.SetOption(IpoptSolver().solver_id(), \"max_iter\", 1)\n",
        "solver = IpoptSolver()\n",
        "\n",
        "# Call Solve with solver_options, IPOPT will use `max_iter` = 1\n",
        "result = solver.Solve(prog, np.array([10, 1]), solver_options)\n",
        "print(\"Success? \", result.is_success())\n",
        "print(result.get_solution_result())\n",
        "# Call Solve without solver_options, IPOPT will use the default options.\n",
        "result = solver.Solve(prog, np.array([10, 1]), None)\n",
        "print(\"Success? \", result.is_success())\n",
        "print(result.get_solution_result())"
      ],
      "execution_count": 24,
      "outputs": [
        {
          "output_type": "stream",
          "text": [
            "Success?  False\n",
            "SolutionResult.kIterationLimit\n",
            "Success?  True\n",
            "SolutionResult.kSolutionFound\n"
          ],
          "name": "stdout"
        }
      ]
    },
    {
      "cell_type": "markdown",
      "metadata": {
        "id": "KYIf2oWua38G",
        "colab_type": "text"
      },
      "source": [
        "## Advanced tutorials\n",
        "\n",
        "[Sum-of-squares optimization](https://drive.google.com/open?id=1vBkNigMecvz7lGEF_9jyD0FuzYY_iTTf)"
      ]
    }
  ]
}