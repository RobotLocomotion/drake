{
 "cells": [
  {
   "cell_type": "code",
   "execution_count": null,
   "metadata": {
    "colab": {},
    "colab_type": "code",
    "id": "C-ycZqLXa36U"
   },
   "outputs": [],
   "source": [
    "try:\n",
    "  import pydrake\n",
    "except ImportError:\n",
    "  !curl -s https://raw.githubusercontent.com/RussTedrake/underactuated/master/scripts/setup/jupyter_setup.py > jupyter_setup.py\n",
    "  from jupyter_setup import setup_drake\n",
    "  setup_drake()\n",
    "# Note: On Google's Colaboratory, this will take a minute, but should only need to reinstall once every 12 hours.\n",
    "# Colab will ask you to \"Reset all runtimes\"; say no to save yourself the reinstall."
   ]
  },
  {
   "cell_type": "markdown",
   "metadata": {
    "colab_type": "text",
    "id": "S4S9Ou7aa36Z"
   },
   "source": [
    "# MathematicalProgram Tutorial\n",
    "\n",
    "\n",
    "\n"
   ]
  },
  {
   "cell_type": "markdown",
   "metadata": {
    "colab_type": "text",
    "id": "Nne5dQmulkvz"
   },
   "source": [
    "## Background\n",
    "Many engineering problems can be formulated as mathematical optimization problems, and solved by numerical solvers. A generic mathematical optimization problem can be formulated as\n",
    "\\begin{align}\n",
    "\\begin{array}{rl}\n",
    "                       \\min_x \\;  &  f(x)\n",
    "   \\\\[0.1pc]\\text{subject to}  \\;  &  x \\in\\mathcal{S}\n",
    "   \\end{array}\n",
    "   \\hspace{1.45em}\n",
    "   {\\scriptsize\n",
    "   \\begin{array}{|ll|}\n",
    "             \\hline \\text{The real-valued decision variable is}      & x\n",
    "       \\\\[-0.21pc]  \\text{The real-valued cost function is}          & f(x)\n",
    "       \\\\[-0.21pc]  \\text{The constraint set is}                     & \\mathcal{S}\n",
    "       \\\\[-0.21pc]  \\text{The optimal $x$ that minimizes the cost function is} & x^*\n",
    "       \\\\[0.03pc]\\hline\n",
    "   \\end{array}\n",
    "   }\n",
    "\\end{align}\n",
    "\n",
    "where $x$ is the real-valued decision variable(s), $f(x)$ is the real-valued *cost function*, $\\mathcal{S}$ is the constraint set for $x$. Our goal is to find the optimal $x^*$ within the constraint set $\\mathcal{S}$, such that $x^*$ minimizes the cost function $f(x)$.\n",
    "\n",
    "For example, the following optimization problem determines the value of $x$ \n",
    "that minimizes $x^3 + 2x + 1$ subject to $x \\ge 1$.\n",
    "\\begin{align}\n",
    "\\begin{array}{rl}\n",
    "                       \\min_x  &  x^3 + 2x + 1\n",
    "   \\\\[0.1pc] \\text{subject to}  &  x \\ge 1\n",
    "\\end{array}\n",
    "\\hspace{1.45em}\n",
    "{\\scriptsize\n",
    "\\begin{array}{|ll|}\n",
    "              \\hline \\text{The real-valued decision variable is}         &  x\n",
    "   \\\\[-0.21pc]       \\text{The real-valued cost function $f(x)$ is} &  x^3 + 2x + 1\n",
    "   \\\\[-0.21pc]       \\text{The set $\\mathcal{S}$ of constraints is}      &  x \\ge 1\n",
    "   \\\\[-0.21pc]       \\text{The value that minimizes the cost function is}    &  x^* = 1\n",
    "   \\\\[0.03pc]\\hline\n",
    "\\end{array}}\n",
    "\\end{align}\n",
    "\n",
    "In general, how an optimization problem is solved depends on its categorization (categories include Linear Programming, Quadratic Programming, Mixed-integer Programming, etc.). Categorization depends on properties of both the cost function $f(x)$ and the constraint set $\\mathcal{S}$. For example, if the cost function $f(x)$ is a linear function of $x$, and the constraint $\\mathcal{S}$ is a linear set $\\mathcal{S} = \\{x | Ax\\le b\\}$, then we have a *linear programming* problem, which is efficiently solved with certain solvers. \n",
    "\n",
    "There are multiple solvers for each category of optimization problems,\n",
    "but each solver has its own API and data structures.\n",
    "Frequently, users need to rewrite code when they switch solvers.\n",
    "To remedy this, Drake provides a common API through the *MathematicalProgram* class.\n",
    "In addition to avoiding solver-specific code,\n",
    "the constraint and cost functions can be written in symbolic form (which makes code more readable).\n",
    "In these ways, Drake's MathematicalProgram is akin to [YALMIP](https://yalmip.github.io/) in MATLAB or [JuMP](https://github.com/JuliaOpt/JuMP.jl) in Julia, and we support both Python and C++.\n",
    "<br> Note: Drake supports many [solvers](https://drake.mit.edu/doxygen_cxx/group__solvers.html)\n",
    "(some are open-source and some require a license).\n",
    "\n",
    "Drake can formulate and solve the following categories of optimization problems\n",
    "* Linear programming\n",
    "* Quadratic programming\n",
    "* Second-order cone programming\n",
    "* Nonlinear nonconvex programming\n",
    "* Semidefinite programming\n",
    "* Sum-of-squares programming\n",
    "* Mixed-integer programming (mixed-integer linear programming, mixed-integer quadratic programming, mixed-integer second-order cone programming).\n",
    "* Linear complementarity problem\n",
    "\n",
    "This tutorial provides the basics of Drake's MathematicalProgram.\n",
    "Advanced tutorials are available at\n",
    "<a href='#advanced_tutorials'>link</a>.\n"
   ]
  },
  {
   "cell_type": "markdown",
   "metadata": {
    "colab_type": "text",
    "id": "odPtbt6xlUH7"
   },
   "source": [
    "## Basics of MathematicalProgram class\n",
    "Drake's MathematicalProgram class contains the mathematical formulation of an optimization problem, namely the decision variables $x$, the cost function $f(x)$, and the constraint set $\\mathcal{S}$."
   ]
  },
  {
   "cell_type": "markdown",
   "metadata": {
    "colab_type": "text",
    "id": "Iwo9WogSlfaq"
   },
   "source": [
    "### Initialize a MathematicalProgram object\n",
    "\n",
    " To initialize this class, first create an empty MathematicalProgram as"
   ]
  },
  {
   "cell_type": "code",
   "execution_count": null,
   "metadata": {
    "colab": {},
    "colab_type": "code",
    "id": "gqUMmy1ca36a"
   },
   "outputs": [],
   "source": [
    "from pydrake.solvers.mathematicalprogram import MathematicalProgram\n",
    "import numpy as np\n",
    "\n",
    "# Create an empty MathematicalProgram named prog (with no decision variables, \n",
    "# constraints or cost function)\n",
    "prog = MathematicalProgram()"
   ]
  },
  {
   "cell_type": "markdown",
   "metadata": {
    "colab_type": "text",
    "id": "MmjAXkfGa36e"
   },
   "source": [
    "\n",
    "\n",
    "### Adding decision variables\n",
    "Shown below, the function `NewContinuousVariables` adds two new continuous decision variables to `prog`.  The newly added variables are returned as `x` in a numpy array. \n",
    "<br><font size=-1> Note the range of the variable is a continuous set, as opposed to binary variables which only take discrete value 0 or 1.</font>"
   ]
  },
  {
   "cell_type": "code",
   "execution_count": null,
   "metadata": {
    "colab": {},
    "colab_type": "code",
    "id": "5HiquOU4a36f"
   },
   "outputs": [],
   "source": [
    "x = prog.NewContinuousVariables(2)\n"
   ]
  },
  {
   "cell_type": "markdown",
   "metadata": {
    "colab_type": "text",
    "id": "cvIxJmbna36l"
   },
   "source": [
    "The default names of the variable in *x* are \"x(0)\" and \"x(1)\".  The next line prints the default names and types in `x`, whereas the second line prints the symbolic expression \"1 + 2x[0] + 3x[1] + 4x[1]\"."
   ]
  },
  {
   "cell_type": "code",
   "execution_count": null,
   "metadata": {
    "colab": {
     "base_uri": "https://localhost:8080/",
     "height": 52
    },
    "colab_type": "code",
    "id": "Ev5HTA2o-TrU",
    "outputId": "a8882fbf-d583-45f0-88ad-3ec218d780e6"
   },
   "outputs": [],
   "source": [
    "print(x)\n",
    "print(1 + 2*x[0] + 3*x[1] + 4*x[1])"
   ]
  },
  {
   "cell_type": "markdown",
   "metadata": {
    "colab_type": "text",
    "id": "CvReLocd-aTF"
   },
   "source": [
    "To create an array `y` of two variables named \"dog(0)\"\" and \"dog(1)\", pass the name \"dog\" as a second argument to `NewContinuousVariables()`. Also shown below is the printout of the two variables in `y` and a symbolic expression involving `y`."
   ]
  },
  {
   "cell_type": "code",
   "execution_count": null,
   "metadata": {
    "colab": {
     "base_uri": "https://localhost:8080/",
     "height": 52
    },
    "colab_type": "code",
    "id": "bZ4GqLrsa36m",
    "outputId": "e253999e-2bd4-4e82-8f6a-8e963a2cac67"
   },
   "outputs": [],
   "source": [
    "y = prog.NewContinuousVariables(2, \"dog\")\n",
    "print(y)\n",
    "print(y[0] + y[0] + y[1] * y[1] * y[1])"
   ]
  },
  {
   "cell_type": "markdown",
   "metadata": {
    "colab_type": "text",
    "id": "ZHowgpEwa36q"
   },
   "source": [
    "To create a $3 \\times 2$ matrix of variables named \"A\", type "
   ]
  },
  {
   "cell_type": "code",
   "execution_count": null,
   "metadata": {
    "colab": {
     "base_uri": "https://localhost:8080/",
     "height": 69
    },
    "colab_type": "code",
    "id": "MikCWWRta36r",
    "outputId": "ffde2226-41aa-42fa-f58c-4b14bcea918e"
   },
   "outputs": [],
   "source": [
    "var_matrix = prog.NewContinuousVariables(3, 2, \"A\")\n",
    "print(var_matrix)"
   ]
  },
  {
   "cell_type": "markdown",
   "metadata": {
    "colab_type": "text",
    "id": "O2NVdNbba36w"
   },
   "source": [
    "### Adding constraints\n",
    "There are many ways to impose constraints on the decision variables. This tutorial shows a few simple examples. Refer to <a href='#advanced_tutorials'>advanced tutorials</a> for other types of constraints.\n",
    "\n"
   ]
  },
  {
   "cell_type": "markdown",
   "metadata": {
    "colab_type": "text",
    "id": "H0DI09IbGSwA"
   },
   "source": [
    "#### AddConstraint\n",
    "The simplest way to add a constraint is with `MathematicalProgram.AddConstraint()`."
   ]
  },
  {
   "cell_type": "code",
   "execution_count": null,
   "metadata": {
    "colab": {
     "base_uri": "https://localhost:8080/",
     "height": 34
    },
    "colab_type": "code",
    "id": "WTUu2Hv-a36x",
    "outputId": "e56deba3-3c72-4718-c88d-3c3e7a2f71f1"
   },
   "outputs": [],
   "source": [
    "# Add the constraint x(0) * x(1) = 1 to prog\n",
    "prog.AddConstraint(x[0] * x[1] == 1)"
   ]
  },
  {
   "cell_type": "markdown",
   "metadata": {
    "colab_type": "text",
    "id": "C-W03yW3a360"
   },
   "source": [
    "\n",
    "You can also add inequality constraints to `prog` such as"
   ]
  },
  {
   "cell_type": "code",
   "execution_count": null,
   "metadata": {
    "colab": {
     "base_uri": "https://localhost:8080/",
     "height": 34
    },
    "colab_type": "code",
    "id": "8V883soUa361",
    "outputId": "88e9b2ca-659c-405f-9987-8b1a41918036"
   },
   "outputs": [],
   "source": [
    "prog.AddConstraint(x[0] >= 0)\n",
    "prog.AddConstraint(x[0] - x[1] <= 0)"
   ]
  },
  {
   "cell_type": "markdown",
   "metadata": {
    "colab_type": "text",
    "id": "PYvi9bC9a365"
   },
   "source": [
    "`prog` automatically analyzes these symbolic inequality constraint expressions and determines they are all *linear* constraints on $x$."
   ]
  },
  {
   "cell_type": "markdown",
   "metadata": {
    "colab_type": "text",
    "id": "j0pP6qRVa37J"
   },
   "source": [
    "### Adding Cost functions\n",
    "In a complicated optimization problem, it is often convenient to write the total cost function $f(x)$ as a sum of individual cost functions\n",
    "\\begin{align}\n",
    "f(x) = \\sum_i g_i(x)\n",
    "\\end{align}"
   ]
  },
  {
   "cell_type": "markdown",
   "metadata": {
    "colab_type": "text",
    "id": "9tSA9P9ZKsfr"
   },
   "source": [
    "\n",
    "#### AddCost method.\n",
    "The simplest way to add an individual cost function $g_i(x)$ to the total cost function $f(x)$ is with the `MathematicalProgram.AddCost()` method (as shown below)."
   ]
  },
  {
   "cell_type": "code",
   "execution_count": null,
   "metadata": {
    "colab": {
     "base_uri": "https://localhost:8080/",
     "height": 34
    },
    "colab_type": "code",
    "id": "DTucXQ6ia37K",
    "outputId": "bb4ed490-18f1-440f-88a0-63da310b4970"
   },
   "outputs": [],
   "source": [
    "# Add a cost x(0)**2 + 3 to the total cost. Since prog doesn't have a cost before, now the total cost is x(0)**2 + 3\n",
    "prog.AddCost(x[0] ** 2 + 3)"
   ]
  },
  {
   "cell_type": "markdown",
   "metadata": {
    "colab_type": "text",
    "id": "LzGKnca8a37O"
   },
   "source": [
    "To add another individual cost function $x(0) + x(1)$ to the total cost function $f(x)$, simply call `AddCost()` again as follows"
   ]
  },
  {
   "cell_type": "code",
   "execution_count": null,
   "metadata": {
    "colab": {
     "base_uri": "https://localhost:8080/",
     "height": 34
    },
    "colab_type": "code",
    "id": "-LvpSEHsa37Q",
    "outputId": "4d92e916-e0f7-42c6-ba2f-e26190bdd668"
   },
   "outputs": [],
   "source": [
    "prog.AddCost(x[0] + x[1])"
   ]
  },
  {
   "cell_type": "markdown",
   "metadata": {
    "colab_type": "text",
    "id": "aJ5R1Uy4a37V"
   },
   "source": [
    "now the total cost function becomes $x(0)^2 + x(0) + x(1) + 3$.\n",
    "\n",
    "`prog` can analyze each of these individual cost functions and determine that $x(0) ^ 2 + 3$  is a convex quadratic function, and $x(0) + x(1)$ is a linear function of $x$."
   ]
  },
  {
   "cell_type": "markdown",
   "metadata": {
    "colab_type": "text",
    "id": "JCyqkKnsa37d"
   },
   "source": [
    "### Solve the optimization problem\n",
    "Once all the decision variables/constraints/costs are added to `prog`, we are ready to solve the optimization problem.\n",
    "\n"
   ]
  },
  {
   "cell_type": "markdown",
   "metadata": {
    "colab_type": "text",
    "id": "KA8GxrF_prhb"
   },
   "source": [
    "#### Automatically choosing a solver\n",
    "The simplest way to solve the optimization problem is to call `Solve()` function. Drake's MathematicalProgram analyzes the type of the constraints/costs, and then calls an appropriate solver for your problem. The result of calling `Solve()` is stored inside the return argument. Here is a code snippet"
   ]
  },
  {
   "cell_type": "code",
   "execution_count": null,
   "metadata": {
    "colab": {
     "base_uri": "https://localhost:8080/",
     "height": 87
    },
    "colab_type": "code",
    "id": "7_0DXEHIa37f",
    "outputId": "c4f880b4-f396-4249-b417-ace66264bc37"
   },
   "outputs": [],
   "source": [
    "\"\"\"\n",
    "Solves a simple optimization problem\n",
    "       min x(0)^2 + x(1)^2\n",
    "subject to x(0) + x(1) = 1\n",
    "           x(0) <= x(1)\n",
    "\"\"\"\n",
    "from pydrake.solvers.mathematicalprogram import Solve\n",
    "# Set up the optimization problem.\n",
    "prog = MathematicalProgram()\n",
    "x = prog.NewContinuousVariables(2)\n",
    "prog.AddConstraint(x[0] + x[1] == 1)\n",
    "prog.AddConstraint(x[0] <= x[1])\n",
    "prog.AddCost(x[0] **2 + x[1] ** 2)\n",
    "\n",
    "# Now solve the optimization problem.\n",
    "result = Solve(prog)\n",
    "\n",
    "# print out the result.\n",
    "print(\"Success? \", result.is_success())\n",
    "# Print the solution to the decision variables.\n",
    "print('x* = ', result.GetSolution(x))\n",
    "# Print the optimal cost.\n",
    "print('optimal cost = ', result.get_optimal_cost())\n",
    "# Print the name of the solver that was called.\n",
    "print('solver is: ', result.get_solver_id().name())"
   ]
  },
  {
   "cell_type": "markdown",
   "metadata": {
    "colab_type": "text",
    "id": "N9LAIGvBa37j"
   },
   "source": [
    "Notice that we can then retrieve optimization result from the return argument of `Solve`. For example, the solution $x^*$ is retrieved from `result.GetSolution()`, and the optimal cost from `result.get_optimal_cost()`.\n",
    "\n",
    "Some optimization solution is infeasible (doesn't have a solution). For example in the following code example, `result.get_solution_result()` will not report `kSolutionFound`."
   ]
  },
  {
   "cell_type": "code",
   "execution_count": null,
   "metadata": {
    "colab": {
     "base_uri": "https://localhost:8080/",
     "height": 52
    },
    "colab_type": "code",
    "id": "qX4ecsGfa37l",
    "outputId": "ceb40054-6456-4490-e8e0-dc86d76d7b6c"
   },
   "outputs": [],
   "source": [
    "\"\"\"\n",
    "An infeasible optimization problem.\n",
    "\"\"\"\n",
    "prog = MathematicalProgram()\n",
    "x = prog.NewContinuousVariables(1)[0]\n",
    "y = prog.NewContinuousVariables(1)[0]\n",
    "prog.AddConstraint(x + y >= 1)\n",
    "prog.AddConstraint(x + y <= 0)\n",
    "prog.AddCost(x)\n",
    "\n",
    "result = Solve(prog)\n",
    "print(\"Success? \", result.is_success())\n",
    "print(result.get_solution_result())"
   ]
  },
  {
   "cell_type": "markdown",
   "metadata": {
    "colab_type": "text",
    "id": "c6WzXH2Za37q"
   },
   "source": [
    "#### Manually choosing a solver\n",
    "\n",
    "If you want to choose a solver yourself, rather than Drake choosing one for you, you could instantiate a solver explicitly, and call its `Solve` function. For example, if I want to solve a problem using the open-source solver [IPOPT](https://github.com/coin-or/Ipopt), here is a code snippet"
   ]
  },
  {
   "cell_type": "code",
   "execution_count": null,
   "metadata": {
    "colab": {
     "base_uri": "https://localhost:8080/",
     "height": 87
    },
    "colab_type": "code",
    "id": "6jdsX74Ja37r",
    "outputId": "affbe872-503b-4825-aae0-6b03e9d891fd"
   },
   "outputs": [],
   "source": [
    "\"\"\"\n",
    "Demo on manually choosing a solver\n",
    "Solves the problem\n",
    "min x(0)\n",
    "s.t x(0) + x(1) = 1\n",
    "    0 <= x(1) <= 1\n",
    "\"\"\"\n",
    "from pydrake.solvers.ipopt import IpoptSolver\n",
    "prog = MathematicalProgram()\n",
    "x = prog.NewContinuousVariables(2)\n",
    "prog.AddConstraint(x[0] + x[1] == 1)\n",
    "prog.AddConstraint(0 <= x[1])\n",
    "prog.AddConstraint(x[1] <= 1)\n",
    "prog.AddCost(x[0])\n",
    "\n",
    "# Choose IPOPT as the solver.\n",
    "# First instantiate an IPOPT solver.\n",
    "\n",
    "solver = IpoptSolver()\n",
    "# The initial guess is [1, 1]. The third argument is the options for Ipopt solver,\n",
    "# and we set no solver options.\n",
    "result = solver.Solve(prog, np.array([1, 1]), None)\n",
    "\n",
    "print(result.get_solution_result())\n",
    "print(\"x* = \", result.GetSolution(x))\n",
    "print(\"Solver is \", result.get_solver_id().name())\n",
    "print(\"Ipopt solver status: \", result.get_solver_details().status,\n",
    "      \", meaning \", result.get_solver_details().ConvertStatusToString())\n"
   ]
  },
  {
   "cell_type": "markdown",
   "metadata": {
    "colab_type": "text",
    "id": "CjkRko7ka37u"
   },
   "source": [
    "Note that `solver.Solve()` expects three input arguments, the optimization program `prog`, the initial guess of the decision variable values (`[1, 1]` in this case), and an optional setting for the solver (`None` in this case, we use the default IPOPT setting). If you don't have an initial guess, you can substitute `np.array([1, 1])` with `None`. The solver will choose an initial guess automatically, as shown in the code below"
   ]
  },
  {
   "cell_type": "code",
   "execution_count": null,
   "metadata": {
    "colab": {
     "base_uri": "https://localhost:8080/",
     "height": 52
    },
    "colab_type": "code",
    "id": "QFhLLwbOa37v",
    "outputId": "117c7fab-b2ef-4339-b251-9627fc39920e"
   },
   "outputs": [],
   "source": [
    "result = solver.Solve(prog, None, None)\n",
    "print(result.get_solution_result())\n",
    "print(\"x* = \", result.GetSolution(x))"
   ]
  },
  {
   "cell_type": "markdown",
   "metadata": {
    "colab_type": "text",
    "id": "XdoK4WS5a37y"
   },
   "source": [
    "Also note that if we know which solver is called, then we can access some solver-specific result, by calling `result.get_solver_details()`. For example, `IpoptSolverDetails` contains a field `status`, namely the status code of the IPOPT solver, we could access this info by"
   ]
  },
  {
   "cell_type": "code",
   "execution_count": null,
   "metadata": {
    "colab": {
     "base_uri": "https://localhost:8080/",
     "height": 34
    },
    "colab_type": "code",
    "id": "iMFkLfRWa37z",
    "outputId": "31e6a98a-355d-42ac-e1dc-f92f9289e0f1"
   },
   "outputs": [],
   "source": [
    "print(\"Ipopt solver status: \", result.get_solver_details().status,\n",
    "      \", meaning \", result.get_solver_details().ConvertStatusToString())"
   ]
  },
  {
   "cell_type": "markdown",
   "metadata": {
    "colab_type": "text",
    "id": "OiHLSU4La373"
   },
   "source": [
    "Each solver has its own details. You should refer to `XXXSolverDetails` class on what is stored inside the return argument of `result.get_solver_details()`. For example, if you know that IPOPT is called, then refer to `IpoptSolverDetails` class; for OSQP solver, refer to `OsqpSolverDetails`, etc.\n",
    "\n",
    "### Setting solver options\n",
    "When calling `Solve()` function, drake will use the default options for the solver (iterations, optimality tolerance, etc). You could modify these options in two ways, by either calling `MathematicalProgram::SetSolverOption`, or pass a `SolverOptions` argument to the `Solve()` function.\n",
    "\n"
   ]
  },
  {
   "cell_type": "markdown",
   "metadata": {
    "colab_type": "text",
    "id": "EBfXGQ-m2v0G"
   },
   "source": [
    "#### Calling MathematicalProgram::SetSolverOption\n",
    "By calling `MathematicalProgram::SetSolverOption(solver_id, option_name, option_value)`, you can set a parameter for a specific solver (with the matching `solver_id`). The `option_name` is specific to that solver (for example, [here](https://www.coin-or.org/Ipopt/documentation/node40.html) is a list of IPOPT parameters). Note that `MathematicalProgram` object will store this solver parameter, and this parameter will be applied in the `Solve()` call, if that specific solver (with the matching `solver_id`) is invoked.\n",
    "\n",
    "In the following code snippet, we show an example of setting the options of IPOPT."
   ]
  },
  {
   "cell_type": "code",
   "execution_count": null,
   "metadata": {
    "colab": {
     "base_uri": "https://localhost:8080/",
     "height": 69
    },
    "colab_type": "code",
    "id": "Qci2NasKa373",
    "outputId": "b6795210-e4cf-4e5e-ceb0-aff143ce355e"
   },
   "outputs": [],
   "source": [
    "from pydrake.solvers.mathematicalprogram import SolverOptions\n",
    "from pydrake.solvers.ipopt import IpoptSolver\n",
    "prog = MathematicalProgram()\n",
    "x = prog.NewContinuousVariables(2)\n",
    "prog.AddCost(x[0]**2 + x[1] ** 2)\n",
    "prog.AddConstraint(x[0] + x[1] == 1)\n",
    "\n",
    "# Set the maximum iteration for IPOPT to be 1.\n",
    "# max_iter is a parameter of IPOPT solver, explained in\n",
    "# https://www.coin-or.org/Ipopt/documentation/node42.html\n",
    "prog.SetSolverOption(IpoptSolver().solver_id(), \"max_iter\", 1)\n",
    "solver = IpoptSolver()\n",
    "result = solver.Solve(prog, np.array([10, 1]), None)\n",
    "# With fewer maximum iteration, IPOPT hasn't converged to optimality yet (The true optimal is [0.5, 0.5])\n",
    "print(\"Success? \", result.is_success())\n",
    "print(result.get_solution_result())\n",
    "print(\"IPOPT x*= \", result.GetSolution(x))"
   ]
  },
  {
   "cell_type": "markdown",
   "metadata": {
    "colab_type": "text",
    "id": "Z0fpvfm9a377"
   },
   "source": [
    "Also note that setting the parameter of a solver **doesn't** mean that `result = Solve(prog)` will invoke that solver. The invoked solver is determined by Drake, to choose whichever solver it thinks most appropriate.\n",
    "\n",
    "In the following snippet, although we set the solver options for IPOPT, Drake chooses another solver (which can solve this particular problem in the closed form.)"
   ]
  },
  {
   "cell_type": "code",
   "execution_count": null,
   "metadata": {
    "colab": {
     "base_uri": "https://localhost:8080/",
     "height": 34
    },
    "colab_type": "code",
    "id": "78nmjt1Ya378",
    "outputId": "2912cc5d-7868-4628-d86e-70c152664e61"
   },
   "outputs": [],
   "source": [
    "prog.SetSolverOption(IpoptSolver().solver_id(), \"max_iter\", 1)\n",
    "result = Solve(prog)\n",
    "print(result.get_solver_id().name())"
   ]
  },
  {
   "cell_type": "markdown",
   "metadata": {
    "colab_type": "text",
    "id": "FytfJcsha38B"
   },
   "source": [
    "#### Passing a SolverOptions to Solve function\n",
    "Another way of setting the solver options is to pass in a `SolverOptions` object as an argument to `Solve` function. `MathematicalProgram` will *not* store this `SolverOptions` object.\n",
    "\n",
    "In the following example, in the first `Solve` call, it uses the `SolverOptions` object to set the parameter for IPOPT; in the second `Solve` call, it uses the default IPOPT parameters, hence we get different results from two `Solve` calls."
   ]
  },
  {
   "cell_type": "code",
   "execution_count": null,
   "metadata": {
    "colab": {
     "base_uri": "https://localhost:8080/",
     "height": 87
    },
    "colab_type": "code",
    "id": "4c_gOXMCa38B",
    "outputId": "fbaa0694-2830-422a-f68c-f889f892b4bc"
   },
   "outputs": [],
   "source": [
    "prog = MathematicalProgram()\n",
    "x = prog.NewContinuousVariables(2)\n",
    "prog.AddCost(x[0]**2 + x[1] ** 2)\n",
    "prog.AddConstraint(x[0] + x[1] == 1)\n",
    "\n",
    "solver_options = SolverOptions()\n",
    "solver_options.SetOption(IpoptSolver().solver_id(), \"max_iter\", 1)\n",
    "solver = IpoptSolver()\n",
    "\n",
    "# Call Solve with solver_options, IPOPT will use `max_iter` = 1\n",
    "result = solver.Solve(prog, np.array([10, 1]), solver_options)\n",
    "print(\"Success? \", result.is_success())\n",
    "print(result.get_solution_result())\n",
    "# Call Solve without solver_options, IPOPT will use the default options.\n",
    "result = solver.Solve(prog, np.array([10, 1]), None)\n",
    "print(\"Success? \", result.is_success())\n",
    "print(result.get_solution_result())"
   ]
  },
  {
   "cell_type": "markdown",
   "metadata": {
    "colab_type": "text",
    "id": "KYIf2oWua38G"
   },
   "source": [
    "## Advanced tutorials\n",
    "<a id='advanced_tutorials'></a>\n",
    "\n",
    "[Sum-of-squares optimization](https://drive.google.com/open?id=1vBkNigMecvz7lGEF_9jyD0FuzYY_iTTf)"
   ]
  }
 ],
 "metadata": {
  "colab": {
   "collapsed_sections": [],
   "name": "MathematicalProgram tutorial.ipynb",
   "provenance": [],
   "version": "0.3.2"
  },
  "kernelspec": {
   "display_name": "Python 3",
   "language": "python",
   "name": "python3"
  },
  "language_info": {
   "codemirror_mode": {
    "name": "ipython",
    "version": 3
   },
   "file_extension": ".py",
   "mimetype": "text/x-python",
   "name": "python",
   "nbconvert_exporter": "python",
   "pygments_lexer": "ipython3",
   "version": "3.6.8"
  }
 },
 "nbformat": 4,
 "nbformat_minor": 1
}
